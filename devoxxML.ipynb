{
 "metadata": {
  "name": ""
 },
 "nbformat": 3,
 "nbformat_minor": 0,
 "worksheets": [
  {
   "cells": [
    {
     "cell_type": "markdown",
     "metadata": {},
     "source": [
      "<h1 align=\"center\">Using Machine Learning To Pick Your Lottery Numbers</h1> "
     ]
    },
    {
     "cell_type": "markdown",
     "metadata": {},
     "source": [
      "*Disclaimer : I'm not a lottery player... This NoteBook will **not** make you rich, as on average, you lose money when you play*"
     ]
    },
    {
     "cell_type": "heading",
     "level": 1,
     "metadata": {},
     "source": [
      "The pitch"
     ]
    },
    {
     "cell_type": "markdown",
     "metadata": {},
     "source": [
      "It is well known that **people are not creative when they choose their lottery numbers** : indeed, they pick their birth dates, draw some particular shapes on the grid (lines, cross, ...), etc ...\n",
      "\n",
      "This is not very smart. Because if you win, as many other players choosed the same numbers, the prize is split and **you win less money** (*in average*) :(\n",
      "\n",
      "For example in USA on 2011 january 11th, there has been an extrordinary number of winners. Why ? Because the drawn combination was 4 \u2013 8 \u2013 15 \u2013 25 \u2013 47 / 42. Well, it turns out that these numbers are close to the one that appear in an episod of the TV series \"Lost\". "
     ]
    },
    {
     "cell_type": "code",
     "collapsed": false,
     "input": [
      "from IPython.display import YouTubeVideo\n",
      "YouTubeVideo(\"65FLP1ChetI\")"
     ],
     "language": "python",
     "metadata": {},
     "outputs": [
      {
       "html": [
        "\n",
        "        <iframe\n",
        "            width=\"400\"\n",
        "            height=300\"\n",
        "            src=\"https://www.youtube.com/embed/65FLP1ChetI\"\n",
        "            frameborder=\"0\"\n",
        "            allowfullscreen\n",
        "        ></iframe>\n",
        "        "
       ],
       "metadata": {},
       "output_type": "pyout",
       "prompt_number": 2,
       "text": [
        "<IPython.lib.display.YouTubeVideo at 0x104c075d0>"
       ]
      }
     ],
     "prompt_number": 2
    },
    {
     "cell_type": "heading",
     "level": 3,
     "metadata": {},
     "source": [
      "How to choose your lottery numbers ? \"Not all combinations are born equal\" [0]"
     ]
    },
    {
     "cell_type": "markdown",
     "metadata": {},
     "source": [
      "To optimize your earning expectation, **you should play combinations that are not chosen by any other player**. By doing this, if you win, you have chances to win more. \n",
      "\n",
      "However, the problem is to know in advance the numbers or combinations rarely played. This information is known by the lottery organizers, but is kept secret. \n",
      "\n",
      "The **goal of this notebook** is to explore if Machine Learning can help us to discriminate \"human generated\" combinations, from \"machine generated\" (a.k.a. random) combinations."
     ]
    },
    {
     "cell_type": "heading",
     "level": 3,
     "metadata": {},
     "source": [
      "The most difficult thing about Big Data ? Getting the data"
     ]
    },
    {
     "cell_type": "markdown",
     "metadata": {},
     "source": [
      "The data comes from [OneWinner.Me](http://www.onewinner.me). This is a crowdsourcing platform, where players can submit their lottery combinations, to check their originality. So we have in hand a set of several thousand of \"human generated\" lottery combinations : this constitutes the starting point of our study"
     ]
    },
    {
     "cell_type": "heading",
     "level": 1,
     "metadata": {},
     "source": [
      "What you will learn in this notebook"
     ]
    },
    {
     "cell_type": "markdown",
     "metadata": {},
     "source": [
      "In this notebook, we will follow a simplified, but **typical Data Science process** :\n",
      "\n",
      "* Data acquisition\n",
      "* Data ingestion / cleaning / wrangling (yes, \"Data hygienist\" is really an existing job ...)\n",
      "* Data visualization / analysis\n",
      "* Features engineering\n",
      "* Machine learning modeling\n",
      "    * model building\n",
      "    * model performance assessment\n",
      "    * model deployment\n",
      "* Data story telling\n",
      "    * presentation\n",
      "    * dissemination\n",
      "\n",
      "You will also discover use of **vital Data Science tools** :\n",
      "\n",
      "* pandas : the Python library for Data manipulation\n",
      "* scikit-learn : the Python library for Machine Learning\n",
      "* matplotlib : the Python Dataviz library\n",
      "* IPython Notebook : the web-based Python interactive computational environment\n",
      "\n",
      "An you will see that Data Science can find **applications in unexpected areas** ... like gambling games !\n"
     ]
    },
    {
     "cell_type": "heading",
     "level": 1,
     "metadata": {},
     "source": [
      "Let's start the heavy job"
     ]
    },
    {
     "cell_type": "markdown",
     "metadata": {},
     "source": [
      "*\"Machine Learning without learning the Machinery\"* [1]"
     ]
    },
    {
     "cell_type": "heading",
     "level": 3,
     "metadata": {},
     "source": [
      "STEP 1 : Import the Data"
     ]
    },
    {
     "cell_type": "code",
     "collapsed": false,
     "input": [
      "from __future__ import print_function\n",
      "import pandas as pd\n",
      "import numpy as ny\n",
      "\n",
      "# Read \"human generated\" combinations, and keep only numbers (not stars in this tutorial)\n",
      "humandata = pd.read_csv(\"/Users/rkarma69/Desktop/OneDrive/python/toto_history.csv\", sep=\";\")\n",
      "humandata = humandata[['c1', 'c2', 'c3', 'c4', 'c5','c6']]\n",
      "humandatalen = humandata.shape[0]\n",
      "\n",
      "# Create a set of random combinations, with the same size as the \"human generated\" dataset\n",
      "randomdata = []\n",
      "for i in range(humandatalen):\n",
      "\trandomdata.append(sorted(np.random.choice(49,6, replace=False) + 1))\n",
      "randomdata = np.array(randomdata)\n",
      "randomdata = pd.DataFrame(randomdata, \n",
      "                          index = [i + humandatalen for i in range(humandatalen)], \n",
      "                          columns=['c1', 'c2', 'c3', 'c4', 'c5','c6'])\n",
      "randomdatalen = randomdata.shape[0]\n",
      "\n",
      "# Concatenate the 2 datasets : human + random\n",
      "alldata = humandata.append(randomdata)\n",
      "\n",
      "print(\"Number of human euromillions combinations : \", humandatalen)\n",
      "print(\"Number of random euromillions combinations : \", randomdatalen)\n",
      "print(humandata.head(10))\n",
      "print(randomdata.head(10))"
     ],
     "language": "python",
     "metadata": {},
     "outputs": [
      {
       "output_type": "stream",
       "stream": "stdout",
       "text": [
        "Number of human euromillions combinations :  8\n",
        "Number of random euromillions combinations :  8\n",
        "   c1  c2  c3  c4  c5  c6\n",
        "0   1   5  15  24  25  42\n",
        "1   5  10  19  32  38  44\n",
        "2   9  11  13  21  27  30\n",
        "3   5  12  16  22  26  46\n",
        "4  19  26  33  37  38  40\n",
        "5  17  21  28  29  39  47\n",
        "6  10  17  24  31  37  40\n",
        "7   1   6   7  23  30  45\n",
        "    c1  c2  c3  c4  c5  c6\n",
        "8    5  10  16  25  26  32\n",
        "9    9  29  34  36  40  42\n",
        "10  12  13  17  23  25  48\n",
        "11   2  14  18  22  37  38\n",
        "12   3  12  29  41  43  45\n",
        "13  21  23  32  42  45  49\n",
        "14  11  19  22  26  27  28\n",
        "15   2   6  27  35  38  47\n"
       ]
      }
     ],
     "prompt_number": 65
    },
    {
     "cell_type": "heading",
     "level": 3,
     "metadata": {},
     "source": [
      "STEP 2 : Get some insights"
     ]
    },
    {
     "cell_type": "markdown",
     "metadata": {},
     "source": [
      "*\"Regardless of the amount of data we have, we only have two eyeballs and one brain\"* [2]"
     ]
    },
    {
     "cell_type": "heading",
     "level": 4,
     "metadata": {},
     "source": [
      "First stats"
     ]
    },
    {
     "cell_type": "code",
     "collapsed": false,
     "input": [
      "print(humandata.describe())\n",
      "print(randomdata.describe())"
     ],
     "language": "python",
     "metadata": {},
     "outputs": [
      {
       "output_type": "stream",
       "stream": "stdout",
       "text": [
        "              c1         c2        c3         c4         c5         c6\n",
        "count   8.000000   8.000000   8.00000   8.000000   8.000000   8.000000\n",
        "mean    8.375000  13.500000  19.37500  27.375000  32.500000  41.750000\n",
        "std     6.781013   7.309485   8.50105   5.730557   6.071008   5.418223\n",
        "min     1.000000   5.000000   7.00000  21.000000  25.000000  30.000000\n",
        "25%     4.000000   9.000000  14.50000  22.750000  26.750000  40.000000\n",
        "50%     7.000000  11.500000  17.50000  26.500000  33.500000  43.000000\n",
        "75%    11.750000  18.000000  25.00000  31.250000  38.000000  45.250000\n",
        "max    19.000000  26.000000  33.00000  37.000000  39.000000  47.000000\n",
        "              c1         c2         c3         c4         c5         c6\n",
        "count   8.000000   8.000000   8.000000   8.000000   8.000000   8.000000\n",
        "mean    8.125000  15.750000  24.375000  31.250000  35.125000  41.125000\n",
        "std     6.556077   7.478541   7.069805   8.172253   7.989949   7.790791\n",
        "min     2.000000   6.000000  16.000000  22.000000  25.000000  28.000000\n",
        "25%     2.750000  11.500000  17.750000  24.500000  26.750000  36.500000\n",
        "50%     7.000000  13.500000  24.500000  30.500000  37.500000  43.500000\n",
        "75%    11.250000  20.000000  29.750000  37.250000  40.750000  47.250000\n",
        "max    21.000000  29.000000  34.000000  42.000000  45.000000  49.000000\n"
       ]
      }
     ],
     "prompt_number": 66
    },
    {
     "cell_type": "markdown",
     "metadata": {},
     "source": [
      "From the stats above, we see that statistical properties of the two datasets (human and random), are slighlty different."
     ]
    },
    {
     "cell_type": "heading",
     "level": 4,
     "metadata": {},
     "source": [
      "Which combinations are played, and how many times ?"
     ]
    },
    {
     "cell_type": "code",
     "collapsed": false,
     "input": [
      "humangroup = humandata.groupby(['c1', 'c2', 'c3', 'c4', 'c5','c6'])\n",
      "groupsize = humangroup.size(); groupsize.sort(ascending=False)\n",
      "print(groupsize)"
     ],
     "language": "python",
     "metadata": {},
     "outputs": [
      {
       "output_type": "stream",
       "stream": "stdout",
       "text": [
        "c1  c2  c3  c4  c5  c6\n",
        "19  26  33  37  38  40    1\n",
        "17  21  28  29  39  47    1\n",
        "10  17  24  31  37  40    1\n",
        "9   11  13  21  27  30    1\n",
        "5   12  16  22  26  46    1\n",
        "    10  19  32  38  44    1\n",
        "1   6   7   23  30  45    1\n",
        "    5   15  24  25  42    1\n",
        "dtype: int64\n"
       ]
      }
     ],
     "prompt_number": 67
    },
    {
     "cell_type": "markdown",
     "metadata": {},
     "source": [
      "The \"1 2 3 4 5 6\" combination is really a rock star .... The second most played combination is \"44 45 46 47 48 49\". Note also \"1 7 13 19 25\", wich is a diagonal on the grid"
     ]
    },
    {
     "cell_type": "heading",
     "level": 4,
     "metadata": {},
     "source": [
      "What are the most clicked numbers ?"
     ]
    },
    {
     "cell_type": "code",
     "collapsed": false,
     "input": [
      "freqs = []\n",
      "for val in range(60):\n",
      "    count = ((humandata['c1'] == val+1).sum() + \n",
      "             (humandata['c2'] == val+1).sum() + \n",
      "             (humandata['c3'] == val+1).sum() + \n",
      "             (humandata['c4'] == val+1).sum() + \n",
      "             (humandata['c5'] == val+1).sum() +\n",
      "             (humandata['c6'] == val+1).sum())\n",
      "            \n",
      "    freqs.append(count)\n",
      "\n",
      "ax = plt.gca(); ax.invert_yaxis()\n",
      "plt.gcf().set_size_inches(4, 5)\n",
      "heatmap = plt.pcolor(np.reshape(np.array(freqs), (10,6)), cmap=matplotlib.cm.Blues)"
     ],
     "language": "python",
     "metadata": {},
     "outputs": [
      {
       "metadata": {},
       "output_type": "display_data",
       "png": "[encoded data removed]",
       "text": [
        "<matplotlib.figure.Figure at 0x106f3cd50>"
       ]
      }
     ],
     "prompt_number": 15
    },
    {
     "cell_type": "code",
     "collapsed": false,
     "input": [
      "from IPython.core.display import Image \n",
      "Image(filename='/Users/rkarma69/Desktop/OneDrive/grid.jpg') "
     ],
     "language": "python",
     "metadata": {},
     "outputs": [
      {
       "jpeg": "[encoded data removed]",
       "metadata": {},
       "output_type": "pyout",
       "prompt_number": 17,
       "text": [
        "<IPython.core.display.Image at 0x106f68090>"
       ]
      }
     ],
     "prompt_number": 17
    },
    {
     "cell_type": "markdown",
     "metadata": {},
     "source": [
      "From the heatmap above, we can see that people **like the center** of the grid, and **fear the sides** ..."
     ]
    },
    {
     "cell_type": "heading",
     "level": 3,
     "metadata": {},
     "source": [
      "STEP 3 : Create the features"
     ]
    },
    {
     "cell_type": "markdown",
     "metadata": {},
     "source": [
      "*\"If people could see in high dimensions, machine learning would not be necessary\"* [3]"
     ]
    },
    {
     "cell_type": "heading",
     "level": 4,
     "metadata": {},
     "source": [
      "- Features #1, #2, #3, #4, #5,#6 : simply the c1, ... c6 numbers"
     ]
    },
    {
     "cell_type": "heading",
     "level": 4,
     "metadata": {},
     "source": [
      "- Features #6 and #7  : how many combination numbers are under 31 and under 12"
     ]
    },
    {
     "cell_type": "code",
     "collapsed": false,
     "input": [
      "def is_under(df, c):\n",
      "    return ((df['c1'] <= c).astype(int) + \n",
      "            (df['c2'] <= c).astype(int) + \n",
      "            (df['c3'] <= c).astype(int) + \n",
      "            (df['c4'] <= c).astype(int) + \n",
      "            (df['c5'] <= c).astype(int) +\n",
      "            (df['c6'] <= c).astype(int))\n",
      "\n",
      "usedfeatures = []\n",
      "alldata['nb_under_31'] = is_under(alldata, 31)\n",
      "alldata['nb_under_12'] = is_under(alldata, 12)\n",
      "print(\"it works !\")"
     ],
     "language": "python",
     "metadata": {},
     "outputs": [
      {
       "output_type": "stream",
       "stream": "stdout",
       "text": [
        "it works !\n"
       ]
      }
     ],
     "prompt_number": 50
    },
    {
     "cell_type": "heading",
     "level": 4,
     "metadata": {},
     "source": [
      "- Feature #8 : how many numbers are on the grid edge"
     ]
    },
    {
     "cell_type": "code",
     "collapsed": false,
     "input": [
      "def nb_in_edge(df):\n",
      "    return ((df['c1'].isin(edge)).astype(int) + \n",
      "            (df['c2'].isin(edge)).astype(int) + \n",
      "            (df['c3'].isin(edge)).astype(int) + \n",
      "            (df['c4'].isin(edge)).astype(int) + \n",
      "            (df['c5'].isin(edge)).astype(int) +\n",
      "            (df['c6'].isin(edge)).astype(int))\n",
      "edge = [1, 2, 3, 4, 5,6, 12, 18, 24, 25, 30, 36, 44, 45, 46, 47, 48, 49, 7,13,20,26,42]\n",
      "alldata['nb_in_edge'] = nb_in_edge(alldata)\n",
      "print(\"well done !\")"
     ],
     "language": "python",
     "metadata": {},
     "outputs": [
      {
       "output_type": "stream",
       "stream": "stdout",
       "text": [
        "well done !\n"
       ]
      }
     ],
     "prompt_number": 23
    },
    {
     "cell_type": "code",
     "collapsed": false,
     "input": [
      "import random\n",
      "# Human\n",
      "rowsh = random.sample(humandata.index, 70)\n",
      "# Random\n",
      "rowsr = random.sample(randomdata.index, 70)\n",
      "\n",
      "xh=[i + random.uniform(-0.2, 0.2) for i in alldata.ix[rowsh]['nb_in_edge']]\n",
      "yh=[i + random.uniform(-0.2, 0.2) for i in alldata.ix[rowsh]['nb_under_12']]\n",
      "\n",
      "xr=[i + random.uniform(-0.2, 0.2) for i in alldata.ix[rowsr]['nb_in_edge']]\n",
      "yr=[i + random.uniform(-0.2, 0.2) for i in alldata.ix[rowsr]['nb_under_12']]\n",
      "\n",
      "plt.figure() # make separate figure\n",
      "\n",
      "plt.subplot(1, 2, 1)   # creates the first subplot\n",
      "plot(xh, yh, 'gx'); plt.axis([-1, 6, -1, 6])\n",
      "plt.title('Human'); plt.xlabel('nb_in_edge'); plt.ylabel('nb_under_12')\n",
      "\n",
      "plt.subplot(1, 2, 2)   # creates the second subplot\n",
      "plot(xr, yr, 'rx'); plt.axis([-1, 6, -1, 6])\n",
      "plt.title('Random'); plt.xlabel('nb_in_edge'); plt.ylabel('nb_under_12')\n",
      "\n",
      "plt.subplots_adjust(right=2)\n",
      "\n",
      "show()"
     ],
     "language": "python",
     "metadata": {},
     "outputs": [
      {
       "ename": "ValueError",
       "evalue": "sample larger than population",
       "output_type": "pyerr",
       "traceback": [
        "\u001b[0;31m---------------------------------------------------------------------------\u001b[0m\n\u001b[0;31mValueError\u001b[0m                                Traceback (most recent call last)",
        "\u001b[0;32m<ipython-input-38-c1db25d53fa4>\u001b[0m in \u001b[0;36m<module>\u001b[0;34m()\u001b[0m\n\u001b[1;32m      1\u001b[0m \u001b[0;32mimport\u001b[0m \u001b[0mrandom\u001b[0m\u001b[0;34m\u001b[0m\u001b[0m\n\u001b[1;32m      2\u001b[0m \u001b[0;31m# Human\u001b[0m\u001b[0;34m\u001b[0m\u001b[0;34m\u001b[0m\u001b[0m\n\u001b[0;32m----> 3\u001b[0;31m \u001b[0mrowsh\u001b[0m \u001b[0;34m=\u001b[0m \u001b[0mrandom\u001b[0m\u001b[0;34m.\u001b[0m\u001b[0msample\u001b[0m\u001b[0;34m(\u001b[0m\u001b[0mhumandata\u001b[0m\u001b[0;34m.\u001b[0m\u001b[0mindex\u001b[0m\u001b[0;34m,\u001b[0m \u001b[0;36m70\u001b[0m\u001b[0;34m)\u001b[0m\u001b[0;34m\u001b[0m\u001b[0m\n\u001b[0m\u001b[1;32m      4\u001b[0m \u001b[0;31m# Random\u001b[0m\u001b[0;34m\u001b[0m\u001b[0;34m\u001b[0m\u001b[0m\n\u001b[1;32m      5\u001b[0m \u001b[0mrowsr\u001b[0m \u001b[0;34m=\u001b[0m \u001b[0mrandom\u001b[0m\u001b[0;34m.\u001b[0m\u001b[0msample\u001b[0m\u001b[0;34m(\u001b[0m\u001b[0mrandomdata\u001b[0m\u001b[0;34m.\u001b[0m\u001b[0mindex\u001b[0m\u001b[0;34m,\u001b[0m \u001b[0;36m70\u001b[0m\u001b[0;34m)\u001b[0m\u001b[0;34m\u001b[0m\u001b[0m\n",
        "\u001b[0;32m//anaconda/lib/python2.7/random.pyc\u001b[0m in \u001b[0;36msample\u001b[0;34m(self, population, k)\u001b[0m\n\u001b[1;32m    321\u001b[0m         \u001b[0mn\u001b[0m \u001b[0;34m=\u001b[0m \u001b[0mlen\u001b[0m\u001b[0;34m(\u001b[0m\u001b[0mpopulation\u001b[0m\u001b[0;34m)\u001b[0m\u001b[0;34m\u001b[0m\u001b[0m\n\u001b[1;32m    322\u001b[0m         \u001b[0;32mif\u001b[0m \u001b[0;32mnot\u001b[0m \u001b[0;36m0\u001b[0m \u001b[0;34m<=\u001b[0m \u001b[0mk\u001b[0m \u001b[0;34m<=\u001b[0m \u001b[0mn\u001b[0m\u001b[0;34m:\u001b[0m\u001b[0;34m\u001b[0m\u001b[0m\n\u001b[0;32m--> 323\u001b[0;31m             \u001b[0;32mraise\u001b[0m \u001b[0mValueError\u001b[0m\u001b[0;34m(\u001b[0m\u001b[0;34m\"sample larger than population\"\u001b[0m\u001b[0;34m)\u001b[0m\u001b[0;34m\u001b[0m\u001b[0m\n\u001b[0m\u001b[1;32m    324\u001b[0m         \u001b[0mrandom\u001b[0m \u001b[0;34m=\u001b[0m \u001b[0mself\u001b[0m\u001b[0;34m.\u001b[0m\u001b[0mrandom\u001b[0m\u001b[0;34m\u001b[0m\u001b[0m\n\u001b[1;32m    325\u001b[0m         \u001b[0m_int\u001b[0m \u001b[0;34m=\u001b[0m \u001b[0mint\u001b[0m\u001b[0;34m\u001b[0m\u001b[0m\n",
        "\u001b[0;31mValueError\u001b[0m: sample larger than population"
       ]
      }
     ],
     "prompt_number": 38
    },
    {
     "cell_type": "markdown",
     "metadata": {},
     "source": [
      "From the scatter plot above, we can see that the features distributions are not the same. The human distribution is **more stretched** than the random distribution."
     ]
    },
    {
     "cell_type": "code",
     "collapsed": false,
     "input": [
      "plt.title('Human'); plt.xlabel('nb_in_edge'); plt.axis([-4, 8, 0, 0.5])\n",
      "alldata.ix[rowsh]['nb_in_edge'].hist(bins=6, alpha=0.6, color='g', normed=True)\n",
      "alldata.ix[rowsh]['nb_in_edge'].plot(kind='kde', style='k--')"
     ],
     "language": "python",
     "metadata": {},
     "outputs": [
      {
       "ename": "NameError",
       "evalue": "name 'rowsh' is not defined",
       "output_type": "pyerr",
       "traceback": [
        "\u001b[0;31m---------------------------------------------------------------------------\u001b[0m\n\u001b[0;31mNameError\u001b[0m                                 Traceback (most recent call last)",
        "\u001b[0;32m<ipython-input-40-051964acd0df>\u001b[0m in \u001b[0;36m<module>\u001b[0;34m()\u001b[0m\n\u001b[1;32m      1\u001b[0m \u001b[0mplt\u001b[0m\u001b[0;34m.\u001b[0m\u001b[0mtitle\u001b[0m\u001b[0;34m(\u001b[0m\u001b[0;34m'Human'\u001b[0m\u001b[0;34m)\u001b[0m\u001b[0;34m;\u001b[0m \u001b[0mplt\u001b[0m\u001b[0;34m.\u001b[0m\u001b[0mxlabel\u001b[0m\u001b[0;34m(\u001b[0m\u001b[0;34m'nb_in_edge'\u001b[0m\u001b[0;34m)\u001b[0m\u001b[0;34m;\u001b[0m \u001b[0mplt\u001b[0m\u001b[0;34m.\u001b[0m\u001b[0maxis\u001b[0m\u001b[0;34m(\u001b[0m\u001b[0;34m[\u001b[0m\u001b[0;34m-\u001b[0m\u001b[0;36m4\u001b[0m\u001b[0;34m,\u001b[0m \u001b[0;36m8\u001b[0m\u001b[0;34m,\u001b[0m \u001b[0;36m0\u001b[0m\u001b[0;34m,\u001b[0m \u001b[0;36m0.5\u001b[0m\u001b[0;34m]\u001b[0m\u001b[0;34m)\u001b[0m\u001b[0;34m\u001b[0m\u001b[0m\n\u001b[0;32m----> 2\u001b[0;31m \u001b[0malldata\u001b[0m\u001b[0;34m.\u001b[0m\u001b[0mix\u001b[0m\u001b[0;34m[\u001b[0m\u001b[0mrowsh\u001b[0m\u001b[0;34m]\u001b[0m\u001b[0;34m[\u001b[0m\u001b[0;34m'nb_in_edge'\u001b[0m\u001b[0;34m]\u001b[0m\u001b[0;34m.\u001b[0m\u001b[0mhist\u001b[0m\u001b[0;34m(\u001b[0m\u001b[0mbins\u001b[0m\u001b[0;34m=\u001b[0m\u001b[0;36m6\u001b[0m\u001b[0;34m,\u001b[0m \u001b[0malpha\u001b[0m\u001b[0;34m=\u001b[0m\u001b[0;36m0.6\u001b[0m\u001b[0;34m,\u001b[0m \u001b[0mcolor\u001b[0m\u001b[0;34m=\u001b[0m\u001b[0;34m'g'\u001b[0m\u001b[0;34m,\u001b[0m \u001b[0mnormed\u001b[0m\u001b[0;34m=\u001b[0m\u001b[0mTrue\u001b[0m\u001b[0;34m)\u001b[0m\u001b[0;34m\u001b[0m\u001b[0m\n\u001b[0m\u001b[1;32m      3\u001b[0m \u001b[0malldata\u001b[0m\u001b[0;34m.\u001b[0m\u001b[0mix\u001b[0m\u001b[0;34m[\u001b[0m\u001b[0mrowsh\u001b[0m\u001b[0;34m]\u001b[0m\u001b[0;34m[\u001b[0m\u001b[0;34m'nb_in_edge'\u001b[0m\u001b[0;34m]\u001b[0m\u001b[0;34m.\u001b[0m\u001b[0mplot\u001b[0m\u001b[0;34m(\u001b[0m\u001b[0mkind\u001b[0m\u001b[0;34m=\u001b[0m\u001b[0;34m'kde'\u001b[0m\u001b[0;34m,\u001b[0m \u001b[0mstyle\u001b[0m\u001b[0;34m=\u001b[0m\u001b[0;34m'k--'\u001b[0m\u001b[0;34m)\u001b[0m\u001b[0;34m\u001b[0m\u001b[0m\n",
        "\u001b[0;31mNameError\u001b[0m: name 'rowsh' is not defined"
       ]
      },
      {
       "metadata": {},
       "output_type": "display_data",
       "png": "[encoded data removed]",
       "text": [
        "<matplotlib.figure.Figure at 0x106f232d0>"
       ]
      }
     ],
     "prompt_number": 40
    },
    {
     "cell_type": "code",
     "collapsed": false,
     "input": [
      "plt.title('Random'); plt.xlabel('nb_in_edge'); plt.axis([-4, 8, 0, 0.5])\n",
      "alldata.ix[rowsr]['nb_in_edge'].hist(bins=6, alpha=0.6, color='r', normed=True)\n",
      "alldata.ix[rowsr]['nb_in_edge'].plot(kind='kde', style='k--')"
     ],
     "language": "python",
     "metadata": {},
     "outputs": [
      {
       "ename": "NameError",
       "evalue": "name 'rowsr' is not defined",
       "output_type": "pyerr",
       "traceback": [
        "\u001b[0;31m---------------------------------------------------------------------------\u001b[0m\n\u001b[0;31mNameError\u001b[0m                                 Traceback (most recent call last)",
        "\u001b[0;32m<ipython-input-39-2f5ef75fedec>\u001b[0m in \u001b[0;36m<module>\u001b[0;34m()\u001b[0m\n\u001b[1;32m      1\u001b[0m \u001b[0mplt\u001b[0m\u001b[0;34m.\u001b[0m\u001b[0mtitle\u001b[0m\u001b[0;34m(\u001b[0m\u001b[0;34m'Random'\u001b[0m\u001b[0;34m)\u001b[0m\u001b[0;34m;\u001b[0m \u001b[0mplt\u001b[0m\u001b[0;34m.\u001b[0m\u001b[0mxlabel\u001b[0m\u001b[0;34m(\u001b[0m\u001b[0;34m'nb_in_edge'\u001b[0m\u001b[0;34m)\u001b[0m\u001b[0;34m;\u001b[0m \u001b[0mplt\u001b[0m\u001b[0;34m.\u001b[0m\u001b[0maxis\u001b[0m\u001b[0;34m(\u001b[0m\u001b[0;34m[\u001b[0m\u001b[0;34m-\u001b[0m\u001b[0;36m4\u001b[0m\u001b[0;34m,\u001b[0m \u001b[0;36m8\u001b[0m\u001b[0;34m,\u001b[0m \u001b[0;36m0\u001b[0m\u001b[0;34m,\u001b[0m \u001b[0;36m0.5\u001b[0m\u001b[0;34m]\u001b[0m\u001b[0;34m)\u001b[0m\u001b[0;34m\u001b[0m\u001b[0m\n\u001b[0;32m----> 2\u001b[0;31m \u001b[0malldata\u001b[0m\u001b[0;34m.\u001b[0m\u001b[0mix\u001b[0m\u001b[0;34m[\u001b[0m\u001b[0mrowsr\u001b[0m\u001b[0;34m]\u001b[0m\u001b[0;34m[\u001b[0m\u001b[0;34m'nb_in_edge'\u001b[0m\u001b[0;34m]\u001b[0m\u001b[0;34m.\u001b[0m\u001b[0mhist\u001b[0m\u001b[0;34m(\u001b[0m\u001b[0mbins\u001b[0m\u001b[0;34m=\u001b[0m\u001b[0;36m6\u001b[0m\u001b[0;34m,\u001b[0m \u001b[0malpha\u001b[0m\u001b[0;34m=\u001b[0m\u001b[0;36m0.6\u001b[0m\u001b[0;34m,\u001b[0m \u001b[0mcolor\u001b[0m\u001b[0;34m=\u001b[0m\u001b[0;34m'r'\u001b[0m\u001b[0;34m,\u001b[0m \u001b[0mnormed\u001b[0m\u001b[0;34m=\u001b[0m\u001b[0mTrue\u001b[0m\u001b[0;34m)\u001b[0m\u001b[0;34m\u001b[0m\u001b[0m\n\u001b[0m\u001b[1;32m      3\u001b[0m \u001b[0malldata\u001b[0m\u001b[0;34m.\u001b[0m\u001b[0mix\u001b[0m\u001b[0;34m[\u001b[0m\u001b[0mrowsr\u001b[0m\u001b[0;34m]\u001b[0m\u001b[0;34m[\u001b[0m\u001b[0;34m'nb_in_edge'\u001b[0m\u001b[0;34m]\u001b[0m\u001b[0;34m.\u001b[0m\u001b[0mplot\u001b[0m\u001b[0;34m(\u001b[0m\u001b[0mkind\u001b[0m\u001b[0;34m=\u001b[0m\u001b[0;34m'kde'\u001b[0m\u001b[0;34m,\u001b[0m \u001b[0mstyle\u001b[0m\u001b[0;34m=\u001b[0m\u001b[0;34m'k--'\u001b[0m\u001b[0;34m)\u001b[0m\u001b[0;34m\u001b[0m\u001b[0m\n",
        "\u001b[0;31mNameError\u001b[0m: name 'rowsr' is not defined"
       ]
      },
      {
       "metadata": {},
       "output_type": "display_data",
       "png": "[encoded data removed]",
       "text": [
        "<matplotlib.figure.Figure at 0x106d0f5d0>"
       ]
      }
     ],
     "prompt_number": 39
    },
    {
     "cell_type": "markdown",
     "metadata": {},
     "source": [
      "Above, we can see that the random distribution is **sharper** than the human distribution"
     ]
    },
    {
     "cell_type": "heading",
     "level": 4,
     "metadata": {},
     "source": [
      "- Features #9, #10, #11, #12, #13 : how many numbers are in columns 1, 2, 3, 4, 5"
     ]
    },
    {
     "cell_type": "code",
     "collapsed": false,
     "input": [
      "# Feature 4, 5, 6, 7, 8 : how many numbers are in columns 1, 2, 3, 4, 5\n",
      "col1 = [1 + 5*i for i in range(10)]\n",
      "col2 = [2 + 5*i for i in range(10)]\n",
      "col3 = [3 + 5*i for i in range(10)]\n",
      "col4 = [4 + 5*i for i in range(10)]\n",
      "col5 = [5 + 5*i for i in range(10)]\n",
      "col6 = [6 + 6*i for i in range(10)]\n",
      "\n",
      "def nb_in_col(df, col):\n",
      "    res = ((df['c1'].isin(col)).astype(int) + \n",
      "           (df['c2'].isin(col)).astype(int) +\n",
      "           (df['c3'].isin(col)).astype(int) +\n",
      "           (df['c4'].isin(col)).astype(int) +\n",
      "           (df['c5'].isin(col)).astype(int) +\n",
      "           (df['c6'].isin(col)).astype(int))\n",
      "    return res\n",
      "\n",
      "alldata['nb_in_col1'] = nb_in_col(alldata, col1) \n",
      "alldata['nb_in_col2'] = nb_in_col(alldata, col2)\n",
      "alldata['nb_in_col3'] = nb_in_col(alldata, col3)\n",
      "alldata['nb_in_col4'] = nb_in_col(alldata, col4)\n",
      "alldata['nb_in_col5'] = nb_in_col(alldata, col5)\n",
      "alldata['nb_in_col6'] = nb_in_col(alldata, col6)\n",
      "\n",
      "print(\"so cool ...\")"
     ],
     "language": "python",
     "metadata": {},
     "outputs": [
      {
       "output_type": "stream",
       "stream": "stdout",
       "text": [
        "so cool ...\n"
       ]
      }
     ],
     "prompt_number": 42
    },
    {
     "cell_type": "heading",
     "level": 4,
     "metadata": {},
     "source": [
      "- Feature #14 : how many numbers are even"
     ]
    },
    {
     "cell_type": "code",
     "collapsed": false,
     "input": [
      "even = [2*i + 2 for i in range(25)]\n",
      "def nb_even(df):\n",
      "    return ((df['c1'].isin(even)).astype(int) + \n",
      "            (df['c2'].isin(even)).astype(int) +\n",
      "            (df['c3'].isin(even)).astype(int) +\n",
      "            (df['c4'].isin(even)).astype(int) +\n",
      "            (df['c5'].isin(even)).astype(int) +\n",
      "            (df['c6'].isin(even)).astype(int))\n",
      "\n",
      "alldata['nb_even'] = nb_even(alldata)\n",
      "\n",
      "print(\"finished !\")"
     ],
     "language": "python",
     "metadata": {},
     "outputs": [
      {
       "output_type": "stream",
       "stream": "stdout",
       "text": [
        "finished !\n"
       ]
      }
     ],
     "prompt_number": 43
    },
    {
     "cell_type": "heading",
     "level": 4,
     "metadata": {},
     "source": [
      "- Feature  #15 : the distance between the numbers"
     ]
    },
    {
     "cell_type": "code",
     "collapsed": false,
     "input": [
      "def sum_diff(df):\n",
      "    return ((df.c2 - df.c1)**2 +\n",
      "            (df.c3 - df.c2)**2 +\n",
      "            (df.c4 - df.c3)**2 +\n",
      "            (df.c5 - df.c4)**2 +\n",
      "            (df.c6 - df.c5)**2)\n",
      "\n",
      "alldata['sum_diff'] = sum_diff(alldata)\n",
      "\n",
      "print(\"done !\")"
     ],
     "language": "python",
     "metadata": {},
     "outputs": [
      {
       "output_type": "stream",
       "stream": "stdout",
       "text": [
        "done !\n"
       ]
      }
     ],
     "prompt_number": 44
    },
    {
     "cell_type": "heading",
     "level": 4,
     "metadata": {},
     "source": [
      "Now have a look at the features"
     ]
    },
    {
     "cell_type": "code",
     "collapsed": false,
     "input": [
      "alldata.head(100)"
     ],
     "language": "python",
     "metadata": {},
     "outputs": [
      {
       "html": [
        "<div style=\"max-height:1000px;max-width:1500px;overflow:auto;\">\n",
        "<table border=\"1\" class=\"dataframe\">\n",
        "  <thead>\n",
        "    <tr style=\"text-align: right;\">\n",
        "      <th></th>\n",
        "      <th>c1</th>\n",
        "      <th>c2</th>\n",
        "      <th>c3</th>\n",
        "      <th>c4</th>\n",
        "      <th>c5</th>\n",
        "      <th>c6</th>\n",
        "    </tr>\n",
        "  </thead>\n",
        "  <tbody>\n",
        "    <tr>\n",
        "      <th>0 </th>\n",
        "      <td>  1</td>\n",
        "      <td>  5</td>\n",
        "      <td> 15</td>\n",
        "      <td> 24</td>\n",
        "      <td> 25</td>\n",
        "      <td> 42</td>\n",
        "    </tr>\n",
        "    <tr>\n",
        "      <th>1 </th>\n",
        "      <td>  5</td>\n",
        "      <td> 10</td>\n",
        "      <td> 19</td>\n",
        "      <td> 32</td>\n",
        "      <td> 38</td>\n",
        "      <td> 44</td>\n",
        "    </tr>\n",
        "    <tr>\n",
        "      <th>2 </th>\n",
        "      <td>  9</td>\n",
        "      <td> 11</td>\n",
        "      <td> 13</td>\n",
        "      <td> 21</td>\n",
        "      <td> 27</td>\n",
        "      <td> 30</td>\n",
        "    </tr>\n",
        "    <tr>\n",
        "      <th>3 </th>\n",
        "      <td>  5</td>\n",
        "      <td> 12</td>\n",
        "      <td> 16</td>\n",
        "      <td> 22</td>\n",
        "      <td> 26</td>\n",
        "      <td> 46</td>\n",
        "    </tr>\n",
        "    <tr>\n",
        "      <th>4 </th>\n",
        "      <td> 19</td>\n",
        "      <td> 26</td>\n",
        "      <td> 33</td>\n",
        "      <td> 37</td>\n",
        "      <td> 38</td>\n",
        "      <td> 40</td>\n",
        "    </tr>\n",
        "    <tr>\n",
        "      <th>5 </th>\n",
        "      <td> 17</td>\n",
        "      <td> 21</td>\n",
        "      <td> 28</td>\n",
        "      <td> 29</td>\n",
        "      <td> 39</td>\n",
        "      <td> 47</td>\n",
        "    </tr>\n",
        "    <tr>\n",
        "      <th>6 </th>\n",
        "      <td> 10</td>\n",
        "      <td> 17</td>\n",
        "      <td> 24</td>\n",
        "      <td> 31</td>\n",
        "      <td> 37</td>\n",
        "      <td> 40</td>\n",
        "    </tr>\n",
        "    <tr>\n",
        "      <th>7 </th>\n",
        "      <td>  1</td>\n",
        "      <td>  6</td>\n",
        "      <td>  7</td>\n",
        "      <td> 23</td>\n",
        "      <td> 30</td>\n",
        "      <td> 45</td>\n",
        "    </tr>\n",
        "    <tr>\n",
        "      <th>8 </th>\n",
        "      <td>  6</td>\n",
        "      <td>  7</td>\n",
        "      <td>  8</td>\n",
        "      <td> 24</td>\n",
        "      <td> 25</td>\n",
        "      <td> 29</td>\n",
        "    </tr>\n",
        "    <tr>\n",
        "      <th>9 </th>\n",
        "      <td>  3</td>\n",
        "      <td> 14</td>\n",
        "      <td> 15</td>\n",
        "      <td> 25</td>\n",
        "      <td> 34</td>\n",
        "      <td> 41</td>\n",
        "    </tr>\n",
        "    <tr>\n",
        "      <th>10</th>\n",
        "      <td>  2</td>\n",
        "      <td> 29</td>\n",
        "      <td> 43</td>\n",
        "      <td> 45</td>\n",
        "      <td> 48</td>\n",
        "      <td> 49</td>\n",
        "    </tr>\n",
        "    <tr>\n",
        "      <th>11</th>\n",
        "      <td> 12</td>\n",
        "      <td> 14</td>\n",
        "      <td> 39</td>\n",
        "      <td> 42</td>\n",
        "      <td> 45</td>\n",
        "      <td> 46</td>\n",
        "    </tr>\n",
        "    <tr>\n",
        "      <th>12</th>\n",
        "      <td>  8</td>\n",
        "      <td> 11</td>\n",
        "      <td> 19</td>\n",
        "      <td> 34</td>\n",
        "      <td> 38</td>\n",
        "      <td> 43</td>\n",
        "    </tr>\n",
        "    <tr>\n",
        "      <th>13</th>\n",
        "      <td>  2</td>\n",
        "      <td> 10</td>\n",
        "      <td> 16</td>\n",
        "      <td> 31</td>\n",
        "      <td> 46</td>\n",
        "      <td> 48</td>\n",
        "    </tr>\n",
        "    <tr>\n",
        "      <th>14</th>\n",
        "      <td> 17</td>\n",
        "      <td> 27</td>\n",
        "      <td> 38</td>\n",
        "      <td> 39</td>\n",
        "      <td> 41</td>\n",
        "      <td> 49</td>\n",
        "    </tr>\n",
        "    <tr>\n",
        "      <th>15</th>\n",
        "      <td>  2</td>\n",
        "      <td> 20</td>\n",
        "      <td> 24</td>\n",
        "      <td> 29</td>\n",
        "      <td> 39</td>\n",
        "      <td> 48</td>\n",
        "    </tr>\n",
        "  </tbody>\n",
        "</table>\n",
        "</div>"
       ],
       "metadata": {},
       "output_type": "pyout",
       "prompt_number": 57,
       "text": [
        "    c1  c2  c3  c4  c5  c6\n",
        "0    1   5  15  24  25  42\n",
        "1    5  10  19  32  38  44\n",
        "2    9  11  13  21  27  30\n",
        "3    5  12  16  22  26  46\n",
        "4   19  26  33  37  38  40\n",
        "5   17  21  28  29  39  47\n",
        "6   10  17  24  31  37  40\n",
        "7    1   6   7  23  30  45\n",
        "8    6   7   8  24  25  29\n",
        "9    3  14  15  25  34  41\n",
        "10   2  29  43  45  48  49\n",
        "11  12  14  39  42  45  46\n",
        "12   8  11  19  34  38  43\n",
        "13   2  10  16  31  46  48\n",
        "14  17  27  38  39  41  49\n",
        "15   2  20  24  29  39  48"
       ]
      }
     ],
     "prompt_number": 57
    },
    {
     "cell_type": "heading",
     "level": 3,
     "metadata": {},
     "source": [
      "STEP 4 : Train the machine learning model"
     ]
    },
    {
     "cell_type": "markdown",
     "metadata": {},
     "source": [
      "*\"Data Science is a simple game in which you throw data at a bunch of methods and in the end random forests always win\"* [4]"
     ]
    },
    {
     "cell_type": "code",
     "collapsed": false,
     "input": [
      "from sklearn.ensemble import RandomForestClassifier\n",
      "from sklearn.cross_validation import train_test_split\n",
      "\n",
      "X = np.array(alldata)\n",
      "\n",
      "# We will code with \"0\" the human combinations, and with \"1\" the random combinations\n",
      "y = np.array([0] * humandatalen + [1] * randomdatalen)\n",
      "\n",
      "# We split our data set in 2 parts :\n",
      "# A \"train set\" (80% of the available data) : used to train the model\n",
      "# A \"test set\" (20% of the available data) : used to evaluate the model performance\n",
      "X_train, X_test, y_train, y_test = train_test_split(X, y, test_size=0.2, random_state=43)\n",
      "\n",
      "# In this example we use a Random Forest model. Many other are available in the scikit-learn library\n",
      "model = RandomForestClassifier(n_estimators = 100)\n",
      "\n",
      "# We train the model on the \"train set\"\n",
      "model.fit(X_train, y_train)"
     ],
     "language": "python",
     "metadata": {},
     "outputs": [
      {
       "metadata": {},
       "output_type": "pyout",
       "prompt_number": 46,
       "text": [
        "RandomForestClassifier(bootstrap=True, compute_importances=None,\n",
        "            criterion='gini', max_depth=None, max_features='auto',\n",
        "            max_leaf_nodes=None, min_density=None, min_samples_leaf=1,\n",
        "            min_samples_split=2, n_estimators=100, n_jobs=1,\n",
        "            oob_score=False, random_state=None, verbose=0)"
       ]
      }
     ],
     "prompt_number": 46
    },
    {
     "cell_type": "code",
     "collapsed": false,
     "input": [
      "# show which features have been detected as most important for the model\n",
      "usedfeatures = alldata.columns.tolist()\n",
      "idx = np.argsort(model.feature_importances_)\n",
      "for i in range(len(model.feature_importances_)):\n",
      "    print(usedfeatures[idx[i]], \" : \", model.feature_importances_[idx[i]])"
     ],
     "language": "python",
     "metadata": {},
     "outputs": [
      {
       "output_type": "stream",
       "stream": "stdout",
       "text": [
        "nb_under_12  :  0.0216610749755\n",
        "nb_under_31  :  0.024301780995\n",
        "nb_in_col1  :  0.0373718714573\n",
        "nb_in_col5  :  0.038123452007\n",
        "nb_in_edge  :  0.0397677738747\n",
        "nb_in_col2"
       ]
      },
      {
       "output_type": "stream",
       "stream": "stdout",
       "text": [
        "  :  0.0420371508656\n",
        "nb_in_col4  :  0.0421651400592\n",
        "nb_in_col3  :  0.0432070759727\n",
        "nb_even  :  0.0613390887568\n",
        "c1"
       ]
      },
      {
       "output_type": "stream",
       "stream": "stdout",
       "text": [
        "  :  0.0848004234656\n",
        "c5  :  0.0879936060574\n",
        "c2  :  0.0991337814575\n",
        "c3  :  0.101263258337\n",
        "c4"
       ]
      },
      {
       "output_type": "stream",
       "stream": "stdout",
       "text": [
        "  :  0.101640258047\n",
        "sum_diff  :  0.175194263672\n"
       ]
      }
     ],
     "prompt_number": 19
    },
    {
     "cell_type": "markdown",
     "metadata": {},
     "source": [
      "This ranking shows that the \"sum_diff\" feature is the most important for the model. The \"nb_under_12\" is the less important"
     ]
    },
    {
     "cell_type": "heading",
     "level": 3,
     "metadata": {},
     "source": [
      "STEP 5 : Do prediction and analyze results"
     ]
    },
    {
     "cell_type": "markdown",
     "metadata": {},
     "source": [
      "*\"A prediction is always a missed target\"* [5]"
     ]
    },
    {
     "cell_type": "code",
     "collapsed": false,
     "input": [
      "from sklearn import metrics\n",
      "\n",
      "# Do predictions on the \"test set\"\n",
      "preds_hard = model.predict(X_test)\n",
      "preds_soft = model.predict_proba(X_test)\n",
      "\n",
      "print(\"made the job\")"
     ],
     "language": "python",
     "metadata": {},
     "outputs": [
      {
       "output_type": "stream",
       "stream": "stdout",
       "text": [
        "made the job\n"
       ]
      }
     ],
     "prompt_number": 47
    },
    {
     "cell_type": "code",
     "collapsed": false,
     "input": [
      "# Compute de confusion matrix, to visualization the performance of the model\n",
      "cm = metrics.confusion_matrix(y_test, preds_hard)\n",
      "cm_ = pd.DataFrame(cm, \n",
      "                   index=['random real (1)', 'human real (0)'], \n",
      "                   columns=['random predicted (1)', 'human predicted (0)'])\n",
      "cm_"
     ],
     "language": "python",
     "metadata": {},
     "outputs": [
      {
       "html": [
        "<div style=\"max-height:1000px;max-width:1500px;overflow:auto;\">\n",
        "<table border=\"1\" class=\"dataframe\">\n",
        "  <thead>\n",
        "    <tr style=\"text-align: right;\">\n",
        "      <th></th>\n",
        "      <th>random predicted (1)</th>\n",
        "      <th>human predicted (0)</th>\n",
        "    </tr>\n",
        "  </thead>\n",
        "  <tbody>\n",
        "    <tr>\n",
        "      <th>random real (1)</th>\n",
        "      <td> 2127</td>\n",
        "      <td> 1711</td>\n",
        "    </tr>\n",
        "    <tr>\n",
        "      <th>human real (0)</th>\n",
        "      <td> 1346</td>\n",
        "      <td> 2591</td>\n",
        "    </tr>\n",
        "  </tbody>\n",
        "</table>\n",
        "<p>2 rows \u00d7 2 columns</p>\n",
        "</div>"
       ],
       "metadata": {},
       "output_type": "pyout",
       "prompt_number": 21,
       "text": [
        "                 random predicted (1)  human predicted (0)\n",
        "random real (1)                  2127                 1711\n",
        "human real (0)                   1346                 2591\n",
        "\n",
        "[2 rows x 2 columns]"
       ]
      }
     ],
     "prompt_number": 21
    },
    {
     "cell_type": "code",
     "collapsed": false,
     "input": [
      "# Compute the F1 score, a metric measuring the model performance\n",
      "f1score = metrics.f1_score(y_test, preds_hard)\n",
      "print(\"f1 score : {:.2f} %\".format(f1score * 100))"
     ],
     "language": "python",
     "metadata": {},
     "outputs": [
      {
       "output_type": "stream",
       "stream": "stdout",
       "text": [
        "f1 score : 50.00 %\n"
       ]
      }
     ],
     "prompt_number": 48
    },
    {
     "cell_type": "code",
     "collapsed": false,
     "input": [
      "# Compute how many times we made a good guess\n",
      "accuracy = float(cm[0,0] + cm[1,1]) / float(cm[0,0] + cm[0,1] +\n",
      "cm[1,0] + cm[1,1])\n",
      "print(\"good guess : {:.2f} %\".format(accuracy * 100))"
     ],
     "language": "python",
     "metadata": {},
     "outputs": [
      {
       "output_type": "stream",
       "stream": "stdout",
       "text": [
        "good guess : 60.68 %\n"
       ]
      }
     ],
     "prompt_number": 23
    },
    {
     "cell_type": "markdown",
     "metadata": {},
     "source": [
      "As you can see, we made a good guess more than 50% of the cases. This means that **our model learned something**, and is not doing random guesses !!!"
     ]
    },
    {
     "cell_type": "code",
     "collapsed": false,
     "input": [
      "# Compute the ROC AUC score (an other metric measuring the model performance)\n",
      "print(\"ROC AUC score : {:.2f} \".format(metrics.roc_auc_score(y_test, preds_soft[:, 1])))"
     ],
     "language": "python",
     "metadata": {},
     "outputs": [
      {
       "ename": "ValueError",
       "evalue": "Only one class present in y_true. ROC AUC score is not defined in that case.",
       "output_type": "pyerr",
       "traceback": [
        "\u001b[0;31m---------------------------------------------------------------------------\u001b[0m\n\u001b[0;31mValueError\u001b[0m                                Traceback (most recent call last)",
        "\u001b[0;32m<ipython-input-49-5a0353673d98>\u001b[0m in \u001b[0;36m<module>\u001b[0;34m()\u001b[0m\n\u001b[1;32m      1\u001b[0m \u001b[0;31m# Compute the ROC AUC score (an other metric measuring the model performance)\u001b[0m\u001b[0;34m\u001b[0m\u001b[0;34m\u001b[0m\u001b[0m\n\u001b[0;32m----> 2\u001b[0;31m \u001b[0;32mprint\u001b[0m\u001b[0;34m(\u001b[0m\u001b[0;34m\"ROC AUC score : {:.2f} \"\u001b[0m\u001b[0;34m.\u001b[0m\u001b[0mformat\u001b[0m\u001b[0;34m(\u001b[0m\u001b[0mmetrics\u001b[0m\u001b[0;34m.\u001b[0m\u001b[0mroc_auc_score\u001b[0m\u001b[0;34m(\u001b[0m\u001b[0my_test\u001b[0m\u001b[0;34m,\u001b[0m \u001b[0mpreds_soft\u001b[0m\u001b[0;34m[\u001b[0m\u001b[0;34m:\u001b[0m\u001b[0;34m,\u001b[0m \u001b[0;36m1\u001b[0m\u001b[0;34m]\u001b[0m\u001b[0;34m)\u001b[0m\u001b[0;34m)\u001b[0m\u001b[0;34m)\u001b[0m\u001b[0;34m\u001b[0m\u001b[0m\n\u001b[0m",
        "\u001b[0;32m//anaconda/lib/python2.7/site-packages/sklearn/metrics/metrics.pyc\u001b[0m in \u001b[0;36mroc_auc_score\u001b[0;34m(y_true, y_score, average, sample_weight)\u001b[0m\n\u001b[1;32m    591\u001b[0m     return _average_binary_score(\n\u001b[1;32m    592\u001b[0m         \u001b[0m_binary_roc_auc_score\u001b[0m\u001b[0;34m,\u001b[0m \u001b[0my_true\u001b[0m\u001b[0;34m,\u001b[0m \u001b[0my_score\u001b[0m\u001b[0;34m,\u001b[0m \u001b[0maverage\u001b[0m\u001b[0;34m,\u001b[0m\u001b[0;34m\u001b[0m\u001b[0m\n\u001b[0;32m--> 593\u001b[0;31m         sample_weight=sample_weight)\n\u001b[0m\u001b[1;32m    594\u001b[0m \u001b[0;34m\u001b[0m\u001b[0m\n\u001b[1;32m    595\u001b[0m \u001b[0;34m\u001b[0m\u001b[0m\n",
        "\u001b[0;32m//anaconda/lib/python2.7/site-packages/sklearn/metrics/metrics.pyc\u001b[0m in \u001b[0;36m_average_binary_score\u001b[0;34m(binary_metric, y_true, y_score, average, sample_weight)\u001b[0m\n\u001b[1;32m    471\u001b[0m \u001b[0;34m\u001b[0m\u001b[0m\n\u001b[1;32m    472\u001b[0m     \u001b[0;32mif\u001b[0m \u001b[0my_type\u001b[0m \u001b[0;34m==\u001b[0m \u001b[0;34m\"binary\"\u001b[0m\u001b[0;34m:\u001b[0m\u001b[0;34m\u001b[0m\u001b[0m\n\u001b[0;32m--> 473\u001b[0;31m         \u001b[0;32mreturn\u001b[0m \u001b[0mbinary_metric\u001b[0m\u001b[0;34m(\u001b[0m\u001b[0my_true\u001b[0m\u001b[0;34m,\u001b[0m \u001b[0my_score\u001b[0m\u001b[0;34m,\u001b[0m \u001b[0msample_weight\u001b[0m\u001b[0;34m=\u001b[0m\u001b[0msample_weight\u001b[0m\u001b[0;34m)\u001b[0m\u001b[0;34m\u001b[0m\u001b[0m\n\u001b[0m\u001b[1;32m    474\u001b[0m \u001b[0;34m\u001b[0m\u001b[0m\n\u001b[1;32m    475\u001b[0m     \u001b[0my_true\u001b[0m\u001b[0;34m,\u001b[0m \u001b[0my_score\u001b[0m \u001b[0;34m=\u001b[0m \u001b[0mcheck_arrays\u001b[0m\u001b[0;34m(\u001b[0m\u001b[0my_true\u001b[0m\u001b[0;34m,\u001b[0m \u001b[0my_score\u001b[0m\u001b[0;34m)\u001b[0m\u001b[0;34m\u001b[0m\u001b[0m\n",
        "\u001b[0;32m//anaconda/lib/python2.7/site-packages/sklearn/metrics/metrics.pyc\u001b[0m in \u001b[0;36m_binary_roc_auc_score\u001b[0;34m(y_true, y_score, sample_weight)\u001b[0m\n\u001b[1;32m    582\u001b[0m     \u001b[0;32mdef\u001b[0m \u001b[0m_binary_roc_auc_score\u001b[0m\u001b[0;34m(\u001b[0m\u001b[0my_true\u001b[0m\u001b[0;34m,\u001b[0m \u001b[0my_score\u001b[0m\u001b[0;34m,\u001b[0m \u001b[0msample_weight\u001b[0m\u001b[0;34m=\u001b[0m\u001b[0mNone\u001b[0m\u001b[0;34m)\u001b[0m\u001b[0;34m:\u001b[0m\u001b[0;34m\u001b[0m\u001b[0m\n\u001b[1;32m    583\u001b[0m         \u001b[0;32mif\u001b[0m \u001b[0mlen\u001b[0m\u001b[0;34m(\u001b[0m\u001b[0mnp\u001b[0m\u001b[0;34m.\u001b[0m\u001b[0munique\u001b[0m\u001b[0;34m(\u001b[0m\u001b[0my_true\u001b[0m\u001b[0;34m)\u001b[0m\u001b[0;34m)\u001b[0m \u001b[0;34m!=\u001b[0m \u001b[0;36m2\u001b[0m\u001b[0;34m:\u001b[0m\u001b[0;34m\u001b[0m\u001b[0m\n\u001b[0;32m--> 584\u001b[0;31m             raise ValueError(\"Only one class present in y_true. ROC AUC score \"\n\u001b[0m\u001b[1;32m    585\u001b[0m                              \"is not defined in that case.\")\n\u001b[1;32m    586\u001b[0m \u001b[0;34m\u001b[0m\u001b[0m\n",
        "\u001b[0;31mValueError\u001b[0m: Only one class present in y_true. ROC AUC score is not defined in that case."
       ]
      }
     ],
     "prompt_number": 49
    },
    {
     "cell_type": "heading",
     "level": 3,
     "metadata": {},
     "source": [
      "STEP 6 : Let's do scoring !"
     ]
    },
    {
     "cell_type": "markdown",
     "metadata": {},
     "source": [
      "*There are Data Scientists practicing \u201cinvestigative analytics\u201d and those implementing \u201coperational analytics.\u201d (I\u2019m in the second camp)* [6]"
     ]
    },
    {
     "cell_type": "code",
     "collapsed": false,
     "input": [
      "mycomb = [[1,6,7,23,30,45], \n",
      "          [5,9,18,28,44,49], \n",
      "          [4,6,14,28,36,43], \n",
      "          [2,3,5,19,25,36], \n",
      "          [2,10,11,15,40,46], \n",
      "          [9,15,17,23,27,49], \n",
      "          [2,16,19,29,33,42],\n",
      "          [2,22,24,38,46,47]]\n",
      "mycombfeat = pd.DataFrame(mycomb, columns=['c1', 'c2', 'c3', 'c4', 'c5','c6'])\n",
      "mycombfeat['nb_under_31'] = is_under(mycombfeat, 31)\n",
      "mycombfeat['nb_under_12'] = is_under(mycombfeat, 12)\n",
      "mycombfeat['nb_in_edge'] = nb_in_edge(mycombfeat)\n",
      "mycombfeat['nb_in_col1'] = nb_in_col(mycombfeat, col1) \n",
      "mycombfeat['nb_in_col2'] = nb_in_col(mycombfeat, col2)\n",
      "mycombfeat['nb_in_col3'] = nb_in_col(mycombfeat, col3)\n",
      "mycombfeat['nb_in_col4'] = nb_in_col(mycombfeat, col4)\n",
      "mycombfeat['nb_in_col5'] = nb_in_col(mycombfeat, col5)\n",
      "mycombfeat['nb_in_col6'] = nb_in_col(mycombfeat, col6)\n",
      "mycombfeat['nb_even'] = nb_even(mycombfeat)\n",
      "mycombfeat['sum_diff'] = sum_diff(mycombfeat)\n",
      "\n",
      "print(\"done. What's next ?\")"
     ],
     "language": "python",
     "metadata": {},
     "outputs": [
      {
       "output_type": "stream",
       "stream": "stdout",
       "text": [
        "done. What's next ?\n"
       ]
      }
     ],
     "prompt_number": 63
    },
    {
     "cell_type": "code",
     "collapsed": false,
     "input": [
      "mycombfeat"
     ],
     "language": "python",
     "metadata": {},
     "outputs": [
      {
       "html": [
        "<div style=\"max-height:1000px;max-width:1500px;overflow:auto;\">\n",
        "<table border=\"1\" class=\"dataframe\">\n",
        "  <thead>\n",
        "    <tr style=\"text-align: right;\">\n",
        "      <th></th>\n",
        "      <th>c1</th>\n",
        "      <th>c2</th>\n",
        "      <th>c3</th>\n",
        "      <th>c4</th>\n",
        "      <th>c5</th>\n",
        "      <th>c6</th>\n",
        "      <th>nb_under_31</th>\n",
        "      <th>nb_under_12</th>\n",
        "      <th>nb_in_edge</th>\n",
        "      <th>nb_in_col1</th>\n",
        "      <th>nb_in_col2</th>\n",
        "      <th>nb_in_col3</th>\n",
        "      <th>nb_in_col4</th>\n",
        "      <th>nb_in_col5</th>\n",
        "      <th>nb_in_col6</th>\n",
        "      <th>nb_even</th>\n",
        "      <th>sum_diff</th>\n",
        "    </tr>\n",
        "  </thead>\n",
        "  <tbody>\n",
        "    <tr>\n",
        "      <th>0</th>\n",
        "      <td> 1</td>\n",
        "      <td>  6</td>\n",
        "      <td>  7</td>\n",
        "      <td> 23</td>\n",
        "      <td> 30</td>\n",
        "      <td> 49</td>\n",
        "      <td> 5</td>\n",
        "      <td> 3</td>\n",
        "      <td> 5</td>\n",
        "      <td> 2</td>\n",
        "      <td> 1</td>\n",
        "      <td> 1</td>\n",
        "      <td> 1</td>\n",
        "      <td> 1</td>\n",
        "      <td> 2</td>\n",
        "      <td> 2</td>\n",
        "      <td> 692</td>\n",
        "    </tr>\n",
        "    <tr>\n",
        "      <th>1</th>\n",
        "      <td> 5</td>\n",
        "      <td>  9</td>\n",
        "      <td> 18</td>\n",
        "      <td> 28</td>\n",
        "      <td> 44</td>\n",
        "      <td> 49</td>\n",
        "      <td> 4</td>\n",
        "      <td> 2</td>\n",
        "      <td> 4</td>\n",
        "      <td> 0</td>\n",
        "      <td> 0</td>\n",
        "      <td> 2</td>\n",
        "      <td> 3</td>\n",
        "      <td> 1</td>\n",
        "      <td> 1</td>\n",
        "      <td> 3</td>\n",
        "      <td> 478</td>\n",
        "    </tr>\n",
        "    <tr>\n",
        "      <th>2</th>\n",
        "      <td> 4</td>\n",
        "      <td>  6</td>\n",
        "      <td> 14</td>\n",
        "      <td> 28</td>\n",
        "      <td> 36</td>\n",
        "      <td> 43</td>\n",
        "      <td> 4</td>\n",
        "      <td> 2</td>\n",
        "      <td> 3</td>\n",
        "      <td> 2</td>\n",
        "      <td> 0</td>\n",
        "      <td> 2</td>\n",
        "      <td> 2</td>\n",
        "      <td> 0</td>\n",
        "      <td> 2</td>\n",
        "      <td> 5</td>\n",
        "      <td> 377</td>\n",
        "    </tr>\n",
        "    <tr>\n",
        "      <th>3</th>\n",
        "      <td> 2</td>\n",
        "      <td>  3</td>\n",
        "      <td>  5</td>\n",
        "      <td> 19</td>\n",
        "      <td> 25</td>\n",
        "      <td> 36</td>\n",
        "      <td> 5</td>\n",
        "      <td> 3</td>\n",
        "      <td> 5</td>\n",
        "      <td> 1</td>\n",
        "      <td> 1</td>\n",
        "      <td> 1</td>\n",
        "      <td> 1</td>\n",
        "      <td> 2</td>\n",
        "      <td> 1</td>\n",
        "      <td> 2</td>\n",
        "      <td> 358</td>\n",
        "    </tr>\n",
        "    <tr>\n",
        "      <th>4</th>\n",
        "      <td> 2</td>\n",
        "      <td> 10</td>\n",
        "      <td> 11</td>\n",
        "      <td> 15</td>\n",
        "      <td> 40</td>\n",
        "      <td> 46</td>\n",
        "      <td> 4</td>\n",
        "      <td> 3</td>\n",
        "      <td> 2</td>\n",
        "      <td> 2</td>\n",
        "      <td> 1</td>\n",
        "      <td> 0</td>\n",
        "      <td> 0</td>\n",
        "      <td> 3</td>\n",
        "      <td> 0</td>\n",
        "      <td> 4</td>\n",
        "      <td> 742</td>\n",
        "    </tr>\n",
        "    <tr>\n",
        "      <th>5</th>\n",
        "      <td> 9</td>\n",
        "      <td> 15</td>\n",
        "      <td> 17</td>\n",
        "      <td> 23</td>\n",
        "      <td> 27</td>\n",
        "      <td> 49</td>\n",
        "      <td> 5</td>\n",
        "      <td> 1</td>\n",
        "      <td> 1</td>\n",
        "      <td> 0</td>\n",
        "      <td> 2</td>\n",
        "      <td> 1</td>\n",
        "      <td> 2</td>\n",
        "      <td> 1</td>\n",
        "      <td> 0</td>\n",
        "      <td> 0</td>\n",
        "      <td> 576</td>\n",
        "    </tr>\n",
        "    <tr>\n",
        "      <th>6</th>\n",
        "      <td> 2</td>\n",
        "      <td> 16</td>\n",
        "      <td> 19</td>\n",
        "      <td> 29</td>\n",
        "      <td> 33</td>\n",
        "      <td> 42</td>\n",
        "      <td> 4</td>\n",
        "      <td> 1</td>\n",
        "      <td> 2</td>\n",
        "      <td> 1</td>\n",
        "      <td> 2</td>\n",
        "      <td> 1</td>\n",
        "      <td> 2</td>\n",
        "      <td> 0</td>\n",
        "      <td> 1</td>\n",
        "      <td> 3</td>\n",
        "      <td> 402</td>\n",
        "    </tr>\n",
        "    <tr>\n",
        "      <th>7</th>\n",
        "      <td> 2</td>\n",
        "      <td> 22</td>\n",
        "      <td> 24</td>\n",
        "      <td> 38</td>\n",
        "      <td> 46</td>\n",
        "      <td> 47</td>\n",
        "      <td> 3</td>\n",
        "      <td> 1</td>\n",
        "      <td> 4</td>\n",
        "      <td> 1</td>\n",
        "      <td> 3</td>\n",
        "      <td> 1</td>\n",
        "      <td> 1</td>\n",
        "      <td> 0</td>\n",
        "      <td> 1</td>\n",
        "      <td> 5</td>\n",
        "      <td> 665</td>\n",
        "    </tr>\n",
        "  </tbody>\n",
        "</table>\n",
        "</div>"
       ],
       "metadata": {},
       "output_type": "pyout",
       "prompt_number": 61,
       "text": [
        "   c1  c2  c3  c4  c5  c6  nb_under_31  nb_under_12  nb_in_edge  nb_in_col1  \\\n",
        "0   1   6   7  23  30  49            5            3           5           2   \n",
        "1   5   9  18  28  44  49            4            2           4           0   \n",
        "2   4   6  14  28  36  43            4            2           3           2   \n",
        "3   2   3   5  19  25  36            5            3           5           1   \n",
        "4   2  10  11  15  40  46            4            3           2           2   \n",
        "5   9  15  17  23  27  49            5            1           1           0   \n",
        "6   2  16  19  29  33  42            4            1           2           1   \n",
        "7   2  22  24  38  46  47            3            1           4           1   \n",
        "\n",
        "   nb_in_col2  nb_in_col3  nb_in_col4  nb_in_col5  nb_in_col6  nb_even  \\\n",
        "0           1           1           1           1           2        2   \n",
        "1           0           2           3           1           1        3   \n",
        "2           0           2           2           0           2        5   \n",
        "3           1           1           1           2           1        2   \n",
        "4           1           0           0           3           0        4   \n",
        "5           2           1           2           1           0        0   \n",
        "6           2           1           2           0           1        3   \n",
        "7           3           1           1           0           1        5   \n",
        "\n",
        "   sum_diff  \n",
        "0       692  \n",
        "1       478  \n",
        "2       377  \n",
        "3       358  \n",
        "4       742  \n",
        "5       576  \n",
        "6       402  \n",
        "7       665  "
       ]
      }
     ],
     "prompt_number": 61
    },
    {
     "cell_type": "code",
     "collapsed": false,
     "input": [
      "for i in range(len(mycomb)):\n",
      "    print(\"Randomness score for combination \", \n",
      "          mycomb[i], \n",
      "          \" : \", \n",
      "          int(100.0* model.predict_proba(mycombfeat.iloc[[i]])[:, 1]), \" %\")"
     ],
     "language": "python",
     "metadata": {},
     "outputs": [
      {
       "output_type": "stream",
       "stream": "stdout",
       "text": [
        "Randomness score for combination  [1, 6, 7, 23, 30, 49]  :  49  %\n",
        "Randomness score for combination  [5, 9, 18, 28, 44, 49]  :  76  %\n",
        "Randomness score for combination  [4, 6, 14, 28, 36, 43]  :  41  %\n",
        "Randomness score for combination  [2, 3, 5, 19, 25, 36]  :  14  %\n",
        "Randomness score for combination  [2, 10, 11, 15, 40, 46]  :  22  %\n",
        "Randomness score for combination  [9, 15, 17, 23, 27, 49]  :  40  %\n",
        "Randomness score for combination "
       ]
      },
      {
       "output_type": "stream",
       "stream": "stdout",
       "text": [
        " [2, 16, 19, 29, 33, 42]  :  33  %\n",
        "Randomness score for combination  [2, 22, 24, 38, 46, 47]  :  68  %\n"
       ]
      }
     ],
     "prompt_number": 62
    },
    {
     "cell_type": "heading",
     "level": 1,
     "metadata": {},
     "source": [
      "Conclusions and next steps"
     ]
    },
    {
     "cell_type": "markdown",
     "metadata": {},
     "source": [
      "With a very simple model, and a basic features set, **we designed a scoring method** to predict if a given combination comes more likely from a human being, or a *truely* random machine. \n",
      "\n",
      "This scoring framework will be pushed on live production on the [OneWinner.Me platform](http://www.onewinner.me) \n",
      "\n",
      "There are definitely improvement margins, to make the model more accurate. Here are some hints :\n",
      "\n",
      "* train and evaluate the classifier on a dataset without the \"trivial\" combinations (1 2 3 4 5, etc. ...)\n",
      "* try other classifiers, like Gradient Boosting Trees, SVM, logistic regression, ...\n",
      "* tune the classifiers hyper-parameters\n",
      "* use the stars\n",
      "* create and evaluate new features \n",
      "* make a features selection (maybe all features are not useful ?)\n",
      "* better assess model performance through K-Fold cross-validation\n",
      "* ...\n"
     ]
    },
    {
     "cell_type": "markdown",
     "metadata": {},
     "source": [
      "[[0] Reference to a Florian Douetteau (Dataiku) slide](https://twitter.com/chris_bour/status/451007972081405952)\n",
      "\n",
      "[[1] Building a cuttingedge data processing environment on a budget](http://fr.slideshare.net/GaelVaroquaux/building-a-cuttingedge-data-processing-environment-on-a-budget)\n",
      "\n",
      "[[2] http://memegenerator.net/instance/45192037](http://memegenerator.net/instance/45192037)\n",
      "\n",
      "[[3] http://dl.acm.org/citation.cfm?id=2347755](http://dl.acm.org/citation.cfm?id=2347755)\n",
      "\n",
      "[[4] https://twitter.com/mblondel_ml/status/385995462588633088](https://twitter.com/mblondel_ml/status/385995462588633088)\n",
      "\n",
      "[[5] Lokad. Data Tuesday](http://fr.amiando.com/datatuesday-predictif.html)\n",
      "\n",
      "[[6] http://blog.cloudera.com/blog/2014/03/why-apache-spark-is-a-crossover-hit-for-data-scientists/](http://blog.cloudera.com/blog/2014/03/why-apache-spark-is-a-crossover-hit-for-data-scientists/)"
     ]
    },
    {
     "cell_type": "markdown",
     "metadata": {},
     "source": [
      "Contact : @chris_bour Christophe Bourguignat "
     ]
    },
    {
     "cell_type": "code",
     "collapsed": false,
     "input": [
      "ny.random.sample(humandata.index,1000)\n"
     ],
     "language": "python",
     "metadata": {},
     "outputs": [
      {
       "ename": "TypeError",
       "evalue": "random_sample() takes at most 1 positional argument (2 given)",
       "output_type": "pyerr",
       "traceback": [
        "\u001b[0;31m---------------------------------------------------------------------------\u001b[0m\n\u001b[0;31mTypeError\u001b[0m                                 Traceback (most recent call last)",
        "\u001b[0;32m<ipython-input-36-1a1491cb4137>\u001b[0m in \u001b[0;36m<module>\u001b[0;34m()\u001b[0m\n\u001b[0;32m----> 1\u001b[0;31m \u001b[0mny\u001b[0m\u001b[0;34m.\u001b[0m\u001b[0mrandom\u001b[0m\u001b[0;34m.\u001b[0m\u001b[0msample\u001b[0m\u001b[0;34m(\u001b[0m\u001b[0mhumandata\u001b[0m\u001b[0;34m.\u001b[0m\u001b[0mindex\u001b[0m\u001b[0;34m,\u001b[0m\u001b[0;36m1000\u001b[0m\u001b[0;34m)\u001b[0m\u001b[0;34m\u001b[0m\u001b[0m\n\u001b[0m",
        "\u001b[0;32m//anaconda/lib/python2.7/site-packages/numpy/random/mtrand.so\u001b[0m in \u001b[0;36mmtrand.RandomState.random_sample (numpy/random/mtrand/mtrand.c:8802)\u001b[0;34m()\u001b[0m\n",
        "\u001b[0;31mTypeError\u001b[0m: random_sample() takes at most 1 positional argument (2 given)"
       ]
      }
     ],
     "prompt_number": 36
    },
    {
     "cell_type": "code",
     "collapsed": false,
     "input": [],
     "language": "python",
     "metadata": {},
     "outputs": []
    }
   ],
   "metadata": {}
  }
 ]
}