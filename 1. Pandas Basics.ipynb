







<!DOCTYPE html>
<html lang="en">
  <head>
    <meta charset="utf-8">
    <title></title>

    <meta name="viewport" content="width=device-width, initial-scale=1.0">

    
    <meta name="description" content="">
    

    
    <meta name="author" content="">
    

    <!--NEW RELIC Start Perf Measurement-->
    
    <!--NREND-->

    <!-- Le styles -->
    <!--<link href="/static/css/bootstrap.css" rel="stylesheet">-->
    <link href="/static/css/docs.css" rel="stylesheet">
    <link href="/static/css/bootstrap.min.css" rel="stylesheet">
    <link href="/static/css/bootstrap-responsive.css" rel="stylesheet">
    <link href="/static/components/animate.css/animate.css" rel="stylesheet">
    <link href="/static/components/Font-Awesome/css/font-awesome.min.css" rel="stylesheet">
    <link href="/static/css/nbviewer.css" rel="stylesheet">


    <!-- Le HTML5 shim, for IE6-8 support of HTML5 elements -->
    <!--[if lt IE 9]>
      <script src="http://html5shim.googlecode.com/svn/trunk/html5.js"></script>
    <![endif]-->

    <!-- Le fav and touch icons -->
    <link rel="shortcut icon" href="/static/ico/ipynb_icon_16x16.png">
    <link rel="apple-touch-icon-precomposed" sizes="144x144" href="/static/ico/apple-touch-icon-144-precomposed.png">
    <link rel="apple-touch-icon-precomposed" sizes="114x114" href="/static/ico/apple-touch-icon-114-precomposed.png">
    <link rel="apple-touch-icon-precomposed" sizes="72x72" href="/static/ico/apple-touch-icon-72-precomposed.png">
    <link rel="apple-touch-icon-precomposed" href="/static/ico/apple-touch-icon-57-precomposed.png">
    
    
    

    

    
    <meta name="twitter:card" content="summary">

    
    <meta name="twitter:title" content="Notebook on nbviewer">
    

    
    <meta name="twitter:description" content="Check out this IPython notebook!">
    

    
    <meta name="twitter:domain" content="nbviewer.ipython.org">
    

    <meta name="twitter:image:src" content="http://ipython.org/ipython-doc/dev/_images/ipynb_icon_128x128.png">
    
    
    

    <link href="/ipython-static/style/ipython.min.css" rel="stylesheet">
    <link href="/static/css/pygments.css" rel="stylesheet">
    <style type="text/css" media='screen and (min-width:980px)'>
   
    body {
        padding-top: 40px;
    }

    </style>
    <style type="text/css" >
    .imgwrap {
        text-align: center;
    }

    @media (max-width: 767px){

        div.input, div.output_area {
            -webkit-box-orient: vertical;
            -moz-box-orient: vertical;
            box-orient: vertical;
        }

        div.prompt {
            text-align:left;
        }

    }

    
    </style>
    
    <script src="https://cdn.mathjax.org/mathjax/latest/MathJax.js?config=TeX-AMS_HTML"type="text/javascript">
    </script>
    <script type="text/javascript">
    init_mathjax = function() {
        if (window.MathJax) {
            // MathJax loaded
            MathJax.Hub.Config({
                tex2jax: {
                    inlineMath: [ ['$','$'], ["\\(","\\)"] ],
                    displayMath: [ ['$$','$$'], ["\\[","\\]"] ],
                    processEscapes: true,
                    processEnvironments: true
                },
                displayAlign: 'center',
                "HTML-CSS": {
                    styles: {'.MathJax_Display': {"margin": 0}},
                    linebreaks: { automatic: true }
                }
            });
            MathJax.Hub.Queue(["Typeset",MathJax.Hub]);
        }
    }
    init_mathjax();
    </script>
    
  </head>

  <body data-spy="scroll" data-target=".subnav" data-offset="50">

  <!-- These are loaded at the top of the body so they are available to notebook
  cells when they are loaded below. -->
  <script src="/static/js/jquery.min.js"></script>
  <script src="/static/components/requirejs/require.js"></script>
  <script src="/static/components/moment/min/moment.min.js"></script>

  <!-- Navbar
  ================================================== -->
    <div id='menubar' class="navbar navbar-fixed-top hidden-print">
      <div class="navbar-inner">
        <div class="container">
          <button type="button" class="btn btn-navbar" data-toggle="collapse" data-target=".nav-collapse">
            <span class="fa fa-bars"></span>
          </button>
          <div class="nav-collapse collapse">
            <ul class="nav">

                <li>
        <a href="/" title="nbviewer" >
            <strong>
            <span>nbviewer</span>
            </strong>
        </a>
    </li>
                <li>
        <a href="/faq" title="FAQ" >
            
            <span>FAQ</span>
            
        </a>
    </li>

              <li class="">
                <a href="http://www.ipython.org">IPython</a>
              </li>
            </ul>
            <ul class="nav pull-right"> 
              
              
      
        <li>
        <a href="https://github.com/twiecki/financial-analysis-python-tutorial/blob/master/1.%20Pandas%20Basics.ipynb" title="Notebook Home" >
            <span class='fa fa-github fa-2x menu-icon'></span>
            <span class='menu-text'>Notebook Home</span>
        </a>
    </li>
      
        <li>
        <a href="https://raw.githubusercontent.com/twiecki/financial-analysis-python-tutorial/master/1.%20Pandas%20Basics.ipynb" title="Download Notebook" download>
            <span class='fa fa-download fa-2x menu-icon'></span>
            <span class='menu-text'>Download Notebook</span>
        </a>
    </li>
    
            </ul>
          </div>
        </div>
      </div>
    </div>
    <div class="container">

     
    
<ul class="breadcrumb">
    
    <li><a href="/github/twiecki/financial-analysis-python-tutorial/tree/master">financial-analysis-python-tutorial</a> <span class="divider">/</span></li>
    
    <li><a href="/github/twiecki/financial-analysis-python-tutorial/tree/master/1. Pandas Basics.ipynb">1. Pandas Basics.ipynb</a> <span class="divider">/</span></li>
    
</ul>

    
<div class="cell border-box-sizing text_cell rendered">
<div class="prompt input_prompt">
</div>
<div class="inner_cell">
<div class="text_cell_render border-box-sizing rendered_html">
<h1 id="Financial-Analysis-in-Python">Financial Analysis in Python<a class="anchor-link" href="#Financial-Analysis-in-Python">&#182;</a></h1>
</div>
</div>
</div>

<div class="cell border-box-sizing text_cell rendered">
<div class="prompt input_prompt">
</div>
<div class="inner_cell">
<div class="text_cell_render border-box-sizing rendered_html">
<h2 id="what-you-will-learn-in-this-tutorial">What you will learn in this tutorial</h2>
<ul>
<li>Timeseries analysis using Pandas</li>
<li>Using Google Trends to predict market movements</li>
<li>Build your own trading strategy using Zipline</li>
<li>Common trading strategies:<ul>
<li>Momentum trading</li>
<li>Mean-reversion</li>
</ul>
</li>
</ul>
</div>
</div>
</div>
<div class="cell border-box-sizing text_cell rendered">
<div class="prompt input_prompt">
</div>
<div class="inner_cell">
<div class="text_cell_render border-box-sizing rendered_html">
<h2 id="different-stages-towards-a-successful-trading-strategy">Different stages towards a successful trading strategy</h2>
<ol>
<li>Data analysis / Idea generation<ul>
<li>Pandas + Matplotlib (Part I)</li>
</ul>
</li>
<li>Backtest strategy<ul>
<li>Pandas can be used but many limitations (Part II)</li>
<li>-&gt; Zipline (Part III)</li>
</ul>
</li>
<li>Optimize<ul>
<li>See my previous <a href="http://blog.quantopian.com/zipline_in_the_cloud/">PyData talk</a></li>
</ul>
</li>
<li>Forward test strategy (paper trading)<ul>
<li>Trivial on Quantopian (Part IV)</li>
</ul>
</li>
<li>Live trading!<ul>
<li>Coming soon...</li>
</ul>
</li>
</ol>
</div>
</div>
</div>
<div class="cell border-box-sizing text_cell rendered">
<div class="prompt input_prompt">
</div>
<div class="inner_cell">
<div class="text_cell_render border-box-sizing rendered_html">
<h1 id="Pandas-basics-(Data-analysis-/-Idea-generation)">Pandas basics (Data analysis / Idea generation)<a class="anchor-link" href="#Pandas-basics-(Data-analysis-/-Idea-generation)">&#182;</a></h1>
</div>
</div>
</div>

<div class="cell border-box-sizing code_cell rendered">
<div class="input">
<div class="prompt input_prompt">In&nbsp;[1]:</div>
<div class="inner_cell">
    <div class="input_area">
<div class="highlight"><pre><span class="kn">from</span> <span class="nn">IPython.core.display</span> <span class="kn">import</span> <span class="n">HTML</span>
<span class="n">HTML</span><span class="p">(</span><span class="s">&quot;&lt;iframe src=http://pandas.pydata.org width=800 height=350&gt;&lt;/iframe&gt;&quot;</span><span class="p">)</span>
</pre></div>

</div>
</div>
</div>

<div class="output_wrapper">
<div class="output">


<div class="output_area"><div class="prompt output_prompt">Out[1]:</div>

<div class="output_html rendered_html output_subarea output_pyout">
<iframe src=http://pandas.pydata.org width=800 height=350></iframe>
</div>

</div>

</div>
</div>

</div>
<div class="cell border-box-sizing code_cell rendered">
<div class="input">
<div class="prompt input_prompt">In&nbsp;[2]:</div>
<div class="inner_cell">
    <div class="input_area">
<div class="highlight"><pre><span class="kn">import</span> <span class="nn">datetime</span>

<span class="kn">import</span> <span class="nn">pandas</span> <span class="kn">as</span> <span class="nn">pd</span>
<span class="kn">import</span> <span class="nn">pandas.io.data</span>
<span class="kn">from</span> <span class="nn">pandas</span> <span class="kn">import</span> <span class="n">Series</span><span class="p">,</span> <span class="n">DataFrame</span>
<span class="n">pd</span><span class="o">.</span><span class="n">__version__</span>
</pre></div>

</div>
</div>
</div>

<div class="output_wrapper">
<div class="output">


<div class="output_area"><div class="prompt output_prompt">Out[2]:</div>


<div class="output_text output_subarea output_pyout">
<pre>
&apos;0.11.0&apos;
</pre>
</div>

</div>

</div>
</div>

</div>
<div class="cell border-box-sizing code_cell rendered">
<div class="input">
<div class="prompt input_prompt">In&nbsp;[3]:</div>
<div class="inner_cell">
    <div class="input_area">
<div class="highlight"><pre><span class="kn">import</span> <span class="nn">matplotlib.pyplot</span> <span class="kn">as</span> <span class="nn">plt</span>
<span class="kn">import</span> <span class="nn">matplotlib</span> <span class="kn">as</span> <span class="nn">mpl</span>
<span class="n">mpl</span><span class="o">.</span><span class="n">rc</span><span class="p">(</span><span class="s">&#39;figure&#39;</span><span class="p">,</span> <span class="n">figsize</span><span class="o">=</span><span class="p">(</span><span class="mi">8</span><span class="p">,</span> <span class="mi">7</span><span class="p">))</span>
<span class="n">mpl</span><span class="o">.</span><span class="n">__version__</span>
</pre></div>

</div>
</div>
</div>

<div class="output_wrapper">
<div class="output">


<div class="output_area"><div class="prompt output_prompt">Out[3]:</div>


<div class="output_text output_subarea output_pyout">
<pre>
&apos;1.2.1&apos;
</pre>
</div>

</div>

</div>
</div>

</div>
<div class="cell border-box-sizing text_cell rendered">
<div class="prompt input_prompt">
</div>
<div class="inner_cell">
<div class="text_cell_render border-box-sizing rendered_html">
<h1 id="creating-loading-time-series-data">Creating/loading time series data</h1>
<ul>
<li>From Python structures</li>
<li>From Yahoo finance</li>
<li>From CSV files</li>
</ul>
</div>
</div>
</div>
<div class="cell border-box-sizing text_cell rendered">
<div class="prompt input_prompt">
</div>
<div class="inner_cell">
<div class="text_cell_render border-box-sizing rendered_html">
<h3 id="From-Python-structures">From Python structures<a class="anchor-link" href="#From-Python-structures">&#182;</a></h3>
</div>
</div>
</div>

<div class="cell border-box-sizing code_cell rendered">
<div class="input">
<div class="prompt input_prompt">In&nbsp;[4]:</div>
<div class="inner_cell">
    <div class="input_area">
<div class="highlight"><pre><span class="n">labels</span> <span class="o">=</span> <span class="p">[</span><span class="s">&#39;a&#39;</span><span class="p">,</span> <span class="s">&#39;b&#39;</span><span class="p">,</span> <span class="s">&#39;c&#39;</span><span class="p">,</span> <span class="s">&#39;d&#39;</span><span class="p">,</span> <span class="s">&#39;e&#39;</span><span class="p">]</span>
<span class="n">s</span> <span class="o">=</span> <span class="n">Series</span><span class="p">([</span><span class="mi">1</span><span class="p">,</span> <span class="mi">2</span><span class="p">,</span> <span class="mi">3</span><span class="p">,</span> <span class="mi">4</span><span class="p">,</span> <span class="mi">5</span><span class="p">],</span> <span class="n">index</span><span class="o">=</span><span class="n">labels</span><span class="p">)</span>
<span class="n">s</span>
</pre></div>

</div>
</div>
</div>

<div class="output_wrapper">
<div class="output">


<div class="output_area"><div class="prompt output_prompt">Out[4]:</div>


<div class="output_text output_subarea output_pyout">
<pre>
a    1
b    2
c    3
d    4
e    5
dtype: int64
</pre>
</div>

</div>

</div>
</div>

</div>
<div class="cell border-box-sizing code_cell rendered">
<div class="input">
<div class="prompt input_prompt">In&nbsp;[5]:</div>
<div class="inner_cell">
    <div class="input_area">
<div class="highlight"><pre><span class="s">&#39;b&#39;</span> <span class="ow">in</span> <span class="n">s</span>
</pre></div>

</div>
</div>
</div>

<div class="output_wrapper">
<div class="output">


<div class="output_area"><div class="prompt output_prompt">Out[5]:</div>


<div class="output_text output_subarea output_pyout">
<pre>
True
</pre>
</div>

</div>

</div>
</div>

</div>
<div class="cell border-box-sizing code_cell rendered">
<div class="input">
<div class="prompt input_prompt">In&nbsp;[6]:</div>
<div class="inner_cell">
    <div class="input_area">
<div class="highlight"><pre><span class="n">s</span><span class="p">[</span><span class="s">&#39;b&#39;</span><span class="p">]</span>
</pre></div>

</div>
</div>
</div>

<div class="output_wrapper">
<div class="output">


<div class="output_area"><div class="prompt output_prompt">Out[6]:</div>


<div class="output_text output_subarea output_pyout">
<pre>
2
</pre>
</div>

</div>

</div>
</div>

</div>
<div class="cell border-box-sizing code_cell rendered">
<div class="input">
<div class="prompt input_prompt">In&nbsp;[7]:</div>
<div class="inner_cell">
    <div class="input_area">
<div class="highlight"><pre><span class="n">mapping</span> <span class="o">=</span> <span class="n">s</span><span class="o">.</span><span class="n">to_dict</span><span class="p">()</span>
<span class="n">mapping</span>
</pre></div>

</div>
</div>
</div>

<div class="output_wrapper">
<div class="output">


<div class="output_area"><div class="prompt output_prompt">Out[7]:</div>


<div class="output_text output_subarea output_pyout">
<pre>
{&apos;a&apos;: 1, &apos;b&apos;: 2, &apos;c&apos;: 3, &apos;d&apos;: 4, &apos;e&apos;: 5}
</pre>
</div>

</div>

</div>
</div>

</div>
<div class="cell border-box-sizing code_cell rendered">
<div class="input">
<div class="prompt input_prompt">In&nbsp;[8]:</div>
<div class="inner_cell">
    <div class="input_area">
<div class="highlight"><pre><span class="n">Series</span><span class="p">(</span><span class="n">mapping</span><span class="p">)</span>
</pre></div>

</div>
</div>
</div>

<div class="output_wrapper">
<div class="output">


<div class="output_area"><div class="prompt output_prompt">Out[8]:</div>


<div class="output_text output_subarea output_pyout">
<pre>
a    1
b    2
c    3
d    4
e    5
dtype: int64
</pre>
</div>

</div>

</div>
</div>

</div>
<div class="cell border-box-sizing text_cell rendered">
<div class="prompt input_prompt">
</div>
<div class="inner_cell">
<div class="text_cell_render border-box-sizing rendered_html">
<h3 id="From-Yahoo-finance">From Yahoo finance<a class="anchor-link" href="#From-Yahoo-finance">&#182;</a></h3>
</div>
</div>
</div>

<div class="cell border-box-sizing code_cell rendered">
<div class="input">
<div class="prompt input_prompt">In&nbsp;[9]:</div>
<div class="inner_cell">
    <div class="input_area">
<div class="highlight"><pre><span class="n">aapl</span> <span class="o">=</span> <span class="n">pd</span><span class="o">.</span><span class="n">io</span><span class="o">.</span><span class="n">data</span><span class="o">.</span><span class="n">get_data_yahoo</span><span class="p">(</span><span class="s">&#39;AAPL&#39;</span><span class="p">,</span> 
                                 <span class="n">start</span><span class="o">=</span><span class="n">datetime</span><span class="o">.</span><span class="n">datetime</span><span class="p">(</span><span class="mi">2006</span><span class="p">,</span> <span class="mi">10</span><span class="p">,</span> <span class="mi">1</span><span class="p">),</span> 
                                 <span class="n">end</span><span class="o">=</span><span class="n">datetime</span><span class="o">.</span><span class="n">datetime</span><span class="p">(</span><span class="mi">2012</span><span class="p">,</span> <span class="mi">1</span><span class="p">,</span> <span class="mi">1</span><span class="p">))</span>
<span class="n">aapl</span><span class="o">.</span><span class="n">head</span><span class="p">()</span>
</pre></div>

</div>
</div>
</div>

<div class="output_wrapper">
<div class="output">


<div class="output_area"><div class="prompt output_prompt">Out[9]:</div>

<div class="output_html rendered_html output_subarea output_pyout">
<div style="max-height:1000px;max-width:1500px;overflow:auto;">
<table border="1" class="dataframe">
  <thead>
    <tr style="text-align: right;">
      <th></th>
      <th>Open</th>
      <th>High</th>
      <th>Low</th>
      <th>Close</th>
      <th>Volume</th>
      <th>Adj Close</th>
    </tr>
    <tr>
      <th>Date</th>
      <th></th>
      <th></th>
      <th></th>
      <th></th>
      <th></th>
      <th></th>
    </tr>
  </thead>
  <tbody>
    <tr>
      <th>2006-10-02</th>
      <td> 75.10</td>
      <td> 75.87</td>
      <td> 74.30</td>
      <td> 74.86</td>
      <td> 25451400</td>
      <td> 73.29</td>
    </tr>
    <tr>
      <th>2006-10-03</th>
      <td> 74.45</td>
      <td> 74.95</td>
      <td> 73.19</td>
      <td> 74.08</td>
      <td> 28239600</td>
      <td> 72.52</td>
    </tr>
    <tr>
      <th>2006-10-04</th>
      <td> 74.10</td>
      <td> 75.46</td>
      <td> 73.16</td>
      <td> 75.38</td>
      <td> 29610100</td>
      <td> 73.80</td>
    </tr>
    <tr>
      <th>2006-10-05</th>
      <td> 74.53</td>
      <td> 76.16</td>
      <td> 74.13</td>
      <td> 74.83</td>
      <td> 24424400</td>
      <td> 73.26</td>
    </tr>
    <tr>
      <th>2006-10-06</th>
      <td> 74.42</td>
      <td> 75.04</td>
      <td> 73.81</td>
      <td> 74.22</td>
      <td> 16677100</td>
      <td> 72.66</td>
    </tr>
  </tbody>
</table>
</div>
</div>

</div>

</div>
</div>

</div>
<div class="cell border-box-sizing text_cell rendered">
<div class="prompt input_prompt">
</div>
<div class="inner_cell">
<div class="text_cell_render border-box-sizing rendered_html">
<h3 id="From-CSV-files">From CSV files<a class="anchor-link" href="#From-CSV-files">&#182;</a></h3>
</div>
</div>
</div>

<div class="cell border-box-sizing code_cell rendered">
<div class="input">
<div class="prompt input_prompt">In&nbsp;[10]:</div>
<div class="inner_cell">
    <div class="input_area">
<div class="highlight"><pre><span class="n">aapl</span><span class="o">.</span><span class="n">to_csv</span><span class="p">(</span><span class="s">&#39;data/aapl_ohlc.csv&#39;</span><span class="p">)</span>
<span class="o">!</span>head data/aapl_ohlc.csv
</pre></div>

</div>
</div>
</div>

<div class="output_wrapper">
<div class="output">


<div class="output_area"><div class="prompt"></div>
<div class="output_subarea output_stream output_stdout output_text">
<pre>
Date,Open,High,Low,Close,Volume,Adj Close
2006-10-02,75.1,75.87,74.3,74.86,25451400,73.29
2006-10-03,74.45,74.95,73.19,74.08,28239600,72.52
2006-10-04,74.1,75.46,73.16,75.38,29610100,73.8
2006-10-05,74.53,76.16,74.13,74.83,24424400,73.26
2006-10-06,74.42,75.04,73.81,74.22,16677100,72.66
2006-10-09,73.8,75.08,73.53,74.63,15650800,73.06
2006-10-10,74.54,74.58,73.08,73.81,18985300,72.26
2006-10-11,73.42,73.98,72.6,73.23,20423400,71.69
2006-10-12,73.61,75.39,73.6,75.26,21173400,73.68

</pre>
</div>
</div>

</div>
</div>

</div>
<div class="cell border-box-sizing code_cell rendered">
<div class="input">
<div class="prompt input_prompt">In&nbsp;[11]:</div>
<div class="inner_cell">
    <div class="input_area">
<div class="highlight"><pre><span class="n">df</span> <span class="o">=</span> <span class="n">pd</span><span class="o">.</span><span class="n">read_csv</span><span class="p">(</span><span class="s">&#39;data/aapl_ohlc.csv&#39;</span><span class="p">,</span> <span class="n">index_col</span><span class="o">=</span><span class="s">&#39;Date&#39;</span><span class="p">,</span> <span class="n">parse_dates</span><span class="o">=</span><span class="bp">True</span><span class="p">)</span>
<span class="n">df</span><span class="o">.</span><span class="n">head</span><span class="p">()</span>
</pre></div>

</div>
</div>
</div>

<div class="output_wrapper">
<div class="output">


<div class="output_area"><div class="prompt output_prompt">Out[11]:</div>

<div class="output_html rendered_html output_subarea output_pyout">
<div style="max-height:1000px;max-width:1500px;overflow:auto;">
<table border="1" class="dataframe">
  <thead>
    <tr style="text-align: right;">
      <th></th>
      <th>Open</th>
      <th>High</th>
      <th>Low</th>
      <th>Close</th>
      <th>Volume</th>
      <th>Adj Close</th>
    </tr>
    <tr>
      <th>Date</th>
      <th></th>
      <th></th>
      <th></th>
      <th></th>
      <th></th>
      <th></th>
    </tr>
  </thead>
  <tbody>
    <tr>
      <th>2006-10-02</th>
      <td> 75.10</td>
      <td> 75.87</td>
      <td> 74.30</td>
      <td> 74.86</td>
      <td> 25451400</td>
      <td> 73.29</td>
    </tr>
    <tr>
      <th>2006-10-03</th>
      <td> 74.45</td>
      <td> 74.95</td>
      <td> 73.19</td>
      <td> 74.08</td>
      <td> 28239600</td>
      <td> 72.52</td>
    </tr>
    <tr>
      <th>2006-10-04</th>
      <td> 74.10</td>
      <td> 75.46</td>
      <td> 73.16</td>
      <td> 75.38</td>
      <td> 29610100</td>
      <td> 73.80</td>
    </tr>
    <tr>
      <th>2006-10-05</th>
      <td> 74.53</td>
      <td> 76.16</td>
      <td> 74.13</td>
      <td> 74.83</td>
      <td> 24424400</td>
      <td> 73.26</td>
    </tr>
    <tr>
      <th>2006-10-06</th>
      <td> 74.42</td>
      <td> 75.04</td>
      <td> 73.81</td>
      <td> 74.22</td>
      <td> 16677100</td>
      <td> 72.66</td>
    </tr>
  </tbody>
</table>
</div>
</div>

</div>

</div>
</div>

</div>
<div class="cell border-box-sizing code_cell rendered">
<div class="input">
<div class="prompt input_prompt">In&nbsp;[12]:</div>
<div class="inner_cell">
    <div class="input_area">
<div class="highlight"><pre><span class="n">df</span><span class="o">.</span><span class="n">index</span>
</pre></div>

</div>
</div>
</div>

<div class="output_wrapper">
<div class="output">


<div class="output_area"><div class="prompt output_prompt">Out[12]:</div>


<div class="output_text output_subarea output_pyout">
<pre>
&lt;class &apos;pandas.tseries.index.DatetimeIndex&apos;&gt;
[2006-10-02 00:00:00, ..., 2011-12-30 00:00:00]
Length: 1323, Freq: None, Timezone: None
</pre>
</div>

</div>

</div>
</div>

</div>
<div class="cell border-box-sizing text_cell rendered">
<div class="prompt input_prompt">
</div>
<div class="inner_cell">
<div class="text_cell_render border-box-sizing rendered_html">
<h1 id="series-and-dataframe-first-steps">Series and DataFrame: First steps</h1>
<ul>
<li>Indexing</li>
<li>Slicing</li>
<li>Creating new columns</li>
</ul>
</div>
</div>
</div>
<div class="cell border-box-sizing code_cell rendered">
<div class="input">
<div class="prompt input_prompt">In&nbsp;[13]:</div>
<div class="inner_cell">
    <div class="input_area">
<div class="highlight"><pre><span class="n">ts</span> <span class="o">=</span> <span class="n">df</span><span class="p">[</span><span class="s">&#39;Close&#39;</span><span class="p">][</span><span class="o">-</span><span class="mi">10</span><span class="p">:]</span>
<span class="n">ts</span>
</pre></div>

</div>
</div>
</div>

<div class="output_wrapper">
<div class="output">


<div class="output_area"><div class="prompt output_prompt">Out[13]:</div>


<div class="output_text output_subarea output_pyout">
<pre>
Date
2011-12-16    381.02
2011-12-19    382.21
2011-12-20    395.95
2011-12-21    396.45
2011-12-22    398.55
2011-12-23    403.33
2011-12-27    406.53
2011-12-28    402.64
2011-12-29    405.12
2011-12-30    405.00
Name: Close, dtype: float64
</pre>
</div>

</div>

</div>
</div>

</div>
<div class="cell border-box-sizing text_cell rendered">
<div class="prompt input_prompt">
</div>
<div class="inner_cell">
<div class="text_cell_render border-box-sizing rendered_html">
<p>A DataFrame is a collection of Series objects. Slicing out a DataFrame column returns a Series.</p>
</div>
</div>
</div>
<div class="cell border-box-sizing code_cell rendered">
<div class="input">
<div class="prompt input_prompt">In&nbsp;[14]:</div>
<div class="inner_cell">
    <div class="input_area">
<div class="highlight"><pre><span class="nb">type</span><span class="p">(</span><span class="n">ts</span><span class="p">)</span>
</pre></div>

</div>
</div>
</div>

<div class="output_wrapper">
<div class="output">


<div class="output_area"><div class="prompt output_prompt">Out[14]:</div>


<div class="output_text output_subarea output_pyout">
<pre>
pandas.core.series.TimeSeries
</pre>
</div>

</div>

</div>
</div>

</div>
<div class="cell border-box-sizing code_cell rendered">
<div class="input">
<div class="prompt input_prompt">In&nbsp;[15]:</div>
<div class="inner_cell">
    <div class="input_area">
<div class="highlight"><pre><span class="n">date</span> <span class="o">=</span> <span class="n">ts</span><span class="o">.</span><span class="n">index</span><span class="p">[</span><span class="mi">5</span><span class="p">]</span>
<span class="n">date</span>
</pre></div>

</div>
</div>
</div>

<div class="output_wrapper">
<div class="output">


<div class="output_area"><div class="prompt output_prompt">Out[15]:</div>


<div class="output_text output_subarea output_pyout">
<pre>
&lt;Timestamp: 2011-12-23 00:00:00&gt;
</pre>
</div>

</div>

</div>
</div>

</div>
<div class="cell border-box-sizing code_cell rendered">
<div class="input">
<div class="prompt input_prompt">In&nbsp;[16]:</div>
<div class="inner_cell">
    <div class="input_area">
<div class="highlight"><pre><span class="n">ts</span><span class="p">[</span><span class="n">date</span><span class="p">]</span>
</pre></div>

</div>
</div>
</div>

<div class="output_wrapper">
<div class="output">


<div class="output_area"><div class="prompt output_prompt">Out[16]:</div>


<div class="output_text output_subarea output_pyout">
<pre>
403.32999999999998
</pre>
</div>

</div>

</div>
</div>

</div>
<div class="cell border-box-sizing code_cell rendered">
<div class="input">
<div class="prompt input_prompt">In&nbsp;[17]:</div>
<div class="inner_cell">
    <div class="input_area">
<div class="highlight"><pre><span class="n">ts</span><span class="p">[</span><span class="mi">5</span><span class="p">]</span>
</pre></div>

</div>
</div>
</div>

<div class="output_wrapper">
<div class="output">


<div class="output_area"><div class="prompt output_prompt">Out[17]:</div>


<div class="output_text output_subarea output_pyout">
<pre>
403.32999999999998
</pre>
</div>

</div>

</div>
</div>

</div>
<div class="cell border-box-sizing text_cell rendered">
<div class="prompt input_prompt">
</div>
<div class="inner_cell">
<div class="text_cell_render border-box-sizing rendered_html">
<p>We can also select multiple columns.</p>
</div>
</div>
</div>
<div class="cell border-box-sizing code_cell rendered">
<div class="input">
<div class="prompt input_prompt">In&nbsp;[18]:</div>
<div class="inner_cell">
    <div class="input_area">
<div class="highlight"><pre><span class="n">df</span><span class="p">[[</span><span class="s">&#39;Open&#39;</span><span class="p">,</span> <span class="s">&#39;Close&#39;</span><span class="p">]]</span><span class="o">.</span><span class="n">head</span><span class="p">()</span>
</pre></div>

</div>
</div>
</div>

<div class="output_wrapper">
<div class="output">


<div class="output_area"><div class="prompt output_prompt">Out[18]:</div>

<div class="output_html rendered_html output_subarea output_pyout">
<div style="max-height:1000px;max-width:1500px;overflow:auto;">
<table border="1" class="dataframe">
  <thead>
    <tr style="text-align: right;">
      <th></th>
      <th>Open</th>
      <th>Close</th>
    </tr>
    <tr>
      <th>Date</th>
      <th></th>
      <th></th>
    </tr>
  </thead>
  <tbody>
    <tr>
      <th>2006-10-02</th>
      <td> 75.10</td>
      <td> 74.86</td>
    </tr>
    <tr>
      <th>2006-10-03</th>
      <td> 74.45</td>
      <td> 74.08</td>
    </tr>
    <tr>
      <th>2006-10-04</th>
      <td> 74.10</td>
      <td> 75.38</td>
    </tr>
    <tr>
      <th>2006-10-05</th>
      <td> 74.53</td>
      <td> 74.83</td>
    </tr>
    <tr>
      <th>2006-10-06</th>
      <td> 74.42</td>
      <td> 74.22</td>
    </tr>
  </tbody>
</table>
</div>
</div>

</div>

</div>
</div>

</div>
<div class="cell border-box-sizing text_cell rendered">
<div class="prompt input_prompt">
</div>
<div class="inner_cell">
<div class="text_cell_render border-box-sizing rendered_html">
<p>New columns can be added on the fly.</p>
</div>
</div>
</div>
<div class="cell border-box-sizing code_cell rendered">
<div class="input">
<div class="prompt input_prompt">In&nbsp;[19]:</div>
<div class="inner_cell">
    <div class="input_area">
<div class="highlight"><pre><span class="n">df</span><span class="p">[</span><span class="s">&#39;diff&#39;</span><span class="p">]</span> <span class="o">=</span> <span class="n">df</span><span class="o">.</span><span class="n">Open</span> <span class="o">-</span> <span class="n">df</span><span class="o">.</span><span class="n">Close</span>
<span class="n">df</span><span class="o">.</span><span class="n">head</span><span class="p">()</span>
</pre></div>

</div>
</div>
</div>

<div class="output_wrapper">
<div class="output">


<div class="output_area"><div class="prompt output_prompt">Out[19]:</div>

<div class="output_html rendered_html output_subarea output_pyout">
<div style="max-height:1000px;max-width:1500px;overflow:auto;">
<table border="1" class="dataframe">
  <thead>
    <tr style="text-align: right;">
      <th></th>
      <th>Open</th>
      <th>High</th>
      <th>Low</th>
      <th>Close</th>
      <th>Volume</th>
      <th>Adj Close</th>
      <th>diff</th>
    </tr>
    <tr>
      <th>Date</th>
      <th></th>
      <th></th>
      <th></th>
      <th></th>
      <th></th>
      <th></th>
      <th></th>
    </tr>
  </thead>
  <tbody>
    <tr>
      <th>2006-10-02</th>
      <td> 75.10</td>
      <td> 75.87</td>
      <td> 74.30</td>
      <td> 74.86</td>
      <td> 25451400</td>
      <td> 73.29</td>
      <td> 0.24</td>
    </tr>
    <tr>
      <th>2006-10-03</th>
      <td> 74.45</td>
      <td> 74.95</td>
      <td> 73.19</td>
      <td> 74.08</td>
      <td> 28239600</td>
      <td> 72.52</td>
      <td> 0.37</td>
    </tr>
    <tr>
      <th>2006-10-04</th>
      <td> 74.10</td>
      <td> 75.46</td>
      <td> 73.16</td>
      <td> 75.38</td>
      <td> 29610100</td>
      <td> 73.80</td>
      <td>-1.28</td>
    </tr>
    <tr>
      <th>2006-10-05</th>
      <td> 74.53</td>
      <td> 76.16</td>
      <td> 74.13</td>
      <td> 74.83</td>
      <td> 24424400</td>
      <td> 73.26</td>
      <td>-0.30</td>
    </tr>
    <tr>
      <th>2006-10-06</th>
      <td> 74.42</td>
      <td> 75.04</td>
      <td> 73.81</td>
      <td> 74.22</td>
      <td> 16677100</td>
      <td> 72.66</td>
      <td> 0.20</td>
    </tr>
  </tbody>
</table>
</div>
</div>

</div>

</div>
</div>

</div>
<div class="cell border-box-sizing text_cell rendered">
<div class="prompt input_prompt">
</div>
<div class="inner_cell">
<div class="text_cell_render border-box-sizing rendered_html">
<p>...and deleted on the fly.</p>
</div>
</div>
</div>
<div class="cell border-box-sizing code_cell rendered">
<div class="input">
<div class="prompt input_prompt">In&nbsp;[20]:</div>
<div class="inner_cell">
    <div class="input_area">
<div class="highlight"><pre><span class="k">del</span> <span class="n">df</span><span class="p">[</span><span class="s">&#39;diff&#39;</span><span class="p">]</span>
<span class="n">df</span><span class="o">.</span><span class="n">head</span><span class="p">()</span>
</pre></div>

</div>
</div>
</div>

<div class="output_wrapper">
<div class="output">


<div class="output_area"><div class="prompt output_prompt">Out[20]:</div>

<div class="output_html rendered_html output_subarea output_pyout">
<div style="max-height:1000px;max-width:1500px;overflow:auto;">
<table border="1" class="dataframe">
  <thead>
    <tr style="text-align: right;">
      <th></th>
      <th>Open</th>
      <th>High</th>
      <th>Low</th>
      <th>Close</th>
      <th>Volume</th>
      <th>Adj Close</th>
    </tr>
    <tr>
      <th>Date</th>
      <th></th>
      <th></th>
      <th></th>
      <th></th>
      <th></th>
      <th></th>
    </tr>
  </thead>
  <tbody>
    <tr>
      <th>2006-10-02</th>
      <td> 75.10</td>
      <td> 75.87</td>
      <td> 74.30</td>
      <td> 74.86</td>
      <td> 25451400</td>
      <td> 73.29</td>
    </tr>
    <tr>
      <th>2006-10-03</th>
      <td> 74.45</td>
      <td> 74.95</td>
      <td> 73.19</td>
      <td> 74.08</td>
      <td> 28239600</td>
      <td> 72.52</td>
    </tr>
    <tr>
      <th>2006-10-04</th>
      <td> 74.10</td>
      <td> 75.46</td>
      <td> 73.16</td>
      <td> 75.38</td>
      <td> 29610100</td>
      <td> 73.80</td>
    </tr>
    <tr>
      <th>2006-10-05</th>
      <td> 74.53</td>
      <td> 76.16</td>
      <td> 74.13</td>
      <td> 74.83</td>
      <td> 24424400</td>
      <td> 73.26</td>
    </tr>
    <tr>
      <th>2006-10-06</th>
      <td> 74.42</td>
      <td> 75.04</td>
      <td> 73.81</td>
      <td> 74.22</td>
      <td> 16677100</td>
      <td> 72.66</td>
    </tr>
  </tbody>
</table>
</div>
</div>

</div>

</div>
</div>

</div>
<div class="cell border-box-sizing text_cell rendered">
<div class="prompt input_prompt">
</div>
<div class="inner_cell">
<div class="text_cell_render border-box-sizing rendered_html">
<h2 id="common-financial-computations">Common Financial Computations</h2>
<ul>
<li>Moving Average</li>
<li>Returns</li>
</ul>
</div>
</div>
</div>
<div class="cell border-box-sizing code_cell rendered">
<div class="input">
<div class="prompt input_prompt">In&nbsp;[21]:</div>
<div class="inner_cell">
    <div class="input_area">
<div class="highlight"><pre><span class="n">close_px</span> <span class="o">=</span> <span class="n">df</span><span class="p">[</span><span class="s">&#39;Adj Close&#39;</span><span class="p">]</span>
</pre></div>

</div>
</div>
</div>

</div>
<div class="cell border-box-sizing code_cell rendered">
<div class="input">
<div class="prompt input_prompt">In&nbsp;[22]:</div>
<div class="inner_cell">
    <div class="input_area">
<div class="highlight"><pre><span class="n">mavg</span> <span class="o">=</span> <span class="n">pd</span><span class="o">.</span><span class="n">rolling_mean</span><span class="p">(</span><span class="n">close_px</span><span class="p">,</span> <span class="mi">40</span><span class="p">)</span>
<span class="n">mavg</span><span class="p">[</span><span class="o">-</span><span class="mi">10</span><span class="p">:]</span>
</pre></div>

</div>
</div>
</div>

<div class="output_wrapper">
<div class="output">


<div class="output_area"><div class="prompt output_prompt">Out[22]:</div>


<div class="output_text output_subarea output_pyout">
<pre>
Date
2011-12-16    380.53500
2011-12-19    380.27400
2011-12-20    380.03350
2011-12-21    380.00100
2011-12-22    379.95075
2011-12-23    379.91750
2011-12-27    379.95600
2011-12-28    379.90350
2011-12-29    380.11425
2011-12-30    380.30000
dtype: float64
</pre>
</div>

</div>

</div>
</div>

</div>
<div class="cell border-box-sizing text_cell rendered">
<div class="prompt input_prompt">
</div>
<div class="inner_cell">
<div class="text_cell_render border-box-sizing rendered_html">
<p>Returns defined as: 
$$ $$
$$r_t = \frac{p_t - p_{t-1}}{p_{t-1}} = \frac{p_t}{p_{t-1}} - 1$$</p>
</div>
</div>
</div>
<div class="cell border-box-sizing code_cell rendered">
<div class="input">
<div class="prompt input_prompt">In&nbsp;[23]:</div>
<div class="inner_cell">
    <div class="input_area">
<div class="highlight"><pre><span class="n">rets</span> <span class="o">=</span> <span class="n">close_px</span> <span class="o">/</span> <span class="n">close_px</span><span class="o">.</span><span class="n">shift</span><span class="p">(</span><span class="mi">1</span><span class="p">)</span> <span class="o">-</span> <span class="mi">1</span>
<span class="n">rets</span><span class="o">.</span><span class="n">head</span><span class="p">()</span>
</pre></div>

</div>
</div>
</div>

<div class="output_wrapper">
<div class="output">


<div class="output_area"><div class="prompt output_prompt">Out[23]:</div>


<div class="output_text output_subarea output_pyout">
<pre>
Date
2006-10-02         NaN
2006-10-03   -0.010506
2006-10-04    0.017650
2006-10-05   -0.007317
2006-10-06   -0.008190
Name: Adj Close, dtype: float64
</pre>
</div>

</div>

</div>
</div>

</div>
<div class="cell border-box-sizing text_cell rendered">
<div class="prompt input_prompt">
</div>
<div class="inner_cell">
<div class="text_cell_render border-box-sizing rendered_html">
<p>Or alternatively <code>.pct_change()</code>.</p>
</div>
</div>
</div>
<div class="cell border-box-sizing code_cell rendered">
<div class="input">
<div class="prompt input_prompt">In&nbsp;[24]:</div>
<div class="inner_cell">
    <div class="input_area">
<div class="highlight"><pre><span class="n">close_px</span><span class="o">.</span><span class="n">pct_change</span><span class="p">()</span><span class="o">.</span><span class="n">head</span><span class="p">()</span>
</pre></div>

</div>
</div>
</div>

<div class="output_wrapper">
<div class="output">


<div class="output_area"><div class="prompt output_prompt">Out[24]:</div>


<div class="output_text output_subarea output_pyout">
<pre>
Date
2006-10-02         NaN
2006-10-03   -0.010506
2006-10-04    0.017650
2006-10-05   -0.007317
2006-10-06   -0.008190
Name: Adj Close, dtype: float64
</pre>
</div>

</div>

</div>
</div>

</div>
<div class="cell border-box-sizing text_cell rendered">
<div class="prompt input_prompt">
</div>
<div class="inner_cell">
<div class="text_cell_render border-box-sizing rendered_html">
<h2 id="plotting-basics">Plotting Basics</h2>
</div>
</div>
</div>
<div class="cell border-box-sizing text_cell rendered">
<div class="prompt input_prompt">
</div>
<div class="inner_cell">
<div class="text_cell_render border-box-sizing rendered_html">
<p>Series and DataFrames have an associated <code>.plot()</code> command (uses Matplotlib behind the scenes).</p>
</div>
</div>
</div>
<div class="cell border-box-sizing code_cell rendered">
<div class="input">
<div class="prompt input_prompt">In&nbsp;[25]:</div>
<div class="inner_cell">
    <div class="input_area">
<div class="highlight"><pre><span class="n">close_px</span><span class="o">.</span><span class="n">plot</span><span class="p">(</span><span class="n">label</span><span class="o">=</span><span class="s">&#39;AAPL&#39;</span><span class="p">)</span>
<span class="n">mavg</span><span class="o">.</span><span class="n">plot</span><span class="p">(</span><span class="n">label</span><span class="o">=</span><span class="s">&#39;mavg&#39;</span><span class="p">)</span>
<span class="n">plt</span><span class="o">.</span><span class="n">legend</span><span class="p">()</span>
</pre></div>

</div>
</div>
</div>

<div class="output_wrapper">
<div class="output">


<div class="output_area"><div class="prompt output_prompt">Out[25]:</div>


<div class="output_text output_subarea output_pyout">
<pre>
&lt;matplotlib.legend.Legend at 0xa17cd8c&gt;
</pre>
</div>

</div>

<div class="output_area"><div class="prompt"></div>


<div class="output_png output_subarea ">
<img src="data:image/png;base64,iVBORw0KGgoAAAANSUhEUgAAAeIAAAGXCAYAAABvBlPRAAAABHNCSVQICAgIfAhkiAAAAAlwSFlz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"
>
</div>

</div>

</div>
</div>

</div>
<div class="cell border-box-sizing text_cell rendered">
<div class="prompt input_prompt">
</div>
<div class="inner_cell">
<div class="text_cell_render border-box-sizing rendered_html">
<h2 id="Optional:-If-there-is-time...">Optional: If there is time...<a class="anchor-link" href="#Optional:-If-there-is-time...">&#182;</a></h2>
</div>
</div>
</div>

<div class="cell border-box-sizing code_cell rendered">
<div class="input">
<div class="prompt input_prompt">In&nbsp;[26]:</div>
<div class="inner_cell">
    <div class="input_area">
<div class="highlight"><pre><span class="n">df</span> <span class="o">=</span> <span class="n">pd</span><span class="o">.</span><span class="n">io</span><span class="o">.</span><span class="n">data</span><span class="o">.</span><span class="n">get_data_yahoo</span><span class="p">([</span><span class="s">&#39;AAPL&#39;</span><span class="p">,</span> <span class="s">&#39;GE&#39;</span><span class="p">,</span> <span class="s">&#39;GOOG&#39;</span><span class="p">,</span> <span class="s">&#39;IBM&#39;</span><span class="p">,</span> <span class="s">&#39;KO&#39;</span><span class="p">,</span> <span class="s">&#39;MSFT&#39;</span><span class="p">,</span> <span class="s">&#39;PEP&#39;</span><span class="p">],</span> 
                               <span class="n">start</span><span class="o">=</span><span class="n">datetime</span><span class="o">.</span><span class="n">datetime</span><span class="p">(</span><span class="mi">2010</span><span class="p">,</span> <span class="mi">1</span><span class="p">,</span> <span class="mi">1</span><span class="p">),</span> 
                               <span class="n">end</span><span class="o">=</span><span class="n">datetime</span><span class="o">.</span><span class="n">datetime</span><span class="p">(</span><span class="mi">2013</span><span class="p">,</span> <span class="mi">1</span><span class="p">,</span> <span class="mi">1</span><span class="p">))[</span><span class="s">&#39;Adj Close&#39;</span><span class="p">]</span>
<span class="n">df</span><span class="o">.</span><span class="n">head</span><span class="p">()</span>
</pre></div>

</div>
</div>
</div>

<div class="output_wrapper">
<div class="output">


<div class="output_area"><div class="prompt output_prompt">Out[26]:</div>

<div class="output_html rendered_html output_subarea output_pyout">
<div style="max-height:1000px;max-width:1500px;overflow:auto;">
<table border="1" class="dataframe">
  <thead>
    <tr style="text-align: right;">
      <th></th>
      <th>AAPL</th>
      <th>GE</th>
      <th>GOOG</th>
      <th>IBM</th>
      <th>KO</th>
      <th>MSFT</th>
      <th>PEP</th>
    </tr>
    <tr>
      <th>Date</th>
      <th></th>
      <th></th>
      <th></th>
      <th></th>
      <th></th>
      <th></th>
      <th></th>
    </tr>
  </thead>
  <tbody>
    <tr>
      <th>2010-01-04</th>
      <td> 209.51</td>
      <td> 13.81</td>
      <td> 626.75</td>
      <td> 124.58</td>
      <td> 25.77</td>
      <td> 28.29</td>
      <td> 55.08</td>
    </tr>
    <tr>
      <th>2010-01-05</th>
      <td> 209.87</td>
      <td> 13.88</td>
      <td> 623.99</td>
      <td> 123.07</td>
      <td> 25.46</td>
      <td> 28.30</td>
      <td> 55.75</td>
    </tr>
    <tr>
      <th>2010-01-06</th>
      <td> 206.53</td>
      <td> 13.81</td>
      <td> 608.26</td>
      <td> 122.27</td>
      <td> 25.45</td>
      <td> 28.12</td>
      <td> 55.19</td>
    </tr>
    <tr>
      <th>2010-01-07</th>
      <td> 206.15</td>
      <td> 14.53</td>
      <td> 594.10</td>
      <td> 121.85</td>
      <td> 25.39</td>
      <td> 27.83</td>
      <td> 54.84</td>
    </tr>
    <tr>
      <th>2010-01-08</th>
      <td> 207.52</td>
      <td> 14.84</td>
      <td> 602.02</td>
      <td> 123.07</td>
      <td> 24.92</td>
      <td> 28.02</td>
      <td> 54.66</td>
    </tr>
  </tbody>
</table>
</div>
</div>

</div>

</div>
</div>

</div>
<div class="cell border-box-sizing code_cell rendered">
<div class="input">
<div class="prompt input_prompt">In&nbsp;[27]:</div>
<div class="inner_cell">
    <div class="input_area">
<div class="highlight"><pre><span class="n">rets</span> <span class="o">=</span> <span class="n">df</span><span class="o">.</span><span class="n">pct_change</span><span class="p">()</span>
</pre></div>

</div>
</div>
</div>

</div>
<div class="cell border-box-sizing code_cell rendered">
<div class="input">
<div class="prompt input_prompt">In&nbsp;[28]:</div>
<div class="inner_cell">
    <div class="input_area">
<div class="highlight"><pre><span class="n">plt</span><span class="o">.</span><span class="n">scatter</span><span class="p">(</span><span class="n">rets</span><span class="o">.</span><span class="n">PEP</span><span class="p">,</span> <span class="n">rets</span><span class="o">.</span><span class="n">KO</span><span class="p">)</span>
<span class="n">plt</span><span class="o">.</span><span class="n">xlabel</span><span class="p">(</span><span class="s">&#39;Returns PEP&#39;</span><span class="p">)</span>
<span class="n">plt</span><span class="o">.</span><span class="n">ylabel</span><span class="p">(</span><span class="s">&#39;Returns KO&#39;</span><span class="p">)</span>
</pre></div>

</div>
</div>
</div>

<div class="output_wrapper">
<div class="output">


<div class="output_area"><div class="prompt output_prompt">Out[28]:</div>


<div class="output_text output_subarea output_pyout">
<pre>
&lt;matplotlib.text.Text at 0xa1b5d8c&gt;
</pre>
</div>

</div>

<div class="output_area"><div class="prompt"></div>


<div class="output_png output_subarea ">
<img src="data:image/png;base64,iVBORw0KGgoAAAANSUhEUgAAAgUAAAGxCAYAAADyL8XzAAAABHNCSVQICAgIfAhkiAAAAAlwSFlz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"
>
</div>

</div>

</div>
</div>

</div>
<div class="cell border-box-sizing code_cell rendered">
<div class="input">
<div class="prompt input_prompt">In&nbsp;[29]:</div>
<div class="inner_cell">
    <div class="input_area">
<div class="highlight"><pre><span class="n">pd</span><span class="o">.</span><span class="n">scatter_matrix</span><span class="p">(</span><span class="n">rets</span><span class="p">,</span> <span class="n">diagonal</span><span class="o">=</span><span class="s">&#39;kde&#39;</span><span class="p">,</span> <span class="n">figsize</span><span class="o">=</span><span class="p">(</span><span class="mi">10</span><span class="p">,</span> <span class="mi">10</span><span class="p">));</span>
</pre></div>

</div>
</div>
</div>

<div class="output_wrapper">
<div class="output">


<div class="output_area"><div class="prompt"></div>


<div class="output_png output_subarea ">
<img src="data:image/png;base64,iVBORw0KGgoAAAANSUhEUgAAAmQAAAJoCAYAAADI0/3HAAAABHNCSVQICAgIfAhkiAAAAAlwSFlz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"
>
</div>

</div>

</div>
</div>

</div>
<div class="cell border-box-sizing code_cell rendered">
<div class="input">
<div class="prompt input_prompt">In&nbsp;[30]:</div>
<div class="inner_cell">
    <div class="input_area">
<div class="highlight"><pre><span class="n">corr</span> <span class="o">=</span> <span class="n">rets</span><span class="o">.</span><span class="n">corr</span><span class="p">()</span>
<span class="n">corr</span>
</pre></div>

</div>
</div>
</div>

<div class="output_wrapper">
<div class="output">


<div class="output_area"><div class="prompt output_prompt">Out[30]:</div>

<div class="output_html rendered_html output_subarea output_pyout">
<div style="max-height:1000px;max-width:1500px;overflow:auto;">
<table border="1" class="dataframe">
  <thead>
    <tr style="text-align: right;">
      <th></th>
      <th>AAPL</th>
      <th>GE</th>
      <th>GOOG</th>
      <th>IBM</th>
      <th>KO</th>
      <th>MSFT</th>
      <th>PEP</th>
    </tr>
  </thead>
  <tbody>
    <tr>
      <th>AAPL</th>
      <td> 1.000000</td>
      <td> 0.457186</td>
      <td> 0.533405</td>
      <td> 0.501582</td>
      <td> 0.388537</td>
      <td> 0.472015</td>
      <td> 0.309023</td>
    </tr>
    <tr>
      <th>GE</th>
      <td> 0.457186</td>
      <td> 1.000000</td>
      <td> 0.462540</td>
      <td> 0.609544</td>
      <td> 0.593366</td>
      <td> 0.600145</td>
      <td> 0.532517</td>
    </tr>
    <tr>
      <th>GOOG</th>
      <td> 0.533405</td>
      <td> 0.462540</td>
      <td> 1.000000</td>
      <td> 0.470798</td>
      <td> 0.404247</td>
      <td> 0.472152</td>
      <td> 0.329978</td>
    </tr>
    <tr>
      <th>IBM</th>
      <td> 0.501582</td>
      <td> 0.609544</td>
      <td> 0.470798</td>
      <td> 1.000000</td>
      <td> 0.602032</td>
      <td> 0.645565</td>
      <td> 0.490668</td>
    </tr>
    <tr>
      <th>KO</th>
      <td> 0.388537</td>
      <td> 0.593366</td>
      <td> 0.404247</td>
      <td> 0.602032</td>
      <td> 1.000000</td>
      <td> 0.523689</td>
      <td> 0.636500</td>
    </tr>
    <tr>
      <th>MSFT</th>
      <td> 0.472015</td>
      <td> 0.600145</td>
      <td> 0.472152</td>
      <td> 0.645565</td>
      <td> 0.523689</td>
      <td> 1.000000</td>
      <td> 0.476464</td>
    </tr>
    <tr>
      <th>PEP</th>
      <td> 0.309023</td>
      <td> 0.532517</td>
      <td> 0.329978</td>
      <td> 0.490668</td>
      <td> 0.636500</td>
      <td> 0.476464</td>
      <td> 1.000000</td>
    </tr>
  </tbody>
</table>
</div>
</div>

</div>

</div>
</div>

</div>
<div class="cell border-box-sizing code_cell rendered">
<div class="input">
<div class="prompt input_prompt">In&nbsp;[31]:</div>
<div class="inner_cell">
    <div class="input_area">
<div class="highlight"><pre><span class="n">plt</span><span class="o">.</span><span class="n">imshow</span><span class="p">(</span><span class="n">corr</span><span class="p">,</span> <span class="n">cmap</span><span class="o">=</span><span class="s">&#39;hot&#39;</span><span class="p">,</span> <span class="n">interpolation</span><span class="o">=</span><span class="s">&#39;none&#39;</span><span class="p">)</span>
<span class="n">plt</span><span class="o">.</span><span class="n">colorbar</span><span class="p">()</span>
<span class="n">plt</span><span class="o">.</span><span class="n">xticks</span><span class="p">(</span><span class="nb">range</span><span class="p">(</span><span class="nb">len</span><span class="p">(</span><span class="n">corr</span><span class="p">)),</span> <span class="n">corr</span><span class="o">.</span><span class="n">columns</span><span class="p">)</span>
<span class="n">plt</span><span class="o">.</span><span class="n">yticks</span><span class="p">(</span><span class="nb">range</span><span class="p">(</span><span class="nb">len</span><span class="p">(</span><span class="n">corr</span><span class="p">)),</span> <span class="n">corr</span><span class="o">.</span><span class="n">columns</span><span class="p">);</span>
</pre></div>

</div>
</div>
</div>

<div class="output_wrapper">
<div class="output">


<div class="output_area"><div class="prompt"></div>


<div class="output_png output_subarea ">
<img src="data:image/png;base64,iVBORw0KGgoAAAANSUhEUgAAAdgAAAGVCAYAAABdH+ArAAAABHNCSVQICAgIfAhkiAAAAAlwSFlz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=
"
>
</div>

</div>

</div>
</div>

</div>
<div class="cell border-box-sizing text_cell rendered">
<div class="prompt input_prompt">
</div>
<div class="inner_cell">
<div class="text_cell_render border-box-sizing rendered_html">
<p>One thing we are often interested in is the relationship of expected returns and the risk we are taking one. Often there is a trade-off between the two.</p>
<p>Here we use <code>plt.annotate</code> to put labels on the scatterplot.</p>
</div>
</div>
</div>
<div class="cell border-box-sizing code_cell rendered">
<div class="input">
<div class="prompt input_prompt">In&nbsp;[32]:</div>
<div class="inner_cell">
    <div class="input_area">
<div class="highlight"><pre><span class="n">plt</span><span class="o">.</span><span class="n">scatter</span><span class="p">(</span><span class="n">rets</span><span class="o">.</span><span class="n">mean</span><span class="p">(),</span> <span class="n">rets</span><span class="o">.</span><span class="n">std</span><span class="p">())</span>
<span class="n">plt</span><span class="o">.</span><span class="n">xlabel</span><span class="p">(</span><span class="s">&#39;Expected returns&#39;</span><span class="p">)</span>
<span class="n">plt</span><span class="o">.</span><span class="n">ylabel</span><span class="p">(</span><span class="s">&#39;Risk&#39;</span><span class="p">)</span>
<span class="k">for</span> <span class="n">label</span><span class="p">,</span> <span class="n">x</span><span class="p">,</span> <span class="n">y</span> <span class="ow">in</span> <span class="nb">zip</span><span class="p">(</span><span class="n">rets</span><span class="o">.</span><span class="n">columns</span><span class="p">,</span> <span class="n">rets</span><span class="o">.</span><span class="n">mean</span><span class="p">(),</span> <span class="n">rets</span><span class="o">.</span><span class="n">std</span><span class="p">()):</span>
    <span class="n">plt</span><span class="o">.</span><span class="n">annotate</span><span class="p">(</span>
        <span class="n">label</span><span class="p">,</span> 
        <span class="n">xy</span> <span class="o">=</span> <span class="p">(</span><span class="n">x</span><span class="p">,</span> <span class="n">y</span><span class="p">),</span> <span class="n">xytext</span> <span class="o">=</span> <span class="p">(</span><span class="mi">20</span><span class="p">,</span> <span class="o">-</span><span class="mi">20</span><span class="p">),</span>
        <span class="n">textcoords</span> <span class="o">=</span> <span class="s">&#39;offset points&#39;</span><span class="p">,</span> <span class="n">ha</span> <span class="o">=</span> <span class="s">&#39;right&#39;</span><span class="p">,</span> <span class="n">va</span> <span class="o">=</span> <span class="s">&#39;bottom&#39;</span><span class="p">,</span>
        <span class="n">bbox</span> <span class="o">=</span> <span class="nb">dict</span><span class="p">(</span><span class="n">boxstyle</span> <span class="o">=</span> <span class="s">&#39;round,pad=0.5&#39;</span><span class="p">,</span> <span class="n">fc</span> <span class="o">=</span> <span class="s">&#39;yellow&#39;</span><span class="p">,</span> <span class="n">alpha</span> <span class="o">=</span> <span class="mf">0.5</span><span class="p">),</span>
        <span class="n">arrowprops</span> <span class="o">=</span> <span class="nb">dict</span><span class="p">(</span><span class="n">arrowstyle</span> <span class="o">=</span> <span class="s">&#39;-&gt;&#39;</span><span class="p">,</span> <span class="n">connectionstyle</span> <span class="o">=</span> <span class="s">&#39;arc3,rad=0&#39;</span><span class="p">))</span>
</pre></div>

</div>
</div>
</div>

<div class="output_wrapper">
<div class="output">


<div class="output_area"><div class="prompt"></div>


<div class="output_png output_subarea ">
<img src="data:image/png;base64,iVBORw0KGgoAAAANSUhEUgAAAgoAAAG0CAYAAABT6Q/NAAAABHNCSVQICAgIfAhkiAAAAAlwSFlz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"
>
</div>

</div>

</div>
</div>

</div>
<div class="cell border-box-sizing text_cell rendered">
<div class="prompt input_prompt">
</div>
<div class="inner_cell">
<div class="text_cell_render border-box-sizing rendered_html">
<h1 id="data-alignment-and-dealing-with-missing-values">Data alignment and dealing with missing values</h1>
<ul>
<li>Join, merge, concatenate</li>
<li>Filling NaNs</li>
</ul>
</div>
</div>
</div>
<div class="cell border-box-sizing text_cell rendered">
<div class="prompt input_prompt">
</div>
<div class="inner_cell">
<div class="text_cell_render border-box-sizing rendered_html">
<p>Lets pull some more securities from Yahoo finance and build a DataFrame of the adjusted closing prices.</p>
</div>
</div>
</div>
<div class="cell border-box-sizing code_cell rendered">
<div class="input">
<div class="prompt input_prompt">In&nbsp;[33]:</div>
<div class="inner_cell">
    <div class="input_area">
<div class="highlight"><pre><span class="n">series_list</span> <span class="o">=</span> <span class="p">[]</span>
<span class="n">securities</span> <span class="o">=</span> <span class="p">[</span><span class="s">&#39;AAPL&#39;</span><span class="p">,</span> <span class="s">&#39;GOOG&#39;</span><span class="p">,</span> <span class="s">&#39;IBM&#39;</span><span class="p">,</span> <span class="s">&#39;MSFT&#39;</span><span class="p">]</span>
<span class="k">for</span> <span class="n">security</span> <span class="ow">in</span> <span class="n">securities</span><span class="p">:</span>
    <span class="n">s</span> <span class="o">=</span> <span class="n">pd</span><span class="o">.</span><span class="n">io</span><span class="o">.</span><span class="n">data</span><span class="o">.</span><span class="n">get_data_yahoo</span><span class="p">(</span><span class="n">security</span><span class="p">,</span> <span class="n">start</span><span class="o">=</span><span class="n">datetime</span><span class="o">.</span><span class="n">datetime</span><span class="p">(</span><span class="mi">2011</span><span class="p">,</span> <span class="mi">10</span><span class="p">,</span> <span class="mi">1</span><span class="p">),</span> <span class="n">end</span><span class="o">=</span><span class="n">datetime</span><span class="o">.</span><span class="n">datetime</span><span class="p">(</span><span class="mi">2013</span><span class="p">,</span> <span class="mi">1</span><span class="p">,</span> <span class="mi">1</span><span class="p">))[</span><span class="s">&#39;Adj Close&#39;</span><span class="p">]</span>
    <span class="n">s</span><span class="o">.</span><span class="n">name</span> <span class="o">=</span> <span class="n">security</span> <span class="c"># Rename series to match security name</span>
    <span class="n">series_list</span><span class="o">.</span><span class="n">append</span><span class="p">(</span><span class="n">s</span><span class="p">)</span>
</pre></div>

</div>
</div>
</div>

</div>
<div class="cell border-box-sizing text_cell rendered">
<div class="prompt input_prompt">
</div>
<div class="inner_cell">
<div class="text_cell_render border-box-sizing rendered_html">
<p><code>pd.concat</code> can be used to concatenate multiple <code>Series</code> into one <code>DataFrame</code>.</p>
</div>
</div>
</div>
<div class="cell border-box-sizing code_cell rendered">
<div class="input">
<div class="prompt input_prompt">In&nbsp;[34]:</div>
<div class="inner_cell">
    <div class="input_area">
<div class="highlight"><pre><span class="n">df</span> <span class="o">=</span> <span class="n">pd</span><span class="o">.</span><span class="n">concat</span><span class="p">(</span><span class="n">series_list</span><span class="p">,</span> <span class="n">axis</span><span class="o">=</span><span class="mi">1</span><span class="p">)</span>
<span class="n">df</span><span class="o">.</span><span class="n">head</span><span class="p">()</span>
</pre></div>

</div>
</div>
</div>

<div class="output_wrapper">
<div class="output">


<div class="output_area"><div class="prompt output_prompt">Out[34]:</div>

<div class="output_html rendered_html output_subarea output_pyout">
<div style="max-height:1000px;max-width:1500px;overflow:auto;">
<table border="1" class="dataframe">
  <thead>
    <tr style="text-align: right;">
      <th></th>
      <th>AAPL</th>
      <th>GOOG</th>
      <th>IBM</th>
      <th>MSFT</th>
    </tr>
    <tr>
      <th>Date</th>
      <th></th>
      <th></th>
      <th></th>
      <th></th>
    </tr>
  </thead>
  <tbody>
    <tr>
      <th>2011-10-03</th>
      <td> 366.72</td>
      <td> 495.52</td>
      <td> 168.24</td>
      <td> 23.32</td>
    </tr>
    <tr>
      <th>2011-10-04</th>
      <td> 364.67</td>
      <td> 501.90</td>
      <td> 169.65</td>
      <td> 24.09</td>
    </tr>
    <tr>
      <th>2011-10-05</th>
      <td> 370.30</td>
      <td> 504.70</td>
      <td> 171.69</td>
      <td> 24.61</td>
    </tr>
    <tr>
      <th>2011-10-06</th>
      <td> 369.44</td>
      <td> 514.71</td>
      <td> 176.39</td>
      <td> 25.04</td>
    </tr>
    <tr>
      <th>2011-10-07</th>
      <td> 362.02</td>
      <td> 515.12</td>
      <td> 177.07</td>
      <td> 24.95</td>
    </tr>
  </tbody>
</table>
</div>
</div>

</div>

</div>
</div>

</div>
<div class="cell border-box-sizing code_cell rendered">
<div class="input">
<div class="prompt input_prompt">In&nbsp;[35]:</div>
<div class="inner_cell">
    <div class="input_area">
<div class="highlight"><pre><span class="n">df</span><span class="o">.</span><span class="n">ix</span><span class="p">[</span><span class="mi">0</span><span class="p">,</span> <span class="s">&#39;AAPL&#39;</span><span class="p">]</span> <span class="o">=</span> <span class="n">np</span><span class="o">.</span><span class="n">nan</span>
<span class="n">df</span><span class="o">.</span><span class="n">ix</span><span class="p">[</span><span class="mi">1</span><span class="p">,</span> <span class="p">[</span><span class="s">&#39;GOOG&#39;</span><span class="p">,</span> <span class="s">&#39;IBM&#39;</span><span class="p">]]</span> <span class="o">=</span> <span class="n">np</span><span class="o">.</span><span class="n">nan</span>
<span class="n">df</span><span class="o">.</span><span class="n">ix</span><span class="p">[[</span><span class="mi">1</span><span class="p">,</span> <span class="mi">2</span><span class="p">,</span> <span class="mi">3</span><span class="p">],</span> <span class="s">&#39;MSFT&#39;</span><span class="p">]</span> <span class="o">=</span> <span class="n">np</span><span class="o">.</span><span class="n">nan</span>

<span class="n">df</span><span class="o">.</span><span class="n">head</span><span class="p">()</span>
</pre></div>

</div>
</div>
</div>

<div class="output_wrapper">
<div class="output">


<div class="output_area"><div class="prompt output_prompt">Out[35]:</div>

<div class="output_html rendered_html output_subarea output_pyout">
<div style="max-height:1000px;max-width:1500px;overflow:auto;">
<table border="1" class="dataframe">
  <thead>
    <tr style="text-align: right;">
      <th></th>
      <th>AAPL</th>
      <th>GOOG</th>
      <th>IBM</th>
      <th>MSFT</th>
    </tr>
    <tr>
      <th>Date</th>
      <th></th>
      <th></th>
      <th></th>
      <th></th>
    </tr>
  </thead>
  <tbody>
    <tr>
      <th>2011-10-03</th>
      <td>    NaN</td>
      <td> 495.52</td>
      <td> 168.24</td>
      <td> 23.32</td>
    </tr>
    <tr>
      <th>2011-10-04</th>
      <td> 364.67</td>
      <td>    NaN</td>
      <td>    NaN</td>
      <td>   NaN</td>
    </tr>
    <tr>
      <th>2011-10-05</th>
      <td> 370.30</td>
      <td> 504.70</td>
      <td> 171.69</td>
      <td>   NaN</td>
    </tr>
    <tr>
      <th>2011-10-06</th>
      <td> 369.44</td>
      <td> 514.71</td>
      <td> 176.39</td>
      <td>   NaN</td>
    </tr>
    <tr>
      <th>2011-10-07</th>
      <td> 362.02</td>
      <td> 515.12</td>
      <td> 177.07</td>
      <td> 24.95</td>
    </tr>
  </tbody>
</table>
</div>
</div>

</div>

</div>
</div>

</div>
<div class="cell border-box-sizing text_cell rendered">
<div class="prompt input_prompt">
</div>
<div class="inner_cell">
<div class="text_cell_render border-box-sizing rendered_html">
<p>Pandas has great support for computing with missing values.</p>
</div>
</div>
</div>
<div class="cell border-box-sizing code_cell rendered">
<div class="input">
<div class="prompt input_prompt">In&nbsp;[36]:</div>
<div class="inner_cell">
    <div class="input_area">
<div class="highlight"><pre><span class="p">(</span><span class="n">df</span><span class="o">.</span><span class="n">AAPL</span> <span class="o">+</span> <span class="n">df</span><span class="o">.</span><span class="n">GOOG</span><span class="p">)</span><span class="o">.</span><span class="n">head</span><span class="p">()</span>
</pre></div>

</div>
</div>
</div>

<div class="output_wrapper">
<div class="output">


<div class="output_area"><div class="prompt output_prompt">Out[36]:</div>


<div class="output_text output_subarea output_pyout">
<pre>
Date
2011-10-03       NaN
2011-10-04       NaN
2011-10-05    875.00
2011-10-06    884.15
2011-10-07    877.14
dtype: float64
</pre>
</div>

</div>

</div>
</div>

</div>
<div class="cell border-box-sizing text_cell rendered">
<div class="prompt input_prompt">
</div>
<div class="inner_cell">
<div class="text_cell_render border-box-sizing rendered_html">
<p>One common approacht to impute missing values in time series is forward filling.</p>
</div>
</div>
</div>
<div class="cell border-box-sizing code_cell rendered">
<div class="input">
<div class="prompt input_prompt">In&nbsp;[37]:</div>
<div class="inner_cell">
    <div class="input_area">
<div class="highlight"><pre><span class="n">df</span><span class="o">.</span><span class="n">ffill</span><span class="p">()</span><span class="o">.</span><span class="n">head</span><span class="p">()</span>
</pre></div>

</div>
</div>
</div>

<div class="output_wrapper">
<div class="output">


<div class="output_area"><div class="prompt output_prompt">Out[37]:</div>

<div class="output_html rendered_html output_subarea output_pyout">
<div style="max-height:1000px;max-width:1500px;overflow:auto;">
<table border="1" class="dataframe">
  <thead>
    <tr style="text-align: right;">
      <th></th>
      <th>AAPL</th>
      <th>GOOG</th>
      <th>IBM</th>
      <th>MSFT</th>
    </tr>
    <tr>
      <th>Date</th>
      <th></th>
      <th></th>
      <th></th>
      <th></th>
    </tr>
  </thead>
  <tbody>
    <tr>
      <th>2011-10-03</th>
      <td>    NaN</td>
      <td> 495.52</td>
      <td> 168.24</td>
      <td> 23.32</td>
    </tr>
    <tr>
      <th>2011-10-04</th>
      <td> 364.67</td>
      <td> 495.52</td>
      <td> 168.24</td>
      <td> 23.32</td>
    </tr>
    <tr>
      <th>2011-10-05</th>
      <td> 370.30</td>
      <td> 504.70</td>
      <td> 171.69</td>
      <td> 23.32</td>
    </tr>
    <tr>
      <th>2011-10-06</th>
      <td> 369.44</td>
      <td> 514.71</td>
      <td> 176.39</td>
      <td> 23.32</td>
    </tr>
    <tr>
      <th>2011-10-07</th>
      <td> 362.02</td>
      <td> 515.12</td>
      <td> 177.07</td>
      <td> 24.95</td>
    </tr>
  </tbody>
</table>
</div>
</div>

</div>

</div>
</div>

</div>


     <!-- <hr/> -->
     <div class="row hidden-print">
      <div class="span12 text-center">
        <a href="#">Back to top</a>
      </div>
    </div>

     <!-- Footer
     ================================================== -->
      
      <footer class="footer hidden-print">
      <div class="span12 row-fluid footer-row">
          <div class="span4">
            <p>This web site does not host notebooks, it only renders notebooks available on other websites.</p>
          </div>

          <div class="span4">
            <p>Thanks to <a href="https://developer.rackspace.com/?nbviewer=awesome">Rackspace</a> for hosting.</p>
            <p>nbviewer GitHub <a href="https://github.com/ipython/nbviewer">repository</a>.</p>
            <p>nbviewer <a href="https://github.com/ipython/nbviewer/blob/master/LICENSE.txt" target="_blank">license</a>.</p>
          </div>

          <div class="span4">
            

              
                <p>
                    nbviewer version:
                    <a href="https://github.com/ipython/nbviewer/commit/303942be8c266032286003939d701cf104821dfc">303942b</a>
                </p>
              
            

<p class="text-muted">
    IPython version: 2.4.0-maint
    
</p>


            

            

<p class="text-muted">
Rendered <span class='date' data-date='Mon, 15 Dec 2014 00:38:29 UTC' title='Mon, 15 Dec 2014 00:38:29 UTC'>(Mon, 15 Dec 2014 00:38:29 UTC)</span>
</p>


          </div>
      </div>
      </footer>
      

    </div><!-- /container -->

    <script src="/static/js/bootstrap-collapse.js"></script>
    <script src="/static/components/headroom.js/dist/headroom.min.js"></script>
    <script src="/static/components/headroom.js/dist/jQuery.headroom.min.js"></script>


    
    
    
    <script>
    $(document).ready(
                function(){
                    $("#menubar").headroom({
                        "tolerance": 5,
                        "offset": 205,
                        "classes": {
                            "initial": "animated",
                            "pinned": "slideInDown",
                            "unpinned": "slideOutUp"
                        }
                    })
                }
            );
    </script>


    <!-- Analytics
    ================================================== -->
    <script>
      (function(i,s,o,g,r,a,m){i['GoogleAnalyticsObject']=r;i[r]=i[r]||function(){
        (i[r].q=i[r].q||[]).push(arguments)},i[r].l=1*new Date();a=s.createElement(o),
        m=s.getElementsByTagName(o)[0];a.async=1;a.src=g;m.parentNode.insertBefore(a,m)
      })(window,document,'script','//www.google-analytics.com/analytics.js','ga');

      ga('create', 'UA-38683231-2', 'auto');
      ga('send', 'pageview');

    </script>
    <script>
        var update_date  = function(){
            var str = window.moment($('.date').data('date')).fromNow();
            $('.date').text(str);
        }
        setInterval(update_date , 61*1000);
        $(update_date);
    </script>
    <!--NEW RELIC Stop Perf Measurement-->
    
    <!--NEW RELIC End-->
  </body>
</html>