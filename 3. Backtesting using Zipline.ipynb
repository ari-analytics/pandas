







<!DOCTYPE html>
<html lang="en">
  <head>
    <meta charset="utf-8">
    <title></title>

    <meta name="viewport" content="width=device-width, initial-scale=1.0">

    
    <meta name="description" content="">
    

    
    <meta name="author" content="">
    

    <!--NEW RELIC Start Perf Measurement-->
    
    <!--NREND-->

    <!-- Le styles -->
    <!--<link href="/static/css/bootstrap.css" rel="stylesheet">-->
    <link href="/static/css/docs.css" rel="stylesheet">
    <link href="/static/css/bootstrap.min.css" rel="stylesheet">
    <link href="/static/css/bootstrap-responsive.css" rel="stylesheet">
    <link href="/static/components/animate.css/animate.css" rel="stylesheet">
    <link href="/static/components/Font-Awesome/css/font-awesome.min.css" rel="stylesheet">
    <link href="/static/css/nbviewer.css" rel="stylesheet">


    <!-- Le HTML5 shim, for IE6-8 support of HTML5 elements -->
    <!--[if lt IE 9]>
      <script src="http://html5shim.googlecode.com/svn/trunk/html5.js"></script>
    <![endif]-->

    <!-- Le fav and touch icons -->
    <link rel="shortcut icon" href="/static/ico/ipynb_icon_16x16.png">
    <link rel="apple-touch-icon-precomposed" sizes="144x144" href="/static/ico/apple-touch-icon-144-precomposed.png">
    <link rel="apple-touch-icon-precomposed" sizes="114x114" href="/static/ico/apple-touch-icon-114-precomposed.png">
    <link rel="apple-touch-icon-precomposed" sizes="72x72" href="/static/ico/apple-touch-icon-72-precomposed.png">
    <link rel="apple-touch-icon-precomposed" href="/static/ico/apple-touch-icon-57-precomposed.png">
    
    
    

    

    
    <meta name="twitter:card" content="summary">

    
    <meta name="twitter:title" content="Notebook on nbviewer">
    

    
    <meta name="twitter:description" content="Check out this IPython notebook!">
    

    
    <meta name="twitter:domain" content="nbviewer.ipython.org">
    

    <meta name="twitter:image:src" content="http://ipython.org/ipython-doc/dev/_images/ipynb_icon_128x128.png">
    
    
    

    <link href="/ipython-static/style/ipython.min.css" rel="stylesheet">
    <link href="/static/css/pygments.css" rel="stylesheet">
    <style type="text/css" media='screen and (min-width:980px)'>
   
    body {
        padding-top: 40px;
    }

    </style>
    <style type="text/css" >
    .imgwrap {
        text-align: center;
    }

    @media (max-width: 767px){

        div.input, div.output_area {
            -webkit-box-orient: vertical;
            -moz-box-orient: vertical;
            box-orient: vertical;
        }

        div.prompt {
            text-align:left;
        }

    }

    
    </style>
    
    <script src="https://cdn.mathjax.org/mathjax/latest/MathJax.js?config=TeX-AMS_HTML"type="text/javascript">
    </script>
    <script type="text/javascript">
    init_mathjax = function() {
        if (window.MathJax) {
            // MathJax loaded
            MathJax.Hub.Config({
                tex2jax: {
                    inlineMath: [ ['$','$'], ["\\(","\\)"] ],
                    displayMath: [ ['$$','$$'], ["\\[","\\]"] ],
                    processEscapes: true,
                    processEnvironments: true
                },
                displayAlign: 'center',
                "HTML-CSS": {
                    styles: {'.MathJax_Display': {"margin": 0}},
                    linebreaks: { automatic: true }
                }
            });
            MathJax.Hub.Queue(["Typeset",MathJax.Hub]);
        }
    }
    init_mathjax();
    </script>
    
  </head>

  <body data-spy="scroll" data-target=".subnav" data-offset="50">

  <!-- These are loaded at the top of the body so they are available to notebook
  cells when they are loaded below. -->
  <script src="/static/js/jquery.min.js"></script>
  <script src="/static/components/requirejs/require.js"></script>
  <script src="/static/components/moment/min/moment.min.js"></script>

  <!-- Navbar
  ================================================== -->
    <div id='menubar' class="navbar navbar-fixed-top hidden-print">
      <div class="navbar-inner">
        <div class="container">
          <button type="button" class="btn btn-navbar" data-toggle="collapse" data-target=".nav-collapse">
            <span class="fa fa-bars"></span>
          </button>
          <div class="nav-collapse collapse">
            <ul class="nav">

                <li>
        <a href="/" title="nbviewer" >
            <strong>
            <span>nbviewer</span>
            </strong>
        </a>
    </li>
                <li>
        <a href="/faq" title="FAQ" >
            
            <span>FAQ</span>
            
        </a>
    </li>

              <li class="">
                <a href="http://www.ipython.org">IPython</a>
              </li>
            </ul>
            <ul class="nav pull-right"> 
              
              
      
        <li>
        <a href="https://github.com/twiecki/financial-analysis-python-tutorial/blob/master/3.%20Backtesting%20using%20Zipline.ipynb" title="Notebook Home" >
            <span class='fa fa-github fa-2x menu-icon'></span>
            <span class='menu-text'>Notebook Home</span>
        </a>
    </li>
      
        <li>
        <a href="https://raw.githubusercontent.com/twiecki/financial-analysis-python-tutorial/master/3.%20Backtesting%20using%20Zipline.ipynb" title="Download Notebook" download>
            <span class='fa fa-download fa-2x menu-icon'></span>
            <span class='menu-text'>Download Notebook</span>
        </a>
    </li>
    
            </ul>
          </div>
        </div>
      </div>
    </div>
    <div class="container">

     
    
<ul class="breadcrumb">
    
    <li><a href="/github/twiecki/financial-analysis-python-tutorial/tree/master">financial-analysis-python-tutorial</a> <span class="divider">/</span></li>
    
    <li><a href="/github/twiecki/financial-analysis-python-tutorial/tree/master/3. Backtesting using Zipline.ipynb">3. Backtesting using Zipline.ipynb</a> <span class="divider">/</span></li>
    
</ul>

    
<div class="cell border-box-sizing text_cell rendered">
<div class="prompt input_prompt">
</div>
<div class="inner_cell">
<div class="text_cell_render border-box-sizing rendered_html">
<h1 id="Zipline">Zipline<a class="anchor-link" href="#Zipline">&#182;</a></h1>
</div>
</div>
</div>

<div class="cell border-box-sizing text_cell rendered">
<div class="prompt input_prompt">
</div>
<div class="inner_cell">
<div class="text_cell_render border-box-sizing rendered_html">
<p>Zipline is an open-source algorithmic trading simulator.</p>
<p>The source can be found at: <a href="https://github.com/quantopian/zipline">https://github.com/quantopian/zipline</a></p>
<p>Some benefits include:</p>
<ul>
<li>Realistic: slippage, transaction costs, order delays.</li>
<li>Stream-based: Process each event individually, avoids look-ahead bias.</li>
<li>Batteries included: Common transforms (moving average) as well as common risk calculations (Sharpe).</li>
</ul>
</div>
</div>
</div>
<div class="cell border-box-sizing code_cell rendered">
<div class="input">
<div class="prompt input_prompt">In&nbsp;[1]:</div>
<div class="inner_cell">
    <div class="input_area">
<div class="highlight"><pre><span class="kn">import</span> <span class="nn">pandas</span> <span class="kn">as</span> <span class="nn">pd</span>
<span class="kn">import</span> <span class="nn">pandas.io.data</span>
<span class="kn">import</span> <span class="nn">numpy</span> <span class="kn">as</span> <span class="nn">np</span>

<span class="kn">import</span> <span class="nn">pytz</span>
<span class="kn">from</span> <span class="nn">datetime</span> <span class="kn">import</span> <span class="n">datetime</span>

<span class="kn">import</span> <span class="nn">zipline</span> <span class="kn">as</span> <span class="nn">zp</span>

<span class="kn">from</span> <span class="nn">zipline.finance.slippage</span> <span class="kn">import</span> <span class="n">FixedSlippage</span>
</pre></div>

</div>
</div>
</div>

</div>
<div class="cell border-box-sizing text_cell rendered">
<div class="prompt input_prompt">
</div>
<div class="inner_cell">
<div class="text_cell_render border-box-sizing rendered_html">
<h2 id="Simplest-Zipline-Algorithm:-Buy-Apple">Simplest Zipline Algorithm: Buy Apple<a class="anchor-link" href="#Simplest-Zipline-Algorithm:-Buy-Apple">&#182;</a></h2>
</div>
</div>
</div>

<div class="cell border-box-sizing text_cell rendered">
<div class="prompt input_prompt">
</div>
<div class="inner_cell">
<div class="text_cell_render border-box-sizing rendered_html">
<p>Load Apple (AAPL) historical prices from yahoo finance.</p>
</div>
</div>
</div>
<div class="cell border-box-sizing code_cell rendered">
<div class="input">
<div class="prompt input_prompt">In&nbsp;[2]:</div>
<div class="inner_cell">
    <div class="input_area">
<div class="highlight"><pre><span class="n">start</span> <span class="o">=</span> <span class="n">datetime</span><span class="p">(</span><span class="mi">1990</span><span class="p">,</span> <span class="mi">1</span><span class="p">,</span> <span class="mi">1</span><span class="p">,</span> <span class="mi">0</span><span class="p">,</span> <span class="mi">0</span><span class="p">,</span> <span class="mi">0</span><span class="p">,</span> <span class="mi">0</span><span class="p">,</span> <span class="n">pytz</span><span class="o">.</span><span class="n">utc</span><span class="p">)</span>
<span class="n">end</span> <span class="o">=</span> <span class="n">datetime</span><span class="p">(</span><span class="mi">2002</span><span class="p">,</span> <span class="mi">1</span><span class="p">,</span> <span class="mi">1</span><span class="p">,</span> <span class="mi">0</span><span class="p">,</span> <span class="mi">0</span><span class="p">,</span> <span class="mi">0</span><span class="p">,</span> <span class="mi">0</span><span class="p">,</span> <span class="n">pytz</span><span class="o">.</span><span class="n">utc</span><span class="p">)</span>
<span class="n">data</span> <span class="o">=</span> <span class="n">zp</span><span class="o">.</span><span class="n">utils</span><span class="o">.</span><span class="n">factory</span><span class="o">.</span><span class="n">load_from_yahoo</span><span class="p">(</span><span class="n">stocks</span><span class="o">=</span><span class="p">[</span><span class="s">&#39;AAPL&#39;</span><span class="p">],</span> <span class="n">indexes</span><span class="o">=</span><span class="p">{},</span> <span class="n">start</span><span class="o">=</span><span class="n">start</span><span class="p">,</span>
                                        <span class="n">end</span><span class="o">=</span><span class="n">end</span><span class="p">,</span> <span class="n">adjusted</span><span class="o">=</span><span class="bp">False</span><span class="p">)</span>
<span class="n">data</span><span class="o">.</span><span class="n">plot</span><span class="p">()</span>
</pre></div>

</div>
</div>
</div>

<div class="output_wrapper">
<div class="output">


<div class="output_area"><div class="prompt"></div>
<div class="output_subarea output_stream output_stdout output_text">
<pre>
AAPL

</pre>
</div>
</div>

<div class="output_area"><div class="prompt output_prompt">Out[2]:</div>


<div class="output_text output_subarea output_pyout">
<pre>
&lt;matplotlib.axes.AxesSubplot at 0xbbbd7ec&gt;
</pre>
</div>

</div>

<div class="output_area"><div class="prompt"></div>


<div class="output_png output_subarea ">
<img src="data:image/png;base64,iVBORw0KGgoAAAANSUhEUgAAAXIAAAD/CAYAAADsfV27AAAABHNCSVQICAgIfAhkiAAAAAlwSFlz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=
"
>
</div>

</div>

</div>
</div>

</div>
<div class="cell border-box-sizing text_cell rendered">
<div class="prompt input_prompt">
</div>
<div class="inner_cell">
<div class="text_cell_render border-box-sizing rendered_html">
<p>Define trading algorithm by inheriting from <code>zipline.TradingAlgorithm</code>.</p>
<p>We have to overwrite two methods:</p>
<ul>
<li><code>initialize()</code>: Called once before the beginning of the simulation</li>
<li><code>handle_data(data)</code>: Called for every bar. Data contains only information available at this point in time.</li>
</ul>
<p>Some commonly used attributes and methods include:</p>
<ul>
<li><code>self.order(stock, amount)</code>: Order <code>amount</code> of <code>stock</code>&#39;s shares</li>
<li><code>self.run(data)</code>: Start the simulation. <code>data</code> can be a <code>pandas.DataFrame</code> that will be streamed through the algorithm and accessed there. It returns a <code>DataFrame</code> containing performance information of our algorithm.</li>
</ul>
</div>
</div>
</div>
<div class="cell border-box-sizing code_cell rendered">
<div class="input">
<div class="prompt input_prompt">In&nbsp;[3]:</div>
<div class="inner_cell">
    <div class="input_area">
<div class="highlight"><pre><span class="k">class</span> <span class="nc">BuyApple</span><span class="p">(</span><span class="n">zp</span><span class="o">.</span><span class="n">TradingAlgorithm</span><span class="p">):</span> <span class="c"># inherit from TradingAlgorithm</span>
    <span class="k">def</span> <span class="nf">handle_data</span><span class="p">(</span><span class="bp">self</span><span class="p">,</span> <span class="n">data</span><span class="p">):</span> <span class="c"># overload handle_data() method</span>
        <span class="bp">self</span><span class="o">.</span><span class="n">order</span><span class="p">(</span><span class="s">&#39;AAPL&#39;</span><span class="p">,</span> <span class="mi">1</span><span class="p">)</span> <span class="c"># stock (=&#39;AAPL&#39;) to order and amount (=1 shares)</span>
</pre></div>

</div>
</div>
</div>

</div>
<div class="cell border-box-sizing text_cell rendered">
<div class="prompt input_prompt">
</div>
<div class="inner_cell">
<div class="text_cell_render border-box-sizing rendered_html">
<p>Instantiate class and call the <code>.run()</code> method to start the backtest.</p>
</div>
</div>
</div>
<div class="cell border-box-sizing code_cell rendered">
<div class="input">
<div class="prompt input_prompt">In&nbsp;[4]:</div>
<div class="inner_cell">
    <div class="input_area">
<div class="highlight"><pre><span class="n">algo</span> <span class="o">=</span> <span class="n">BuyApple</span><span class="p">()</span>
<span class="n">perf</span> <span class="o">=</span> <span class="n">algo</span><span class="o">.</span><span class="n">run</span><span class="p">(</span><span class="n">data</span><span class="p">)</span>
</pre></div>

</div>
</div>
</div>

<div class="output_wrapper">
<div class="output">


<div class="output_area"><div class="prompt"></div>
<div class="output_subarea output_stream output_stderr output_text">
<pre>
[2013-07-27 13:22] INFO: Performance: Simulated 3028 trading days out of 3028.
[2013-07-27 13:22] INFO: Performance: first open: 1990-01-02 14:31:00+00:00
[2013-07-27 13:22] INFO: Performance: last close: 2001-12-31 21:00:00+00:00

</pre>
</div>
</div>

</div>
</div>

</div>
<div class="cell border-box-sizing code_cell rendered">
<div class="input">
<div class="prompt input_prompt">In&nbsp;[5]:</div>
<div class="inner_cell">
    <div class="input_area">
<div class="highlight"><pre><span class="n">perf</span>
</pre></div>

</div>
</div>
</div>

<div class="output_wrapper">
<div class="output">


<div class="output_area"><div class="prompt output_prompt">Out[5]:</div>

<div class="output_html rendered_html output_subarea output_pyout">
<pre>
&ltclass 'pandas.core.frame.DataFrame'&gt
DatetimeIndex: 3028 entries, 1990-01-02 21:00:00 to 2001-12-31 21:00:00
Data columns (total 16 columns):
capital_used               3028  non-null values
cumulative_capital_used    3028  non-null values
ending_cash                3028  non-null values
ending_value               3028  non-null values
max_capital_used           3028  non-null values
max_leverage               3028  non-null values
orders                     3028  non-null values
period_close               3028  non-null values
period_open                3028  non-null values
pnl                        3028  non-null values
portfolio_value            3028  non-null values
positions                  3028  non-null values
returns                    3028  non-null values
starting_cash              3028  non-null values
starting_value             3028  non-null values
transactions               3028  non-null values
dtypes: float64(11), object(5)
</pre>
</div>

</div>

</div>
</div>

</div>
<div class="cell border-box-sizing code_cell rendered">
<div class="input">
<div class="prompt input_prompt">In&nbsp;[6]:</div>
<div class="inner_cell">
    <div class="input_area">
<div class="highlight"><pre><span class="n">perf</span><span class="o">.</span><span class="n">portfolio_value</span><span class="o">.</span><span class="n">plot</span><span class="p">()</span>
</pre></div>

</div>
</div>
</div>

<div class="output_wrapper">
<div class="output">


<div class="output_area"><div class="prompt output_prompt">Out[6]:</div>


<div class="output_text output_subarea output_pyout">
<pre>
&lt;matplotlib.axes.AxesSubplot at 0xeeb1d2c&gt;
</pre>
</div>

</div>

<div class="output_area"><div class="prompt"></div>


<div class="output_png output_subarea ">
<img src="data:image/png;base64,iVBORw0KGgoAAAANSUhEUgAAAYYAAADyCAYAAABJRGKGAAAABHNCSVQICAgIfAhkiAAAAAlwSFlz
AAALEgAACxIB0t1+/AAAIABJREFUeJzsnXlc1NX+/1+joGUpg6hgDIXB4AYBLsCt7i+KxSXDyhSp
i4BYZmHaYpZmWmYuF2+Z6a1ME/EmFhZa3wRMnTRTDHJLzChRYVhUNlHZef/+OMwMwzoDM8MA7+fj
wePz+ZzP8jpnZjjvz3m/zyIhIgLDMAzD1NGjozPAMAzDmBdsGBiGYRgt2DAwDMMwWrBhYBiGYbRg
w8AwDMNowYaBYRiG0UInw1BTUwNPT0889thjAIDCwkIEBATAxcUFgYGBKC4uVl+7cuVKyOVyDBs2
DMnJyer0tLQ0uLm5QS6XY968eer0iooKBAcHQy6Xw8fHB5cuXVKfi4mJgYuLC1xcXLBt27Z2F5Zh
GIZpHZ0Mw7p16zBixAhIJBIAwKpVqxAQEIA///wTfn5+WLVqFQAgPT0dO3fuRHp6OhITE/HCCy9A
NUxizpw52Lx5MzIyMpCRkYHExEQAwObNm2FjY4OMjAy8/PLLWLhwIQBhfN59910cP34cx48fxzvv
vKNlgBiGYRjj0KphyM7Oxg8//IBZs2apK/k9e/YgLCwMABAWFoaEhAQAwO7duxESEgJLS0s4OjrC
2dkZKSkpyM3NRWlpKby8vAAAM2bMUN9T/1lTpkzB/v37AQBJSUkIDAyEVCqFVCpFQECA2pgwDMMw
xsOitQtefvll/Pvf/8b169fVafn5+bC1tQUA2NraIj8/HwCQk5MDHx8f9XUymQxKpRKWlpaQyWTq
dHt7eyiVSgCAUqmEg4ODyIyFBaysrFBQUICcnByte1TPaoiqFcMwDMPoR3MTX7TYYvj+++8xaNAg
eHp6NvsAiUTS4ZUzEZnsLywsjPVYj/W6eNm6g15LtGgYfvnlF+zZswdDhgxBSEgIDhw4gNDQUNja
2iIvLw8AkJubi0GDBgEQLYGsrCz1/dnZ2ZDJZLC3t0d2dnajdNU9ly9fBgBUV1ejpKQENjY2jZ6V
lZWl1YJgGIZhjEOLhuH9999HVlYWMjMzERcXh0ceeQSxsbEICgpCTEwMANFz6PHHHwcABAUFIS4u
DpWVlcjMzERGRga8vLxgZ2eHfv36ISUlBUSE2NhYTJ48WX2P6lnx8fHw8/MDAAQGBiI5ORnFxcUo
KirCvn37MG7cOKN9ELri6OjIeqzHeibWYj3T0mqMoT4ql9Ebb7yBadOmYfPmzXB0dMRXX30FABgx
YgSmTZuGESNGwMLCAhs3blTfs3HjRoSHh6OsrAwTJ07E+PHjAQCRkZEIDQ2FXC6HjY0N4uLiAAD9
+/fHkiVLMHbsWADA0qVLIZVKDVPqduDr68t6rMd6JtZiPdOis2F46KGH8NBDDwEQlfaPP/7Y5HWL
Fi3CokWLGqWPHj0aZ86caZTeu3dvtWFpSEREBCIiInTNIsMwDGMAeOQzwzAMo4WEWgtPmzkSiaTV
CDvDMAyjTUt1J7cYGIZhGC3YMOiJQqFgPdZjPRNrsZ5pYcPAMAzDaMExBoZhmG4IxxgYhmEYnWHD
oCdd3e/IeqxnjlqsZ1rYMDAMwzBacIyBYRimG8IxBoZhGANQUwO8+GJH58L4sGHQk67ud2Q91jNH
LXPRu34d2LjRdHodBRsGhmEYHbGom3a0q3uvOcbAMAyjI9evA1ZWQGUlYGnZ0blpHxxjYBiGMQCq
erSysmPzYWzYMOiJOfg5WY/1zEGvK5etOT2VYaiqMo1eR9GiYSgvL4e3tzc8PDwwYsQIvPnmmwCA
ZcuWQSaTwdPTE56enti7d6/6npUrV0Iul2PYsGFITk5Wp6elpcHNzQ1yuRzz5s1Tp1dUVCA4OBhy
uRw+Pj64dOmS+lxMTAxcXFzg4uKCbdu2GazQDMMwbaG2Vmx//71j82F0qBVu3rxJRERVVVXk7e1N
hw8fpmXLltHatWsbXXv27Flyd3enyspKyszMJCcnJ6qtrSUiorFjx1JKSgoREU2YMIH27t1LREQb
NmygOXPmEBFRXFwcBQcHExFRQUEB3XvvvVRUVERFRUXq/YboUASGYRiDcO0aEUD00EMdnZP201Ld
2aorqU+fPgCAyspK1NTUwNraWmVQGl27e/duhISEwNLSEo6OjnB2dkZKSgpyc3NRWloKLy8vAMCM
GTOQkJAAANizZw/CwsIAAFOmTMH+/fsBAElJSQgMDIRUKoVUKkVAQAASExPbbQgZhmHaiqrFMGFC
x+bD2LS65nNtbS1GjRqFv//+G3PmzMHIkSMRHx+P9evXY9u2bRgzZgzWrl0LqVSKnJwc+Pj4qO+V
yWRQKpWwtLSETCZTp9vb20OpVAIAlEolHBwcRGYsLGBlZYWCggLk5ORo3aN6VlOEh4fD0dERACCV
SuHh4aFeWFvltzPU8YcffmjU57Me63UWvfo+8e6i9/PPIk0i6XzlUygU2Lp1KwCo68tm0bXZUVxc
TN7e3nTw4EHKz8+n2tpaqq2tpcWLF9PMmTOJiCgqKoq2b9+uvicyMpLi4+MpNTWV/P391emHDh2i
SZMmERGRq6srKZVK9TknJye6du0aRUdH03vvvadOX758OUVHR+vVHDIGBw8eZD3WYz0Ta5mLXl6e
cCXVq5qMqmdMWqo7de6VZGVlhUcffRSpqakYNGgQJBIJJBIJZs2ahePHjwMQLYGsrCz1PdnZ2ZDJ
ZLC3t0d2dnajdNU9ly9fBgBUV1ejpKQENjY2jZ6VlZWl1YLoKFSWmPVYr7vrdeWyNaenciW99ZZp
9DqKFg3DtWvXUFxcDAAoKyvDvn374Onpiby8PPU13377Ldzc3AAAQUFBiIuLQ2VlJTIzM5GRkQEv
Ly/Y2dmhX79+SElJAREhNjYWkydPVt8TExMDAIiPj4efnx8AIDAwEMnJySguLkZRURH27duHcePG
Gf4TYBiG0ZFuM5a2pabG6dOnydPTk9zd3cnNzY3WrFlDREShoaHk5uZG9913H02ePJny8vLU96xY
sYKcnJxo6NChlJiYqE5PTU0lV1dXcnJyorlz56rTy8vLaerUqeTs7Eze3t6UmZmpPrdlyxZydnYm
Z2dn2rp1q97NIWNgDs1Z1mM9c9DrymVrTi8rS7iSjFHtmJMrqcXgs5ubG3777bdG6S2NKVi0aBEW
LVrUKH306NE4c+ZMo/TevXvjq6++avJZERERiIiIaCmLDMMwJqO7tBh4riSGYRgduXQJUHXo6ezV
Ds+VxDAMYwDq16PGmBbDXGDDoCf1+xqzHut1Z72uXLbm9Oobhp07ja/XUbQ6wI1hGIYBDh7UPr51
q2PyYQo4xsAwDKMDEgng5AT8/bc4Xr0aeP31js1Te+AYA8MwjAFQDXADgOrqjsuHsWHDoCfm4Odk
PdYzB72uXLbm9DIzNfuLFwPjxxtXr6Ngw8AwDNNGkpI6OgfGgWMMDMMwOiCRNJ3eWasfjjEwDMMw
OsOGQU/Mwc/JeqxnDnpduWzdQa8l2DAwDMPoyfTpmv36PZW6ChxjYBiG0YH6MYaICOCLL8R+eTnQ
u3fH5Kk9cIyBYRjGgHT18QxsGPSkq/sdWY/1zFHLnPQefFDbMNTUGFevI2DDwDAMowOqlTcrKoxj
GMwJjjEwDMPowOTJwJ49wNixgLMzsGOHSL96FRgwoGPz1hbaHGMoLy+Ht7c3PDw8MGLECLz55psA
gMLCQgQEBMDFxQWBgYHqdaEBYOXKlZDL5Rg2bBiSk5PV6WlpaXBzc4NcLse8efPU6RUVFQgODoZc
LoePjw8uXbqkPhcTEwMXFxe4uLi0uGocwzCMsVHVoRJJ148xtLpy6c2bN4mIqKqqiry9venw4cO0
YMECWr16NRERrVq1ihYuXEhERGfPniV3d3eqrKykzMxMcnJyotraWiIiGjt2LKWkpBAR0YQJE2jv
3r1ERLRhwwaaM2cOERHFxcVRcHAwEREVFBTQvffeS0VFRVRUVKTe12fdUmNgDuvOsh7rmYNeVy5b
Qz1nZ6K77hJrPXt7E02dqln7OTvb8HqmoKW6s9UYQ58+fQAAlZWVqKmpgbW1Nfbs2YOwsDAAQFhY
GBISEgAAu3fvRkhICCwtLeHo6AhnZ2ekpKQgNzcXpaWl8PLyAgDMmDFDfU/9Z02ZMgX79+8HACQl
JSEwMBBSqRRSqRQBAQFITEw0qFFkGIbRhb/+AnJyxH6PHpoWg51d14wxtGoYamtr4eHhAVtbWzz8
8MMYOXIk8vPzYWtrCwCwtbVFfn4+ACAnJwcymUx9r0wmg1KpbJRub28PpVIJAFAqlXBwcAAAWFhY
wMrKCgUFBc0+qynCw8OxbNkyLFu2DB9++KFWdF+hUBj0WJVmrOezHut1Fj1fX1+jl8fUejExCkgk
zesBCly/rqjnSlLg5587R/kUCgXCw8PV9WWL6NrsKC4uJm9vbzpw4ABJpVKtc9bW1kREFBUVRdu3
b1enR0ZGUnx8PKWmppK/v786/dChQzRp0iQiInJ1dSWlUqk+5+TkRNeuXaPo6Gh677331OnLly+n
6OhovZpDDMMw+rBnj3APNUTlNgKIHnyQKChI7Ds5Ef35p+nzaQhaqjt17q5qZWWFRx99FGlpabC1
tUVeXh4AIDc3F4MGDQIgWgJZWVnqe7KzsyGTyWBvb4/s7OxG6ap7Ll++DACorq5GSUkJbGxsGj0r
KytLqwXRUTR8O2M91uuuel2xbJWVrevVDz737NkNxzFcu3ZN3eOorKwM+/btg6enJ4KCghATEwNA
9Bx6/PHHAQBBQUGIi4tDZWUlMjMzkZGRAS8vL9jZ2aFfv35ISUkBESE2NhaTJ09W36N6Vnx8PPz8
/AAAgYGBSE5ORnFxMYqKirBv3z6MGzfOOJ8CwzAMgAsXGqfVe6cFAPTqpTEMFhZdM8bQoh/m9OnT
5OnpSe7u7uTm5kZr1qwhItFjyM/Pj+RyOQUEBGj1FlqxYgU5OTnR0KFDKTExUZ2emppKrq6u5OTk
RHPnzlWnl5eX09SpU8nZ2Zm8vb0pMzNTfW7Lli3k7OxMzs7OtHXrVr2bQwzDMPqwYEFjV1JIiLYr
KTSUaPx4se/mRnTyZMfktb20VHfyADeGYZg6Fi4E1qzRjFl45hkgPR04eVIcf/01MGECcOed4tjD
A9i8GRg1qmPy2x54Ej0D0hX9qqzHeuau1VF6X36pMQoAMHIkcMcdmuOTJ4H16w2nZy6wYWAYhqlD
NbV2eTmwcmXj8/36NU7risOr2JXEMAxTxxtvAKtXA+fOAcOHNz5fWircSLfdJibTA8Rxaalp82kI
2JXEMAyjA6oWQ3PzH6ncSPV7zvfta9w8dQRsGPSkO/hVWY/1zE3LVHrahkFb78IFzXnVi/Ybb2gv
89keOMbAMAxjxlRVNU4bMkSzP2ECcP/9gK1t1xzHwDEGhmGYOlQxhp9/Fiu1qXjpJWDdusbXr18P
nD8PfPyx6fJoKDjGwDAMowOqEc2qwLKKMWOavv7qVWDDBuPmqSNgw6AnXdGvynqsZ+5aptJTuYWE
YdDo9ezZ9PW//244bY4xMAzDmCGqFkNZmXZ6c4ahd2/j5qej4BgDwzBMHS+9JOIGsbFAaKgmPT4e
mDKl8fVhYcC2bcD+/cAjj5gun4aAYwwMwzA6oHIl3bqlnd5ci6FXL7EtLDRenjoCNgx60hX9qqzH
euauZSo9lStp9mygfoyhoKDp61WuJEM4LTjGwDAMY4Y0NyZBNbCtIRYWYtvcSOnOCscYGIZh6pg5
E/jii8bpmzYBs2Y1Tp8/X4xv+OILIDzc6NkzKBxjYBiG0YGGLQZr66bTVdQf91BVBezbZ7y8mZJW
DUNWVhYefvhhjBw5Eq6urvjoo48AAMuWLYNMJoOnpyc8PT2xd+9e9T0rV66EXC7HsGHDkJycrE5P
S0uDm5sb5HI55s2bp06vqKhAcHAw5HI5fHx8cOnSJfW5mJgYuLi4wMXFBdu2bTNIodtDV/Srsh7r
mbuWqfS0XUIK9O8v9lozDFZWwHffAYGBbdc2pxiDRWsXWFpa4oMPPoCHhwdu3LiB0aNHIyAgABKJ
BK+88gpeeeUVrevT09Oxc+dOpKenQ6lUwt/fHxkZGZBIJJgzZw42b94MLy8vTJw4EYmJiRg/fjw2
b94MGxsbZGRkYOfOnVi4cCHi4uJQWFiId999F2lpaQCA0aNHIygoCFKp1DifBsMw3ZqGsYK//xbb
5gyDyhNjY9O1eia12mKws7ODh4cHAODOO+/E8OHDoVQqAaBJ/9Tu3bsREhICS0tLODo6wtnZGSkp
KcjNzUVpaSm8vLwAADNmzEBCQgIAYM+ePQgLCwMATJkyBfv37wcAJCUlITAwEFKpFFKpFAEBAUjs
4FUxfH19WY/1WM/EWqbS0zYAGj1Hx6avV02/XV3d/sn0TP15tkSrLYb6XLx4ESdOnICPjw+OHDmC
9evXY9u2bRgzZgzWrl0LqVSKnJwc+Pj4qO+RyWRQKpWwtLSErN4k5vb29moDo1Qq4eDgIDJkYQEr
KysUFBQgJydH6x7VsxoSHh4Ox7pvTiqVwsPDQ/0hq5pnfMzHfMzHrR3n5YljjVFQYN8+wN+/6eu9
vRUYORKorvatcyspoFCYT3nqHysUCmzduhUA1PVls5COlJaW0ujRo+nbb78lIqL8/Hyqra2l2tpa
Wrx4Mc2cOZOIiKKiomj79u3q+yIjIyk+Pp5SU1PJ399fnX7o0CGaNGkSERG5urqSUqlUn3NycqJr
165RdHQ0vffee+r05cuXU3R0tFa+9CiCQTh48CDrsR7rmVjLVHqTJhEBREOGEAEHSZfqZfJkom++
IYqJIZ2ubw5Tf54t1Z069UqqqqrClClT8K9//QuPP/44AGDQoEGQSCSQSCSYNWsWjh8/DkC0BLKy
stT3ZmdnQyaTwd7eHtnZ2Y3SVfdcvnwZAFBdXY2SkhLY2Ng0elZWVpZWC4JhGMYQxMQA48ZpYgz6
zIFkYSHcSPn5xslbh9CaVamtraXQ0FCaP3++VnpOTo56/z//+Q+FhIQQEdHZs2fJ3d2dKioq6MKF
C3TvvfdSbW0tERF5eXnRsWPHqLa2liZMmEB79+4lIqINGzbQ888/T0REO3bsoODgYCIiKigooCFD
hlBRUREVFhaq93W1egzDMLoQGCje9keOFFs3N7HVpXoJDiZ69VXdrzcXWqo7W40xHDlyBNu3b8d9
990HT09PAMD777+PHTt24OTJk5BIJBgyZAg+/fRTAMCIESMwbdo0jBgxAhYWFti4cSMkdcMGN27c
iPDwcJSVlWHixIkYP348ACAyMhKhoaGQy+WwsbFBXFwcAKB///5YsmQJxo4dCwBYunQp90hiGMbg
qALHZ8+Krb8/cOaMbvdaWGi6rXYZTGigjIKpi9AV/aqsx3rmrmVsPV9fzRv/rVsibehQ3WIMYWFE
L77Y/hZDp4sxMAzDdGVUsYX77gNuv12/ey0sGs/G2tnhuZIYhun2DBsm1m4GNIPWvL2B48dbnzk1
KgrIzQW++Ub7fnOH50piGIZpAZVRaAt33KExCl0FNgx6ohowwnqs1931unLZAKC0VDe9O+4wjJ6p
y9cSbBgYhmGaoLk1GBpiKMNgTnCMgWGYbs+0acDXXwuX0BNPiLR//AM4dqz1mMEnnwBz5miOO0t1
xDEGhmGYFhg0CFi/XmMUAN1bDKpeTK+/Dtxzj+Hz1hGwYdCTru5XZT3WM0ctY+tVVgK9emmnlZTo
ptezp9haWLSvtWBOMQa9ZldlGIbpijRlGPz9m59uuz6qMRASSedxI7UGxxgYhun2PP008OijwDPP
6H/vxInA3r2AmxtQXAzUzQdq9nCMgWEYpgWaajHoiuo+a+uu02Jgw6AnXcmvynqs11m0jK1XVdXY
MOiqp1rnWZ+pupvCnGIMbBgYhun2tKfF8MILmv2u0mLgGAPDMN0ePz9g0SKxbQsSiVjo58wZoInV
h82SlupO7pXEMEy3pz0tBgA4cgS4805gwgTD5akjYVeSnnQlvyrrsV5n0TK2XmUlYGnZdr377wds
bLrOOIZWDUNWVhYefvhhjBw5Eq6urvjoo48AAIWFhQgICICLiwsCAwNRXFysvmflypWQy+UYNmwY
kpOT1elpaWlwc3ODXC7HvHnz1OkVFRUIDg6GXC6Hj48PLl26pD4XExMDFxcXuLi4YNu2bQYpNMMw
jIrqajG9dntaDIDuI6U7Ba2t8pObm0snTpwgIqLS0lJycXGh9PR0WrBgAa1evZqIiFatWkULFy4k
Is2az5WVlZSZmUlOTk7qNZ/Hjh1LKSkpRESN1nyeM2cOERHFxcVprfl87733UlFRERUVFan3dV2F
iGEYpjWOHhUrr505077nKJVEdnaGyZMpaKnubLXFYGdnBw8PDwDAnXfeieHDh0OpVGLPnj0ICwsD
AISFhSEhIQEAsHv3boSEhMDS0hKOjo5wdnZGSkoKcnNzUVpaCi8vLwDAjBkz1PfUf9aUKVOwf/9+
AEBSUhICAwMhlUohlUoREBCAxMREgxpGhmG6H5mZmjd81VxHFu2MuHalkc96fRQXL17EiRMn4O3t
jfz8fNja2gIAbG1tkZ+fDwDIycmBj4+P+h6ZTAalUglLS0vIZDJ1ur29PZR14XulUgkHBweRIQsL
WFlZoaCgADk5OVr3qJ7VkPDwcDjWjV2XSqXw8PCAr68vAI3fzlDHH374oVGfz3qs11n06vvEO5te
SormWCzS44tbt9qnJ5EAlZUKKBQdX77mnr9161YAUNeXzaJrs6O0tJRGjRpF3377LRERSaVSrfPW
1tZERBQVFUXbt29Xp0dGRlJ8fDylpqaSv7+/Ov3QoUM0adIkIiJydXUlpVKpPufk5ETXrl2j6Oho
eu+999Tpy5cvp+joaJ2bQ8agKy2Aznqs11m0DK0n3u3F/uHDYv/mzfbp5eYSDRrU9jyZ+vNsqe7U
qVdSVVUVpkyZgtDQUDz++OMARCshLy8PAJCbm4tBgwYBEC2BrKws9b3Z2dmQyWSwt7dHdnZ2o3TV
PZfrJhiprq5GSUkJbGxsGj0rKytLqwXREagsMeuxXnfX66xlKy3VPv7+e2D0aKBPn/bptdeVZOrP
syVaNQxEhMjISIwYMQLz589XpwcFBSEmJgaA6DmkMhhBQUGIi4tDZWUlMjMzkZGRAS8vL9jZ2aFf
v35ISUkBESE2NhaTJ09u9Kz4+Hj41Y0yCQwMRHJyMoqLi1FUVIR9+/Zh3Lhxhv0EGIbpVpw+rX28
ejWQltb+53arXkmHDx8miURC7u7u5OHhQR4eHrR3714qKCggPz8/ksvlFBAQoNVbaMWKFeTk5ERD
hw6lxMREdXpqaiq5urqSk5MTzZ07V51eXl5OU6dOJWdnZ/L29qbMzEz1uS1btpCzszM5OzvT1q1b
9WoOGYPO3HxmPdbrrFqG1PvhB40r6cYNbbdSe/Ty84kGDGh7vszJldRq8PnBBx9EbW1tk+d+/PHH
JtMXLVqERYsWNUofPXo0zpw50yi9d+/e+Oqrr5p8VkREBCIiIlrLJsMwjE6oXEm9egGqYVZ33dX+
53alFgPPlcQwTLfi00/FWs6xscDPP4u1nffvBx55pH3PvXoVGD4cuHbNMPk0NrweA8MwTB2VlSLQ
XFOjCRarludsD11pHAMbBj2p39eY9VivO+t11rJVVmrWTqi/LGd79drrSjL159kSbBgYhulWqBbl
6dlTGAlD0lVaDBxjYBimW/Huu8I4rFkDJCSINZsPHQL++c/2PbewEHB2FtvOAMcYGIZh6qjfYqiq
EmmG6lHUVd5R2TDoSWf1q7Ie63VmLUPqqdZe6NkT+P13kdZUd9W2xBi6zXoMDMMwXQnVam09ewKL
F4u0e+9t/3N5HIMZwTEGhmH0ISoKGDoUWLZMEw8wRBVSXAzccw9QUtL+Z5kCjjEwDMPUUb/FYEh4
HEM3prP6VVmP9TqzliH1FAoRY7h61bB6PI6BYRimk5KRAdRbAcCgdJUWA8cYGIbpNtTWChfSkiXA
8uUiLT4emDKl/c8uLRW9mxqu92CucIyBYRgGQFmZ2N66pUkzhFFQ0VXeUdkw6Eln9auyHut1Zi1D
6akMgi6jnHkcA8MwTDfgwgWxnTxZBKANSXPB58uXO880GWpaW+UnIiKCBg0aRK6uruq0pUuXkr29
vXpFtx9++EF97v333ydnZ2caOnQoJSUlqdNVq7c5OzvTSy+9pE4vLy+nadOmqVdvu3jxovrc1q1b
SS6Xk1wup5iYGL1XIWIYhlFRVaW9Wpu9fdMrt7WVGzeIbr+9cfpttxHVqz7NhpbqzlY/lkOHDtFv
v/2mZRiWLVtGa9eubXTt2bNnyd3dnSorKykzM5OcnJyotraWiIjGjh1LKSkpREQ0YcIE2rt3LxER
bdiwgebMmUNERHFxcRQcHExERAUFBXTvvfdSUVERFRUVqff1KRzDMIyKnBxtw+DsbFjDcPOmMAIN
6dPHsDqGoqW6s1VX0j//+U9YW1s31dJolLZ7926EhITA0tISjo6OcHZ2RkpKCnJzc1FaWgovLy8A
wIwZM5CQkAAA2LNnD8LCwgAAU6ZMwf79+wEASUlJCAwMhFQqhVQqRUBAABITE9vWLDIgndGvynqs
19m1DKFXUSG2L7wgtmvWAKtWGU9PhSquoZqwz9h6hqDVNZ+bY/369di2bRvGjBmDtWvXQiqVIicn
Bz4+PuprZDIZlEolLC0tIZPJ1On29vZQKpUAAKVSCQcHB5EZCwtYWVmhoKAAOTk5WveontUU4eHh
cHR0BABIpVJ4eHjA19cXgObDNtTxyZMnDfo81mO9zqzXmY4rKgB7ewWmTgUAXzzxhDivUBjm+RIJ
UFPT9PMAX/TqBRw82HHlVygU2Lp1KwCo68tm0aXJkZmZqeVKys/Pp9raWqqtraXFixfTzJkziYgo
KiqKtm/frr4uMjKS4uPjKTU1lfz9/dXphw4dokmTJhERkaurKymVSvU5JycnunbtGkVHR9N7772n
Tl++fDlHCRPlAAAgAElEQVRFR0fr1RxiGIZRceqUcX39ZWVEvXs3Tle5r8ytqmqp7mxTr6RBgwZB
IpFAIpFg1qxZOH78OADREsjKylJfl52dDZlMBnt7e2TXG2qoSlfdc/nyZQBAdXU1SkpKYGNj0+hZ
WVlZWi0IhmEYXThzBti+HfjxR8P3RGpItx7HkJubq97/9ttv4ebmBgAICgpCXFwcKisrkZmZiYyM
DHh5ecHOzg79+vVDSkoKiAixsbGYPHmy+p6YmBgAQHx8PPz8/AAAgYGBSE5ORnFxMYqKirBv3z6M
GzeuXYU1BJqmIeuxXvfW6yxlu+8+IDQUePVVzfoLxtBTjWN4+mnA01O/PLZFz5i0GmMICQnBTz/9
hGvXrsHBwQHvvPMOFAoFTp48CYlEgiFDhuDTTz8FAIwYMQLTpk3DiBEjYGFhgY0bN0JS17l348aN
CA8PR1lZGSZOnIjx48cDACIjIxEaGgq5XA4bGxvExcUBAPr3748lS5Zg7NixAIClS5dCKpUa5UNg
GKZ70FoAuD2oxjHs2KGdbmXVeabiVsFzJTEM06WpP/DsX/8CYmONo1NZCdxxB1BdLY6JRI+k/v01
PaLMqariuZIYhum21F+201hGAWh65HNeHjB4sPE0jQUbBj3pLH5V1mO9rqTVHr277zadHhHw4IOa
/Rs3gDvvNJ6esWDDwDBMl6ayErBo84gt3VEFn2/eFMd//KExDK+9Znx9Q8IxBoZhujRubsDKlYCN
DfCPfxhPp6ZG2wDt2QPcdhuwejWwdy9w++2a+IM5wDEGhmG6BU88Afz9t9hX1XmVlYCzs3GNAtA4
xlBZCZSXC+PQs6cwHBERxs2DoWDDoCedxa/KeqzXlbR01UtIAA4eBH77DejRQxiHqiqgVy/j6NWn
R4PalEj0RrrtNs25uhkpDKJnTNgwMAzTpbCwAA4fFvtBQeLNvS2Gob0sWCBaDL17m167vXCMgWGY
LoNEAnz+uVjCc+5ckXbHHUBODtCvn2n0G2JhIVotqnPmUl1xjIFhmE7PuXPAtGnNn1eNap41C7h+
XZN+86ZpjAIgBrTduKGdZk4BZ11hw6An5uhXZT3W6wg9U5dt8WIFvv66+fMffqjZP3So/XptKd/t
t4sWSn1mzDCenrFgw8AwTKegbhLmZsnL0+wnJQH//a/Yf+AB4+WpNYYNA156qeP02wrHGBiG6RT4
+AApKc376F97DVi7VnN8+bIY9TxtGrBzp2nyqOLBB4EjR8T+6dNiLMUTTwC2tsAnn5g2L83BMYYu
QmkpcOCAcTXOnQOaWSiPYQxOSQlw7Jhu16aktHy+biFINarlW1QT2JmS+q4sVY8oN7fOM28SGwY9
6Qif8a1bwNdfi9Gbfn5AUZHogmdoiIARIxQw5XpIXdkH39X1DKElleoz8KxlvbvvBiZPBsLDxbFE
IrqK1q1yqTftKV/DMQ2q/BhLz9CwYWgntbVi8Q+JRPz99JNhn//wwyKYNW2aMAyAmMa3ft/o+Hgg
Obl9Omlp2j/m1n7EBQXt02MYfcjP1+y/+mrjnj+AGFncsyfw3nvCZQOIHknz55smjw0pKQG+/RZw
cdGkdRqvt/FWFDUNHVWEmhqi/HyiadO013QdPNhwGvv3a577449ETz1FdOQI0RNPaNLd3DT7gYH6
Pb+kRDvvDf8KC4lu3SLau1f7vtpacb5fP7HflRk7lujVV4m8vYn+/rujc9P1UP3WSktbvs7eXlxn
aSm2n3/e+JrPPiOqW37eLFm6VPyZCy3Vna22GGbOnAlbW1v18p0AUFhYiICAALi4uCAwMBDFxcXq
cytXroRcLsewYcOQXO81Ni0tDW5ubpDL5Zg3b546vaKiAsHBwZDL5fDx8cGlS5fU52JiYuDi4gIX
Fxds27atnSbQcJSUiDcTW1vgq6+E3/Cbb8SbTG4usHlz8/dWV4ug1NWrmreH4mKxJq1SqT1k3s9P
tBaIxP7XXwP33y+0VKucnjkjVoiaNEm0GlQzO+qClZX28aZNIo6hylf//qL/94QJmlWpiIB77hH7
168DFy7ortcZ+fVXEdBMSWn5e2X0p7ZWs19cDGRkAM39m6viXjY2Yjtrlmgh1Ccrq3GcwdzoMi2G
Q4cO0W+//Uaurq7qtAULFtDq1auJiGjVqlW0cOFCIiI6e/Ysubu7U2VlJWVmZpKTkxPV1r1Sjh07
llJSUoiIaMKECbS37jV0w4YNNGfOHCIiiouLo+DgYCIiKigooHvvvZeKioqoqKhIva+P1TMGn312
UP2WEx1N9M03RJWVmvOLFolzzz9PVF2t/UZdU0MUEqL9Vu7rSzRokHaanx/RP/8p9pOTDzaZj9pa
ookTifr2FZpEmvtv3Gi9HK+8Iq796Sdx/MsvROXlRAcPCr2EhMYtiKoqovPnxb63N5G/P1Fiov6f
YX1UeqagtpbIzu4gFRbqfk9TrSiFgqiiQrf7TVk+U+u1V6uoSHymDg7iMx0+XBxPnEj04YdEX36p
uRYg+vDDgxQQoPkuPvpI+3kvvtg4rT0Y+rNctoxoyRLT6bVGS3WnTrVqZmamlmEYOnQo5eXlERFR
bm4uDR06lIiI3n//fVq1apX6unHjxtHRo0cpJyeHhg0bpk7fsWMHzZ49W33NsWPHiIioqqqKBgwY
QEREX375JT3//PPqe2bPnk07duxosnA3bhBdvy5+aAUFRJcuER07RnTyJNGffxJlZBAdPUp06hTR
5ctE339P9PbbRJs3CxdNTU3L5f/1V+EiGjCASCI5SA880Pw9DSvU118nunJFuHm8vUXayy8Lg1L/
usBAzb6Njdhu2KDfj6W6msjJieirr4gyM4muXdOcS08XBqesTHweAFFERONnqPRqa4nOnBH3ZWc3
riDLyoiefZZo40ads9ckpvxnuHGDCDhIPXq0fF11tSj7n38S9e4tjGbD8o8bR/Tzz61rsmFomqNH
xWc8fDiRi0vTrkwbG831Q4YQ/e9/B6msjOjhhzXXqF68AKJ//IPo00/bV6b6dGfD0KblK/Lz82Fb
F92xtbVFfl1kKCcnBz4+PurrZDIZlEolLC0tIavX1cXe3h7KurahUqmEQ137z8LCAlZWVigoKEBO
To7WPapnNYWVVTh69nSERAL06CFFr14ecHLyRXU1cPWqAkRA376+qKkBCgoUsLMDAgJ8kZIC/PST
AuXlwODBvhg9GnB1VcDDA5BIfHH4MPDxxwr07AlYWPhi3TrRfB0+XIEePXwBaHoS+NZ1fbjzTgW+
+gp4+21f9OsHrFmjwJo1ACDOr12rwKhR4vrLl4Fz5xS4ehV45hlflJQAv/2mgESieZ5CITQ0x9p6
9Y979gT691fUTRsgzs+YoUB4OPDII+L49tsVdW4oX2zY0Ph5qmf6+vrC1VXs5+cDoaG+dcsiKrBx
I3Dbbb5wcACOHFFg+PCm86PLcX29ttzf3PH587545BFAqdScV7nZHBwUmD7dF0VFwJtvNr5/4kSg
rEyVPwVKSoBly3yxbJk4BoCkJPG85cs7pnzmoOfr69um+2/dAh591BcPPSR+//b2gOr3qul55Atn
Z839FRW+eOghXxw7psDRo5rrf/hBgdtvF8e//QY89JACCkXHlq+5Y4kEuHix+fwZWq/hsUKhwNY6
X7WjoyNaRBfL0rDFIJVKtc5bW1sTEVFUVBRt375dnR4ZGUnx8fGUmppK/v7+6vRDhw7RpEmTiIjI
1dWVlEql+pyTkxNdu3aNoqOj6b333lOnL1++nKKjo/Wyerpy6RLR4cNEn3xCdNttmreRZ58lOnBA
d7dBUygURN99R3TzpvgzNk8/3Xww+Z13NPt13judqa0lWreOKClJkxYdLVo/5kb9Mv+//6dJj40V
aVZWjd84m7s/J0eTfvWqSNu6lcjammjqVO37zpwh+usv45SpK1FQoP0Z9+3bcieI6GjRerh6Vdy/
YIHm3J9/Eh0/rjmu734yN959l+ittzo6Fxpaqjvb1F3V1tYWeXXjz3NzczFo0CAAoiWQlZWlvi47
OxsymQz29vbIzs5ulK6653LdWPfq6mqUlJTAxsam0bOysrK0WhCG5O67xUjF2bPFrIw3bojh9Z99
JrqL9qo3Za++fY0fekgEhvv0EX/6oq9eTIwIChcUiO26dcBHH4k56t9+Wyw3+NRTwH/+o5+eRCKG
9gcGatKys4EPPmhfQM3QfbfrBzQB7YFGBw8CqhaAimnTNJOvAZrJ11JTxdTN9QckDRggyhoWJkbS
FhZqa7m5iQVh/vxTk2bqvumm1GurVv0xOKNGiQ4PAHDqVNPXv/aa+D3/+qvQW7NGdF+96y7RFdTL
S3OtIae4NsZn2dL/iql/Ky3RJsMQFBSEmJgYAKLn0OOPP65Oj4uLQ2VlJTIzM5GRkQEvLy/Y2dmh
X79+SElJAREhNjYWkydPbvSs+Ph4+Pn5AQACAwORnJyM4uJiFBUVYd++fRin6opjZO64Q9MPurNh
YQH07St6FPXtKyrzuXM1g3yGDhW9m267rf1a778vtk0N5ukoVO8fiYnADz+I/fR0Ydi2bNFc99Zb
Ii0+Hhg7VvTmkkhET60HHgBGj9Ys6t4UUqnoSaPiyhXN/tChqHO7MU2Rk6PZr1+Ru7qK7erV2tcA
4nctXEaCQYO0r7n7brE1514/rY0NMitaa25Mnz6dBg8eTJaWliSTyWjLli1UUFBAfn5+JJfLKSAg
QKu30IoVK8jJyYmGDh1KifW6rKSmppKrqys5OTnR3Llz1enl5eU0depUcnZ2Jm9vb8rMzFSf27Jl
Czk7O5OzszNt3bpV7+YQY3xUTfiMjPY9p6iIaNMmopEjifr31+/e2lqi4mIRbFflp2H+VMH2uo5x
RES0e3fTrouPP25d89QpTZ/648dF766Gz2GaZv58jUvv1i2x7+QkzgEiSFtZ2frnWf9ccDDRffeZ
91iT5cs1PQjNgZbqzk7/82XD0LGo/rHbYxwa+pwBot9/1+3eU6eartxVrFvXckX944/a9z33nG66
6emNNUePFgO13n1XDDxkmqYp433XXZp9P7/G1zb1/f35p/6/l47kvfc6j2EwIydA56Ar+4zbonf7
7RqXyokTLV9bWipiG6rm/qVLwJQpCvWgpd9+EzGRZcuAZ54RUycTNb/QSUwM4O4u9keNEu4GAFi6
VHPNSy8JN5HKr92wfKrBegAwcSLw6actl0GFvb2Y4+e++zRpoaHAnXcCjz0mjktKgCeeUDQaiGVM
zDHGUN/NpqL+5waIBW5U1He5hIaK7a+/NtaTy8X3fvkyMHKkTlnRC44xMEw7sLISFXlZWfPXvPSS
GEX96qsiJqFQAC+/LEZxA8Jn7+kprvP0FIHI8ePFeUtLYOFC7ZGuRJrJ0mpqxFxPeXnAk0+Kv/r0
6SOe0RTOziJgPXeuJmaiC/36Ab/8Ikabz5wp4hLPPivODRwIXLsm/OAJCWKpye5KXJyI15WXa9LG
jEFdF27BgQOaeJC1tajsVWzbJr7rMWOafn5amvmPdlbRpWIM5k4XKEKXICJCjDoNChKD3+pz86am
yT9rFlGvXmJ/2LDm3QRXrmjPAwWIpriKI0dE2uXLxi1XW6iq0s53w26t3YWyMqJ//Ut8Bk89JdIS
E8VxdnbT99TUdN35t1asIHrjjY7OhYaW6k5uMTAGwdIS2LUL2LNHuJfEICSBanbL338HNm4Ub/+A
6DobESHeuBsycKCmq6hUKrY7d2rcEqpVuczxbdHCAnj0Uc1xS8tRmhM5OYZZREZlEm+/XcwBBoje
X/v3A5GR4lgMamtMjx6d7M1aDzpTudgw6Im5+/w7Su/4ce0px++/X/wjfPut6EIaFSX8wJaWwBtv
CDeQTCZGZjc3Od3mzaIyKSoScYwzZ4Rboj3/YKb6PL//Xri4hg4VerGxotJt2A3T0LSnfJs2AXPm
tE+rrExU7vW7+r76qtj6+4vJ8F55pW356yz/Cy3BMQamW/F//wd88YUIFFdWav75n3wS2LtXe93d
Pn3EtfXGLzaJTAY88ojYt7LSXlTd11cYI3OmRw/gnXfE/owZotL97LPG1/34owi0dzTNxWH0QTWI
85dfNGlvvql9jeoz6W50phYDr/nMGI1bt8Qo6717RQ+dfv3a/8yCAhHIbM4VYY7UrxAiIrQH2hFp
BgjW1upWeeTmCvda/QFfhuCDD4RBb8+/09ChmpHfDg6i55lEItKLipruodRdWLVKfAarV3d0TgS8
5jPTIfTpI3qbEBnGKABiPv7OZBQA4OxZ0Utp/37RUpowQbjFJk/WXnlP1y6XYWHAihWiwhXTfBiG
upltUFTUtvtv3RJGITlZGIUnntAYuvPnu7dRADpXi4ENg550BT8n65lWb8QIYdAeeQR4/XUxXcd9
94lA/fjxmiD7uXNNL9H66adizAYgutQePCgMAyCeKZEIo6PSayuq6Sn699dOb2652oZaqnm0rK2B
zEzgww/bnBWd9IwNxxgYhjEJq1dr+uT/859iO2qUqEgBzcp8KpKSgOefF8H6deuAxYs1A/7qB3j9
/cUAwfZQfyDhl1+K1Qmzs0U8p6k1lhty5IjY9uolVjjsTG/IpqAzfR4cY2AYE1NbK3osWVqK0eCW
lmJSw9paUaF+953o7vrii8B//9v4/n79hHGZPVvMDnvokJjFF2hffGD7ds1I44ZcuSK6ELdEv37C
zbVunXlNrGgurFkjlvT99787OicCjjEwjBnRo4emB1DfvpqZbnv0EF07H3tMtBRURiE9XTMaODRU
E68QCzKJloeqm+l337U9X1VVYgrrhITG51pbS7y0VPz9+99sFJpDIjHv2V/rw1+hnnQFPyfrma+e
KkA7YYLYfv89MHw4EBAgppbetq1xt1KJBNiwQewfOtS0Xk1N47UqGlJVJWIfkyeLCqyoSPwNHy56
g6WkaF9/8KBYrTAnR9PSMMR07s1h7t9da7TmSuIYA8MwTRIdrdnftUszgnrlSuDixebvk0iEa6mp
CQdv3ND4/evWxGqS/fs1kxICokusVCqC4mPHAj4+0FrkaOdOIDhY9BLbvVsMXGRaprO0GDjGwDBm
xpEjIrD8/ffaU2u0xlNPCWNSVSVGiicnA08/Dbz7rvaMs0lJgIeHpnsqAGRkACEhouXh7a39XE9P
4ORJzfGZM2JRnYZvwLqOw+iurF0rWldr13Z0TgQcY2CYTsQDD4g3fGtr/e577jmxtbQUU5A884yo
qFVGQbV05rhxYmoRe3sxWA4QS2SmpTW9cuFLL2kfv/yyZt/HR/ReOnqUjYIutOcdlkhMMWMK2DDo
SWf3c7Je59CrqBDzTelDYCCwfr0Cd9wh3Dz1OXRIxA8OHxYB7vvvF2+vd92lWecaEMcN8fER23Pn
xNQnP/6oquAUeP55YOpUzTXGpLN8d83R3hjD/PliipnWYkWGoF2GwdHREffddx88PT3hVbcid2Fh
IQICAuDi4oLAwEAU11sYd+XKlZDL5Rg2bBiS643kSUtLg5ubG+RyOebNm6dOr6ioQHBwMORyOXx8
fHDp0qX2ZJdhujyursDPP4t4wvXrmplOVWMmHnxQxDGOHBGz2wLCoIwdK4579Wr8zOHDxTOGDdPE
IFRjJiZNMn6ZugoSCdq8aFNNDfDRR2J/zx7tc1VVRpg3rD3zeTs6OlJBQYFW2oIFC2j16tVERLRq
1SpauHAhERGdPXuW3N3dqbKykjIzM8nJyYlq6yZeHzt2LKXULcY7YcIE2rt3LxERbdiwgebMmUNE
RHFxcRQcHNwoD+0sAsN0a377TZgOGxvd77n/fnFPr17Gy1dXZPt2ounT23ZvWZlmfY8PP9Q+19Y1
xluqO9vtSqIGTrM9e/YgLCwMABAWFoaEuk7Ru3fvRkhICCwtLeHo6AhnZ2ekpKQgNzcXpaWl6hbH
jBkz1PfUf9aUKVOwXzXun2EYg+DqKrZ1/2Y6ERsrtqrlUhndkMnESPK2UFWl2Z8/XzOflUym33OS
k5ue4bchFvo9VhuJRAJ/f3/07NkTs2fPxrPPPov8/HzY1kWwbG1tkZ+fDwDIycmBTz1HpEwmg1Kp
hKWlJWT1Smdvbw+lUgkAUCqVcKhbicXCwgJWVlYoLCxE/waTuYSHh8PR0REAIJVK4eHhAV9fXwAa
v52hjj/88EOjPp/1WM+UekeOKHDwoP56ycm+SE9XQOUWN0X56vvgO6vezz+Lz0wfvb//Bh5/XByH
hyuwdSuwdq0vli8HlErVPbqVJzh4K4qLgZwcR7SI/g0QDTk5OUREdOXKFXJ3d6dDhw6RVCrVusba
2pqIiKKiomj79u3q9MjISIqPj6fU1FTy9/dXpx86dIgmTZpERESurq6kVCrV55ycnBq5rtpZBL05
ePAg67Ee65lYqyvoff+9xuVTXq6b3pUr4h5XV7FNSBDbiROJcnK0l5DVBZUb8L//NaIraXDdtJAD
Bw7EE088gePHj8PW1hZ5eXkAgNzcXAyq6yxtb2+PrHors2RnZ0Mmk8He3h7Z9dpXqnTVPZfrRuRU
V1ejpKSkUWvB1KgsMeuxXnfX68plM4aealr1p54SI8Tj4xvrEYnuv4AYrFhYKPZ//11sJ08WEy4e
Py5GweuLasGs1lbqa7NhuHXrFkpLSwEAN2/eRHJyMtzc3BAUFISYujmCY2Ji8PjjjwMAgoKCEBcX
h8rKSmRmZiIjIwNeXl6ws7NDv379kJKSAiJCbGwsJk+erL5H9az4+Hj4+fm1NbsMwzAdSp23G7t2
iW1TU6xfuSJGk+/aBSxZInqCNeSee8R8WW+8oVnhUBcuXNBjAj/dGiCNuXDhArm7u5O7uzuNHDmS
3n//fSIiKigoID8/P5LL5RQQEEBFRUXqe1asWEFOTk40dOhQSkxMVKenpqaSq6srOTk50dy5c9Xp
5eXlNHXqVHJ2diZvb2/KzMxslI92FKFNdPbmLOuxXmfU6ip69V0/7u6N9V55RXP+sce0r69f1amO
b7uN6IcfxLY1fv654fOarzvbHHweMmQITtYfJ19H//798eOPPzZ5z6JFi7Bo0aJG6aNHj8aZM2ca
pffu3RtfqdpVDMMwXYhTp8TYkfqtgv/8R7PfcKbcplbrKy8H/t//E9vISNHjqGfPxtddvKhZv+P4
cTHSXSptPm88VxLDMIyJ+PlnzWBDFfWrr6ZGR8+eLaY0/9//NGlHj4rZdm1tAQsLMe/V1atiAOK2
bWKUuwpfX80qfM89J1YEFFrN151sGBiGYUzI0KFAVhZQViaOr10TS7/euiXe4pVK7QkO8/KansOq
Pg0NSkCAiGEQaa+PUVammRqdJ9EzIPX7GrMe63Vnva5cNmPqnT0rZr+9fl3MTXX1qkgfNUqBqiqx
El5ODvDxx8JF1JpRAERgWfUcANi3T2wjIjRpRLqvl8GGgWEYxoRYWIg5qfr2FQZg+HAxsvn8eXG+
Vy9g8GCxtGvv3ro9c8gQYMAA0bpYskSkrV4N7Ngh9hcv1i+P7EpiGIbpIFQuoIIC4U6ys9NMhd5W
6ruPpFKxGuCXXzalza4khmEYs0PlrVIqxbxH7TUKgDA2y5eL/eJi0fLQFzYMetJV/Jysx3qdSaur
6qkC0PfdB1RUGE5v/nzNvmq0sz60axI9hmEYpu3Y22v2P/jAcM+9804gJQVo6xI2HGNgGIbpQC5c
EFNgLFhgWl0ex8AwDMNowcFnA9IV/Zysx3rmrsV6poUNA8MwDKMFu5IYhmG6IexKYhiGYXSGDYOe
dHW/I+uxnjlqsZ5pYcOgJ02tQcF6rNcd9bpy2bqDXkuYvWFITEzEsGHDIJfLsXr16o7ODoqLi1mP
9VjPxFqsZ1rM2jDU1NQgKioKiYmJSE9Px44dO3Du3LmOzhbDMEyXxqwNw/Hjx+Hs7AxHR0dYWlpi
+vTp2L17d4fm6eLFi6zHeqxnYi3WMy1m3V01Pj4eSUlJ2LRpEwBg+/btSElJwfr169XXSJpaC49h
GIZpleaqf7OeRE+XSt+M7RrDMEynxKxdSfb29sjKylIfZ2VlQSaTdWCOGIZhuj5mbRjGjBmDjIwM
XLx4EZWVldi5cyeCgoI6OlsMwzBdGrN2JVlYWODjjz/GuHHjUFNTg8jISAwfPryjs2VUamtr0aOH
6ey1qfUYw1BaWoq+ffuCiDjOxhgcs68RJkyYgPPnz+Ovv/7Cm2++aRLN3Lr19Wpqakyid+7cOfzy
yy8AYJJK+vTp0/juu+9QXl5uUqNgis8zJSUFb775Jmpra42uVZ+qqiqT6KSlpWHKlCn4/PPPAZi2
84Wp43mm+g4rKytNotMQU9UvbcHsDYMpuXnzJkJDQ2Fvb4/Tp0+jZ8+eRv3ySkpKMGvWLEyfPh1v
v/02Fi1ahIyMDKPpFRcX44UXXkBoaCg2b96MRYsWGb2L3JkzZxAdHQ0A6Nmzp9F0rl+/jhdeeAFR
UVFwcHBAjx49TFKxHD16FM8++yx+/fVXo+oUFhYiKioKL774Is6cOaP+XVZXVxtV98SJE9i0aRNy
c3NNYoTS09Nx+PBhAMZ/STp69CimTp2K1157Denp6SapqH/55RcsWbIEgHH/H9oLG4Z6fPfdd3Bw
cMD8+fMxZ84cAMb98tasWQMAOHXqFD755BMUFhbiUlvX4tNRr3fv3jh16hS++OIL/Pnnn7j99tuN
pgcAixcvxuLFi9XzwBjrn2/FihVISUlBcnIyXnjhBQDGr1g2bdqEZ599Fp6envD09DRqxfLqq6+i
R48eOHbsGD7//HPExsYCEO5WY1BVVYXnnnsOkZGRUCgUeOutt3Ds2DGjaAHCwM2ePRshISH46KOP
sGbNGqSmpgIwTkvlypUriIqKwsSJE2FjY4N169Zhy5YtBtepT0xMDMLCwrBixQrs3LkTgPENe5uh
bs6FCxfo5s2bRERUUFBA+fn5RETk4OBAO3bsICKiqqoqo+hdvHiRsrOz1eeCg4PpP//5j8G0VHo3
bjw9ADwAAAzMSURBVNwgIlJviYji4uJo1KhR9OWXX9LFixcNqklEVF1dTUREa9asoddee40eeOAB
9bmamhqDaNQv29mzZ2ncuHF0/vx5+vrrr+mVV16hHTt2GKVstbW1RET01ltv0e7duw3+fBX1fyv1
v7v09HSaPn06nTt3zmjaR48epSeffFJ9HB4eThkZGUbTO3HiBE2bNo2IiK5evUoffPABPfPMM+ry
G5qkpCSaPn06EYnPNjExkR599FE6f/68UfSIiJKTk+ny5cuUlJREMplMna76PZkT3bbFkJmZiQkT
JiAyMhKhoaH4448/0L9/fwwaNAgAsHbtWiyoW4TVEG9lDfXOnz+Pe+65B/b29mof5+233w4nJ6d2
azXUmzFjBs6fP4877rgDAHDw4EFER0cjMjIS//d//4fVq1cjOzvbIJrl5eUAoHblJCUl4bnnnsPA
gQPVfvH2vsk3LFt6ejpGjBiBBx98EIGBgfj4448xbNgwfPXVV/j3v/9tkLKpdCsqKiCRSFBYWIjf
f/8dY8eOxYEDBzBu3Di8//772LVrF4D2veU29VtRfXeAiCvk5OSo09qj1VC3rKwMgPiOEhISUFJS
gl27duHYsWM4cOAAfvvtN4NoNdS7efMmTp48ierqagwYMAC9e/dGenq6+jfTXr788ku8/fbb6pkT
PD09kZqair/++gt33HEHxowZg9GjR+OTTz4xiF5Tmo888ggGDx6MwMBA3HPPPWqXklm2GjraMnUU
L774Ir399ttERLR+/Xp66qmn6MyZM0SkseD/+Mc/1NeUlZUZTU/1du3v709paWlE1P636qb0Tp8+
3ei6s2fPUkREBB0+fLjNWhcuXKDx48fTww8/TE8++ST98ccf6s/wlVdeoVu3blFaWhq5uLjQlClT
6PLly23WImpctieffJL+/vtvKi8vp61bt2qVLTw8nH766ad26TUs39mzZ4mIaObMmfTwww/T3Llz
KSEhgbZs2ULu7u508uRJImr7m2BT393vv/+udY2vry999NFH7dJR0bB8Kq3Vq1fTzJkzacCAAbRt
2zZavHgxTZo0qd1v1Q31zp07R9evX6eZM2fSrFmz6O+//6YZM2bQO++8Q2FhYXT16tU2a9XW1tLG
jRvJw8ODNm/eTHK5nDZt2kRlZWX0zjvv0Ny5c4lI/L8dOnSIZs+eTTk5Oe0qX1OamzdvppKSEvU1
Z86cob59+1JeXl67tIxFt2oxqN5OVBZ65MiRAICoqCgcP34cX375JfLz89VBtoSEBKxbtw5Lly7F
vHnzkJ+fbxS9nj17IiMjAzY2Nhg1ahQ2btyI5cuX6z3bYmt6O3bsUJeB6t4yR4wYgatXr8LBwUEv
rfqsXbsWXl5eOHDgAB5++GG89dZb+PPPP1FRUYErV67g4sWL+N///of8/HxcuXIFDg4Oer8ltVS2
1NRUfPrpp7h58ybCwsK0ypaXl4e77767zWVrrnwXLlzAO++8g99//x12dnaYPHkyIiIiMHHiRPUb
oj7B2ta+O9Xnp2Lq1Km4cuUKampq2h0Ubli+JUuW4Pz583j99dfRt29f7NixA6GhoZg/fz6GDBmC
I0eOGEzP19cXS5cuhVKpxPLly3HbbbfhpZdewqhRoxAUFISamhpYW1u3WUsikeDYsWNYuHAhZs6c
iY0bN0KhUGD//v2YNGkS/vrrL+zbtw89evSAjY0NlEolrKys2lW+pjT379+Pw4cPg4hARHB1dcXU
qVPxxhtvAAD27t3bLk1D0y0Mw759++Dv748FCxbgq6++goWFBaytrXHixAmcOnUKp06dgqurKy5f
vozCwkL1fVeuXMH169fx008/ISoqCra2tkbTu3DhAo4fPw5fX1/s2bMH06dPh1QqNajepUuX1HrV
1dXYvXs3/Pz8MHjwYPTv31+vz7S1iuyLL75AXl4eLCws4OXlhRs3buDAgQO4fPkyTp8+rbN7Ttey
ZWdnqytOiUSC3bt345FHHsFdd90FGxsbvcrWWvnS0tLw2WefYeDAgZg1a5bafQSI38z999+vs05b
f5s5OTnIyspqc+eI1sq3ZcsWVFVVoU+fPvjmm28AAAMGDEB2djZGjBhhML25c+fi2LFj+OKLL9Cn
Tx+sX78eu3btwrx58+Di4oLCwkLcunVLL61t27bhp59+Un9ew4cPh1KpRHV1Nfz9/TFy5EgcPXoU
NjY2CAkJwcsvv4y//voLBw4cABG1qftqa5pubm74+eefkZWVpTbkmzdvRkxMDKytrXHq1Cmzmt6n
57Jly5Z1dCaMyV9//YWoqCi89tpr8PX1xeeff44rV67ghRdeQFpaGrZt24Zdu3Zh1apVOHr0KKqr
q+Hl5YWsrCysXbsWr732GqKjo3U2CvrqVVRUwMfHB8eOHcM333yD9evXY+nSpRgwYIBRy3fw4EEs
XboUr732GhYsWIDevXvrpLdv3z7Mnj0bJ06cwI0bN+Dm5oajR48iJycHAwcORH5+vro75ZgxYyCT
yfDGG28gPDwcgwcPho2NDYYNG6bTW1lby/bLL79g4cKFeP3117Fw4UKdy6ZP+SoqKjBq1ChMmzYN
SUlJOHHiBN566y307NkTERER6Nu3r8HLV1VVBW9vbwCAo6Mj7OzsIJfLdS6bPuWrrKyEq6sr3N3d
sWLFCmRnZ+Pdd9+FtbU1nn76aa2Yh6H0Ro0ahYEDBwIAvv/+e4SFheGhhx5CYGBgq60iIkJubi4e
e+wxnDp1CkqlEgkJCfD390deXh4uXryIu+++GwMGDIBMJkNsbCy8vLwwfvx4lJSU4LvvvoNCocBH
H32kc+tZX83t27fDy8sLgwcPxoULFxAZGYmBAwciPj4eTz75pHkNVOw4L5bxqKmpUfvoY2Njac6c
Oepzn3/+OVlZWal7H/3111/qc+vXr6dNmzZ1iJ4+PZ8ModeWGEZGRgZ5eXlRQkICpaWlUXBwMG3Y
sIGuX79O7777Lj366KN0//330/Hjx9XnVFRXV+ukaervrq3lCwkJUfcgKykpofT0dEpKSjJJ+doa
f9KnfNOnT1fHME6fPk1bt26lb7/91mh6ISEhar0//viDnnzySdq1a5dOOqr/nT/++IOefvppddqc
OXMoNDSUKioqaObMmRQTE0PFxcVERDRjxgxatGiR+hnl5eV6la2tmkuWLCEioqKiIjp27Jhemqak
yxmGzZs3k52dHb355ptERHTq1CmSSqV04cIFIiL65JNPaNSoUeovU/VP9sknn5Cnp6c6+GsqvdTU
VLPWM0RFpmtw1NTfHZfPPF+SdKW6upreeOMNev311+ngwYO0Z88emjFjhtb5gQMH0okTJ2jfvn30
wgsv0IoVK4iIKCIi4v+3d/4uqYVhHH9cHF10KQgaTrMS0lC2RaFkFA5Bi1NwJl0EJWhrCvuFERja
IPUXONRYDoGFixAuLoqgg7iI1nDo29Dt3M69k7fj+3rOfT7bAeHj9xnO933B1xfFYnHkfDKcMrBV
MfT7fWxsbODk5AQ+n0//nXc8Hsf29jYWFxexs7ODarWKYDCITqeD9/d3HB8fw+/3o1wus+8bIl9k
orNxvslbJI3iu7+/h9frhaqquLy8RCAQwO3tLWZmZgyzOj8/x+rqqv59QqEQFhYWsLm5iX6/P1I+
GU5Z2KoYAKDRaAAAksmkfmBG0zR0u12USiX9M9FoVN8+fj88xL5PZLzIRM6S81l70fLw8IBCoaA/
q6qKi4sLXF1dYX5+HsDnbNvtNiKRiF5OvV7PcKh00p2ysF0xfNFut+H3+3F3dwfg91kBANjb24Oq
qqaeaLajT3TpfSFqlpzPmosWABgOh3h9fdVnd319jVQqBQDwer04OzsDADw/P+snnH+KDKcsbFsM
wOcWdXl5WX8ul8sIh8MIBoM/PsTyP/lElx4gdpacz3qLlj+JRqNIp9MAgEqlAlVVEQqFoCgKDg8P
TXXJdIpiou98/gn49T/1kUiEpqenyel00srKCs3NzZGiKOwbkWw2Szc3N1QqlYiI6OnpiQ4ODkjT
NMrn8zQ1NWWaS3Q2Is5nZj6RPk3TyOFw0Pr6OmUyGVIUher1Orndbnp5eaHZ2VnTb32U4RSNbYuB
iGg4HNLa2hrVajXa39+neDzOvn9AxotM5Cw5n7V9b29vtLu7S1tbW5TP58nj8VAmkyGXy2W6S6ZT
KFL2KYJIp9OIxWIj/0aZfX8zGAwQCATgdrtxeno6dp/oWXI+6/oeHx/hcDiwtLSEXC43VpdMp0hs
vWOw+zWZIn1HR0fUbDb1Ox3GjehZcj7r+lqtFhUKBUokEuR0OsfqkukUia2LgTEPu98Nzfms7WPM
hYuBYRiGMcCVzjAMwxjgYmAYhmEMcDEwDMMwBrgYGIZhGAMf90DbZRkbQGMAAAAASUVORK5CYII=
"
>
</div>

</div>

</div>
</div>

</div>
<div class="cell border-box-sizing text_cell rendered">
<div class="prompt input_prompt">
</div>
<div class="inner_cell">
<div class="text_cell_render border-box-sizing rendered_html">
<h1 id="common-algo-trading-strategies">Common Algo Trading Strategies</h1>
<p>Broadly, algorithmic trading strategies come in two flavors:</p>
<ul>
<li>Momentum Strategy: Stocks have momentum (i.e. upward or downward trends) that we can detect and exploit.</li>
<li>Mean-reversion Strategy: Stocks return to their mean and we can exploit when it deviates from that mean.</li>
</ul>
</div>
</div>
</div>
<div class="cell border-box-sizing text_cell rendered">
<div class="prompt input_prompt">
</div>
<div class="inner_cell">
<div class="text_cell_render border-box-sizing rendered_html">
<h2 id="classic-momentum-strategy-dual-moving-average-cross-over">Classic Momentum Strategy: Dual Moving Average Cross-Over</h2>
</div>
</div>
</div>
<div class="cell border-box-sizing code_cell rendered">
<div class="input">
<div class="prompt input_prompt">In&nbsp;[7]:</div>
<div class="inner_cell">
    <div class="input_area">
<div class="highlight"><pre><span class="k">class</span> <span class="nc">DualMovingAverage</span><span class="p">(</span><span class="n">zp</span><span class="o">.</span><span class="n">TradingAlgorithm</span><span class="p">):</span>
    <span class="sd">&quot;&quot;&quot;Dual Moving Average Crossover algorithm.</span>

<span class="sd">    This algorithm buys apple once its short moving average crosses</span>
<span class="sd">    its long moving average (indicating upwards momentum) and sells</span>
<span class="sd">    its shares once the averages cross again (indicating downwards</span>
<span class="sd">    momentum).</span>

<span class="sd">    &quot;&quot;&quot;</span>
    <span class="k">def</span> <span class="nf">initialize</span><span class="p">(</span><span class="bp">self</span><span class="p">,</span> <span class="n">short_window</span><span class="o">=</span><span class="mi">100</span><span class="p">,</span> <span class="n">long_window</span><span class="o">=</span><span class="mi">400</span><span class="p">):</span>
        <span class="c"># Add 2 mavg transforms, one with a long window, one</span>
        <span class="c"># with a short window.</span>
        <span class="bp">self</span><span class="o">.</span><span class="n">add_transform</span><span class="p">(</span><span class="n">zp</span><span class="o">.</span><span class="n">transforms</span><span class="o">.</span><span class="n">MovingAverage</span><span class="p">,</span> <span class="s">&#39;short_mavg&#39;</span><span class="p">,</span> <span class="p">[</span><span class="s">&#39;price&#39;</span><span class="p">],</span>
                           <span class="n">window_length</span><span class="o">=</span><span class="n">short_window</span><span class="p">)</span>

        <span class="bp">self</span><span class="o">.</span><span class="n">add_transform</span><span class="p">(</span><span class="n">zp</span><span class="o">.</span><span class="n">transforms</span><span class="o">.</span><span class="n">MovingAverage</span><span class="p">,</span> <span class="s">&#39;long_mavg&#39;</span><span class="p">,</span> <span class="p">[</span><span class="s">&#39;price&#39;</span><span class="p">],</span>
                           <span class="n">window_length</span><span class="o">=</span><span class="n">long_window</span><span class="p">)</span>

        <span class="c"># To keep track of whether we invested in the stock or not</span>
        <span class="bp">self</span><span class="o">.</span><span class="n">invested</span> <span class="o">=</span> <span class="bp">False</span>

    <span class="k">def</span> <span class="nf">handle_data</span><span class="p">(</span><span class="bp">self</span><span class="p">,</span> <span class="n">data</span><span class="p">):</span>
        <span class="n">short_mavg</span> <span class="o">=</span> <span class="n">data</span><span class="p">[</span><span class="s">&#39;AAPL&#39;</span><span class="p">]</span><span class="o">.</span><span class="n">short_mavg</span><span class="p">[</span><span class="s">&#39;price&#39;</span><span class="p">]</span>
        <span class="n">long_mavg</span> <span class="o">=</span> <span class="n">data</span><span class="p">[</span><span class="s">&#39;AAPL&#39;</span><span class="p">]</span><span class="o">.</span><span class="n">long_mavg</span><span class="p">[</span><span class="s">&#39;price&#39;</span><span class="p">]</span>
        <span class="n">buy</span> <span class="o">=</span> <span class="bp">False</span>
        <span class="n">sell</span> <span class="o">=</span> <span class="bp">False</span>

        <span class="k">if</span> <span class="n">short_mavg</span> <span class="o">&gt;</span> <span class="n">long_mavg</span> <span class="ow">and</span> <span class="ow">not</span> <span class="bp">self</span><span class="o">.</span><span class="n">invested</span><span class="p">:</span>
            <span class="bp">self</span><span class="o">.</span><span class="n">order</span><span class="p">(</span><span class="s">&#39;AAPL&#39;</span><span class="p">,</span> <span class="mi">100</span><span class="p">)</span>
            <span class="bp">self</span><span class="o">.</span><span class="n">invested</span> <span class="o">=</span> <span class="bp">True</span>
            <span class="n">buy</span> <span class="o">=</span> <span class="bp">True</span>
        <span class="k">elif</span> <span class="n">short_mavg</span> <span class="o">&lt;</span> <span class="n">long_mavg</span> <span class="ow">and</span> <span class="bp">self</span><span class="o">.</span><span class="n">invested</span><span class="p">:</span>
            <span class="bp">self</span><span class="o">.</span><span class="n">order</span><span class="p">(</span><span class="s">&#39;AAPL&#39;</span><span class="p">,</span> <span class="o">-</span><span class="mi">100</span><span class="p">)</span>
            <span class="bp">self</span><span class="o">.</span><span class="n">invested</span> <span class="o">=</span> <span class="bp">False</span>
            <span class="n">sell</span> <span class="o">=</span> <span class="bp">True</span>

        <span class="bp">self</span><span class="o">.</span><span class="n">record</span><span class="p">(</span><span class="n">short_mavg</span><span class="o">=</span><span class="n">short_mavg</span><span class="p">,</span>
                    <span class="n">long_mavg</span><span class="o">=</span><span class="n">long_mavg</span><span class="p">,</span>
                    <span class="n">buy</span><span class="o">=</span><span class="n">buy</span><span class="p">,</span>
                    <span class="n">sell</span><span class="o">=</span><span class="n">sell</span><span class="p">)</span>
</pre></div>

</div>
</div>
</div>

</div>
<div class="cell border-box-sizing code_cell rendered">
<div class="input">
<div class="prompt input_prompt">In&nbsp;[8]:</div>
<div class="inner_cell">
    <div class="input_area">
<div class="highlight"><pre><span class="n">dma</span> <span class="o">=</span> <span class="n">DualMovingAverage</span><span class="p">()</span>
<span class="n">perf</span> <span class="o">=</span> <span class="n">dma</span><span class="o">.</span><span class="n">run</span><span class="p">(</span><span class="n">data</span><span class="p">)</span>
</pre></div>

</div>
</div>
</div>

<div class="output_wrapper">
<div class="output">


<div class="output_area"><div class="prompt"></div>
<div class="output_subarea output_stream output_stderr output_text">
<pre>
[2013-07-27 13:22] DEBUG: Transform: Running StatefulTransform [short_mavg]
[2013-07-27 13:22] DEBUG: Transform: Running StatefulTransform [long_mavg]
[2013-07-27 13:23] DEBUG: Transform: Finished StatefulTransform [long_mavg]
[2013-07-27 13:23] DEBUG: Transform: Finished StatefulTransform [short_mavg]
[2013-07-27 13:23] INFO: Performance: Simulated 3028 trading days out of 3028.
[2013-07-27 13:23] INFO: Performance: first open: 1990-01-02 14:31:00+00:00
[2013-07-27 13:23] INFO: Performance: last close: 2001-12-31 21:00:00+00:00

</pre>
</div>
</div>

</div>
</div>

</div>
<div class="cell border-box-sizing code_cell rendered">
<div class="input">
<div class="prompt input_prompt">In&nbsp;[9]:</div>
<div class="inner_cell">
    <div class="input_area">
<div class="highlight"><pre><span class="n">fig</span> <span class="o">=</span> <span class="n">plt</span><span class="o">.</span><span class="n">figure</span><span class="p">()</span>
<span class="n">ax1</span> <span class="o">=</span> <span class="n">fig</span><span class="o">.</span><span class="n">add_subplot</span><span class="p">(</span><span class="mi">211</span><span class="p">,</span>  <span class="n">ylabel</span><span class="o">=</span><span class="s">&#39;Price in $&#39;</span><span class="p">)</span>
<span class="n">data</span><span class="p">[</span><span class="s">&#39;AAPL&#39;</span><span class="p">]</span><span class="o">.</span><span class="n">plot</span><span class="p">(</span><span class="n">ax</span><span class="o">=</span><span class="n">ax1</span><span class="p">,</span> <span class="n">color</span><span class="o">=</span><span class="s">&#39;r&#39;</span><span class="p">,</span> <span class="n">lw</span><span class="o">=</span><span class="mf">2.</span><span class="p">)</span>
<span class="n">perf</span><span class="p">[[</span><span class="s">&#39;short_mavg&#39;</span><span class="p">,</span> <span class="s">&#39;long_mavg&#39;</span><span class="p">]]</span><span class="o">.</span><span class="n">plot</span><span class="p">(</span><span class="n">ax</span><span class="o">=</span><span class="n">ax1</span><span class="p">,</span> <span class="n">lw</span><span class="o">=</span><span class="mf">2.</span><span class="p">)</span>

<span class="n">ax1</span><span class="o">.</span><span class="n">plot</span><span class="p">(</span><span class="n">perf</span><span class="o">.</span><span class="n">ix</span><span class="p">[</span><span class="n">perf</span><span class="o">.</span><span class="n">buy</span><span class="p">]</span><span class="o">.</span><span class="n">index</span><span class="p">,</span> <span class="n">perf</span><span class="o">.</span><span class="n">short_mavg</span><span class="p">[</span><span class="n">perf</span><span class="o">.</span><span class="n">buy</span><span class="p">],</span>
         <span class="s">&#39;^&#39;</span><span class="p">,</span> <span class="n">markersize</span><span class="o">=</span><span class="mi">10</span><span class="p">,</span> <span class="n">color</span><span class="o">=</span><span class="s">&#39;m&#39;</span><span class="p">)</span>
<span class="n">ax1</span><span class="o">.</span><span class="n">plot</span><span class="p">(</span><span class="n">perf</span><span class="o">.</span><span class="n">ix</span><span class="p">[</span><span class="n">perf</span><span class="o">.</span><span class="n">sell</span><span class="p">]</span><span class="o">.</span><span class="n">index</span><span class="p">,</span> <span class="n">perf</span><span class="o">.</span><span class="n">short_mavg</span><span class="p">[</span><span class="n">perf</span><span class="o">.</span><span class="n">sell</span><span class="p">],</span>
         <span class="s">&#39;v&#39;</span><span class="p">,</span> <span class="n">markersize</span><span class="o">=</span><span class="mi">10</span><span class="p">,</span> <span class="n">color</span><span class="o">=</span><span class="s">&#39;k&#39;</span><span class="p">)</span>

<span class="n">ax2</span> <span class="o">=</span> <span class="n">fig</span><span class="o">.</span><span class="n">add_subplot</span><span class="p">(</span><span class="mi">212</span><span class="p">,</span> <span class="n">ylabel</span><span class="o">=</span><span class="s">&#39;Portfolio value in $&#39;</span><span class="p">)</span>
<span class="n">perf</span><span class="o">.</span><span class="n">portfolio_value</span><span class="o">.</span><span class="n">plot</span><span class="p">(</span><span class="n">ax</span><span class="o">=</span><span class="n">ax2</span><span class="p">,</span> <span class="n">lw</span><span class="o">=</span><span class="mf">2.</span><span class="p">)</span>

<span class="n">ax2</span><span class="o">.</span><span class="n">plot</span><span class="p">(</span><span class="n">perf</span><span class="o">.</span><span class="n">ix</span><span class="p">[</span><span class="n">perf</span><span class="o">.</span><span class="n">buy</span><span class="p">]</span><span class="o">.</span><span class="n">index</span><span class="p">,</span> <span class="n">perf</span><span class="o">.</span><span class="n">portfolio_value</span><span class="p">[</span><span class="n">perf</span><span class="o">.</span><span class="n">buy</span><span class="p">],</span>
         <span class="s">&#39;^&#39;</span><span class="p">,</span> <span class="n">markersize</span><span class="o">=</span><span class="mi">10</span><span class="p">,</span> <span class="n">color</span><span class="o">=</span><span class="s">&#39;m&#39;</span><span class="p">)</span>
<span class="n">ax2</span><span class="o">.</span><span class="n">plot</span><span class="p">(</span><span class="n">perf</span><span class="o">.</span><span class="n">ix</span><span class="p">[</span><span class="n">perf</span><span class="o">.</span><span class="n">sell</span><span class="p">]</span><span class="o">.</span><span class="n">index</span><span class="p">,</span> <span class="n">perf</span><span class="o">.</span><span class="n">portfolio_value</span><span class="p">[</span><span class="n">perf</span><span class="o">.</span><span class="n">sell</span><span class="p">],</span>
         <span class="s">&#39;v&#39;</span><span class="p">,</span> <span class="n">markersize</span><span class="o">=</span><span class="mi">10</span><span class="p">,</span> <span class="n">color</span><span class="o">=</span><span class="s">&#39;k&#39;</span><span class="p">)</span>

<span class="n">plt</span><span class="o">.</span><span class="n">legend</span><span class="p">(</span><span class="n">loc</span><span class="o">=</span><span class="mi">0</span><span class="p">)</span>
<span class="n">plt</span><span class="o">.</span><span class="n">gcf</span><span class="p">()</span><span class="o">.</span><span class="n">set_size_inches</span><span class="p">(</span><span class="mi">14</span><span class="p">,</span> <span class="mi">10</span><span class="p">)</span>
</pre></div>

</div>
</div>
</div>

<div class="output_wrapper">
<div class="output">


<div class="output_area"><div class="prompt"></div>


<div class="output_png output_subarea ">
<img src="data:image/png;base64,iVBORw0KGgoAAAANSUhEUgAAA1IAAAIhCAYAAABE54vcAAAABHNCSVQICAgIfAhkiAAAAAlwSFlz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=
"
>
</div>

</div>

</div>
</div>

</div>
<div class="cell border-box-sizing text_cell rendered">
<div class="prompt input_prompt">
</div>
<div class="inner_cell">
<div class="text_cell_render border-box-sizing rendered_html">
<h2 id="mean-reversion-strategies">Mean-reversion strategies</h2>
<p>Idea: If stock (or combination of stocks as in pairtrading) always revert back to its mean, we can long (short) the stock if it decreases (increases) from its mean.</p>
</div>
</div>
</div>
<div class="cell border-box-sizing text_cell rendered">
<div class="prompt input_prompt">
</div>
<div class="inner_cell">
<div class="text_cell_render border-box-sizing rendered_html">
<p>Load stocks that are correlated (and hopefully cointegrated, which means that a linear combination of them will be mean-reverting).</p>
<p>Coca-Cola (KO) and Pepsi (PEP) is a good example as they are both in the same market segment and are both likely to be affected by the same events (e.g. increase of price of corn syrup).</p>
</div>
</div>
</div>
<div class="cell border-box-sizing code_cell rendered">
<div class="input">
<div class="prompt input_prompt">In&nbsp;[10]:</div>
<div class="inner_cell">
    <div class="input_area">
<div class="highlight"><pre><span class="n">start</span> <span class="o">=</span> <span class="n">datetime</span><span class="p">(</span><span class="mi">1997</span><span class="p">,</span> <span class="mi">1</span><span class="p">,</span> <span class="mi">1</span><span class="p">,</span> <span class="mi">0</span><span class="p">,</span> <span class="mi">0</span><span class="p">,</span> <span class="mi">0</span><span class="p">,</span> <span class="mi">0</span><span class="p">,</span> <span class="n">pytz</span><span class="o">.</span><span class="n">utc</span><span class="p">)</span>
<span class="n">end</span> <span class="o">=</span> <span class="n">datetime</span><span class="p">(</span><span class="mi">1998</span><span class="p">,</span> <span class="mi">6</span><span class="p">,</span> <span class="mi">1</span><span class="p">,</span> <span class="mi">0</span><span class="p">,</span> <span class="mi">0</span><span class="p">,</span> <span class="mi">0</span><span class="p">,</span> <span class="mi">0</span><span class="p">,</span> <span class="n">pytz</span><span class="o">.</span><span class="n">utc</span><span class="p">)</span>
<span class="n">data</span> <span class="o">=</span> <span class="n">zp</span><span class="o">.</span><span class="n">utils</span><span class="o">.</span><span class="n">factory</span><span class="o">.</span><span class="n">load_from_yahoo</span><span class="p">(</span><span class="n">stocks</span><span class="o">=</span><span class="p">[</span><span class="s">&#39;PEP&#39;</span><span class="p">,</span> <span class="s">&#39;KO&#39;</span><span class="p">],</span> <span class="n">indexes</span><span class="o">=</span><span class="p">{},</span>
                                        <span class="n">start</span><span class="o">=</span><span class="n">start</span><span class="p">,</span> <span class="n">end</span><span class="o">=</span><span class="n">end</span><span class="p">,</span> <span class="n">adjusted</span><span class="o">=</span><span class="bp">True</span><span class="p">)</span>
</pre></div>

</div>
</div>
</div>

<div class="output_wrapper">
<div class="output">


<div class="output_area"><div class="prompt"></div>
<div class="output_subarea output_stream output_stdout output_text">
<pre>
PEP
KO

</pre>
</div>
</div>

</div>
</div>

</div>
<div class="cell border-box-sizing text_cell rendered">
<div class="prompt input_prompt">
</div>
<div class="inner_cell">
<div class="text_cell_render border-box-sizing rendered_html">
<p>The idea is that while neither stock price is mean-reverting, a linear combination of them will be.</p>
</div>
</div>
</div>
<div class="cell border-box-sizing code_cell rendered">
<div class="input">
<div class="prompt input_prompt">In&nbsp;[11]:</div>
<div class="inner_cell">
    <div class="input_area">
<div class="highlight"><pre><span class="n">data</span><span class="p">[[</span><span class="s">&#39;PEP&#39;</span><span class="p">,</span> <span class="s">&#39;KO&#39;</span><span class="p">]]</span><span class="o">.</span><span class="n">plot</span><span class="p">()</span>
<span class="n">plt</span><span class="o">.</span><span class="n">ylabel</span><span class="p">(</span><span class="s">&#39;price&#39;</span><span class="p">)</span>

<span class="n">plt</span><span class="o">.</span><span class="n">figure</span><span class="p">()</span>
<span class="n">integrated</span> <span class="o">=</span> <span class="n">data</span><span class="o">.</span><span class="n">PEP</span> <span class="o">-</span> <span class="n">data</span><span class="o">.</span><span class="n">KO</span>
<span class="n">integrated</span><span class="o">.</span><span class="n">plot</span><span class="p">()</span>
<span class="n">plt</span><span class="o">.</span><span class="n">ylabel</span><span class="p">(</span><span class="s">&#39;combined price&#39;</span><span class="p">)</span>
<span class="n">plt</span><span class="o">.</span><span class="n">axhline</span><span class="p">(</span><span class="n">integrated</span><span class="o">.</span><span class="n">mean</span><span class="p">())</span>
</pre></div>

</div>
</div>
</div>

<div class="output_wrapper">
<div class="output">


<div class="output_area"><div class="prompt output_prompt">Out[11]:</div>


<div class="output_text output_subarea output_pyout">
<pre>
&lt;matplotlib.lines.Line2D at 0xeb3fe6c&gt;
</pre>
</div>

</div>

<div class="output_area"><div class="prompt"></div>


<div class="output_png output_subarea ">
<img src="data:image/png;base64,iVBORw0KGgoAAAANSUhEUgAAAXsAAAENCAYAAADuRcXXAAAABHNCSVQICAgIfAhkiAAAAAlwSFlz
AAALEgAACxIB0t1+/AAAIABJREFUeJzsnXdYVNfWxt8ZRATpXVBBrDSFRMWCcSzYkqgxxmhirOmJ
XpNoot9NtxtzjRpz1eTGGJMboyY3JBo7IDYEBSyInd5777O/P5ZnCgzTmIEjnN/z8MBp+7znzLDO
OmuvvbaIMcYgICAgINCuEbe1AAEBAQEB4yMYewEBAYEOgGDsBQQEBDoAgrEXEBAQ6AAIxl5AQECg
AyAYewEBAYEOgNGMfXV1NYKCghAQEAAfHx+sWrVKafuXX34JsViMwsJCY0kQEBAQEHhIJ2M13KVL
F4SHh8PCwgL19fUIDg7GuXPnEBwcjLS0NJw8eRIeHh7GOr2AgICAgAJGDeNYWFgAAGpra9HQ0AB7
e3sAwLvvvotNmzYZ89QCAgICAgoY1dhLpVIEBATAxcUFY8aMgY+PD0JDQ9G9e3cMHDjQmKcWEBAQ
EFDAaGEcABCLxYiPj0dJSQkmTpyIv//+G+vXr8eJEydk+zRXrUEkEhlTmoCAgEC7pDmb2irZODY2
NnjyyScRGxuLpKQkDBo0CL169UJ6ejoef/xx5ObmqjyOMWaQn/nz5xusLUP+8FWXoK99axP0tV9t
6jCasc/Pz0dxcTEAoKqqCidPnsTw4cORk5ODpKQkJCUloXv37oiNjYWzs7OxZAAAPD09jdq+vvBV
F4egT3/4rA0Q9LUEPmtTh9HCOFlZWZg/fz6kUimkUileeukljBs3TmkfIVQjICAg0DoYzdj7+/sj
NjZW7T4PHjww1umVsLW1bZXz6ApfdXEI+vSHz9oAQV9L4LM2dXSIEbQBAQFtLUElfNXFIejTHz5r
AwR9LYHP2tQhYpqi+m2ESCRS2eFgb2+PoqKiNlDU9tjZ2QkjjgUEBJqlObsJPILGXt3FtHc68rUL
CAhoRp2N6BBhHAH9iIiIaGsJauGzPj5rAwR9LYHP2tQhGHsBAQGBDoAQxnmE6MjXLiAgoBkhjCMg
ICDQwRGMvYHw9PSEhYUFrKys4OrqioULF6KiogISiQTm5uawsrKS/UybNg0Axf7EYjGsrKxgbW2N
AQMG4IcffmjbC1GA77FJPuvjszZA0NcS+KxNHYKxNxAikQiHDx9GWVkZYmNjcfnyZaxZswYikQg7
duxAWVmZ7Cc0NFR2nLu7O8rKylBaWoqNGzfilVdeQWJiYhteiYCAQHtEMPZGwM3NDZMnT8aNGzd0
Om7atGmws7PjjbGXSCRtLUEtfNbHZ22AoK8l8FmbOgRjb0C4jpG0tDT8/fffeOyxx5TWq0MqleJ/
//sfiouL4e/vb1SdAgICHY92Z+xFIsP86ApjDNOnT4ednR1GjRoFiUSCVatWgTGGpUuXws7OTvbz
ySefyI7LzMyEnZ0dnJycsHr1avz000/o27evAe+I/vA9NslnfXzWBgj6WgKftanDqJOXtAVtlZko
EokQGhqKsWPHNlm/fft2LFq0SOVxbm5uSEtLaw2JAgICBqCiAigqAuzs2lqJbrQ7z17AcPA9Nsln
fXzWBgj6WkJUlARr17a1Ct1pd549HxEGQgkItB/u3gXq6tpahe4Inn0r8Pbbbyvl2Q8ZMkS2jc8T
uPA9NslnfXzWBgj6WkJ8fASSk9tahe4Y1bOvrq7G6NGjUVNTg9raWkybNg3r16/HihUrcPjwYXTu
3Bm9e/fGnj17YGNjY0wpRicpKUnl+vDw8GaPkUgkSE1NNZYkAQEBI5CVBZiatrUK3TF6bZzKykpY
WFigvr4ewcHB2Lx5M6qqqjBu3DiIxWKsXLkSALBhwwZlYUJtnCZ05GsXEOADJSWAuzsglQK5uYCl
pXbHHT9OoZ+nnjKuvjatjWNhYQEAqK2tRUNDA+zt7RESEgKxmE4dFBSE9PR0Y8sQEBAQaDEPHgC9
ewM9ewIpKdof98MPwP/+ZzRZWmF0Yy+VShEQEAAXFxeMGTMGPj4+Stu///57TJkyxdgyBPSAz3FT
gN/6+KwNEPTpy4MHgLV1BDw9dTP2Fy6gzeP8Rs/GEYvFiI+PR0lJCSZOnIiIiAhZWtXatWvRuXNn
vPDCCyqPXbBgATw9PQHQJL+P6tyPxoD7Z+DupTGW4+Pjjdp+e9YXHx/PKz2CPsMsP3ggQbduQFVV
BE6cAKZM0Xx8Tg6QlhbxMIPHsHq4v5O1eJK0aj371atXw9zcHMuXL8cPP/yAb7/9FqdPn0aXLl2a
ChNi9k3oyNcuIMAHXn8dGDiQYvfFxcDGjZqPuXkTePppID0dqKwETEyMp6/NYvb5+fkoLi4GAFRV
VeHkyZMIDAzEsWPH8MUXXyA0NFSloRcQEBDgIw8eAF5egIeH9mGZykoabevkBLTlYHmjGvusrCyM
HTsWAQEBCAoKwtNPP41x48ZhyZIlKC8vR0hICAIDA/Hmm28aU4aAnvA1bsrBZ3181gYI+hozbx6w
Zo3m/bKygIwM3WL2lZWAhQUQHAz8/XeLZLYIo8bs/f39ERsb22T93bt3jXlaAQEBAZ3Ytw944gng
ww/V75efD9jY6O7ZW1gACxYAH38MtJVvK8xB+wjRka9dQMBYJCcDvXoBixYB//lP8/sxBpiZAWVl
NKjKwoLi9poi0b//Dvz0E3DwID0kjh8HfH0NegkyhDloWwFPT0+cPn1atrx//37Y29sjMjIShw8f
xtChQ2FpaQlHR0fMnTsXGRkZbahWQECA46OPgH79qNO1MfPmAadO0d9lZWTszcwAsRjo3h3QZgA8
59mbmFB7e/YYVr+2CMbeQIhEIlmdm7179+Ltt9/G33//jdzcXLz44ot49913UVBQgISEBJiZmSE4
OFjWec1XhLiu/vBZGyDo47h0CQgLA774AigsVL2dq4RSUAA4OMi1eXpqF8rhjD1AoZyffmqbQmqC
sTcgjDHs2rULy5cvx4kTJxAUFIT33nsPH330EWbPng0zMzO4uLjgu+++g6WlJbZs2dLWkgUEOiyf
fgrMmgWsW0cjYgsKyBCHhdH2ujrKvsnPp+X8fMDRUX68h4d2nbSKxr5fP3ozaIuiAYKxNyDffPMN
PvnkE4SFheGxxx7D7du3kZaWhueee05pP5FIhGeffRYnT55sI6XawQ3g4Ct81sdnbYCgDwA++wxw
cQFeegmwtyfP/sQJKm0AkEdfX08PAUDu2XPa9PHsATL2beHZt7t69qLPDFMymH2iW0coYwynTp3C
2LFj4efnB4DGGQBAt27dmuzv6uoq2y4gIND6+PoC339P8XfO2BcXA1euUGfs7du0X34+GectWygT
h8PDgx4Ommhs7Dt3BmprDXst2tDujL2uRtpQiEQi7Ny5E6tXr8bLL7+M//znP3B8+M6XlZUFDw8P
pf2zsrLg5OTUFlK1JkKhtAUf4bM+PmsDBH0AUFNDhhcAunYlg56dDWRmkqG/fZuydAoKgJ9/JsO+
dKlcmy6evb29fNnUVIjZP/K4uLjg9OnTOHv2LN58800MGDAA3bt3x4EDB5T2k0ql+O233zBu3Lg2
UiogIFBTQyEVABCJKETz4AHw+OPA6dNk7EeOBHJygPXrKZa/dav8eH1i9kDbefaCsTcw3bp1w+nT
p3Hs2DG8++672Lx5M9asWYNffvkF1dXVyM7Oxssvv4zy8nK88847bS1XLXz2/AB+6+OzNkDQB5DB
5Yw9QPH7ggLg2WfJ2N+5A4wYAcTEUMcsJ4nT5u5ODwJNhruxsRc8+3ZEjx49EBYWhkOHDuHq1avY
t28ftmzZAkdHR/j6+qKmpgbnz5+H3aM2Pb2AQDtCMYwDkPEGgBkzgPBwKmA2YgSt+/BD8v4V6dQJ
6NGD3gbUIXj27YykpCSMHTtWtuzp6YnU1FSsXbsWU6dORXR0NMrLy1FQUICff/4Z7tw3i8cIudj6
w2dtgKAPaOrZu7lRZ23fvtRRm58P+PsDO3cCkyap1jZ0KBAVpf48gmcvICAg0IY09uzd3CjbRiwG
fvmFjLhYDLz2WlOvnmP4cJqYRB188eyF2jiPEB352gUEDElDA3nYDQ1yQ75rF9Wn1xSWUeTWLWDU
KODYMerYbYxUSh25J08CAwbQuhkzgLlz6behEWrjCAgICCjAhXAUPXZ3d6o7rwsDBgCffw6sXt10
W2kpsHs3pV1yhh4QYvZaY2dnJ6tD09F+WrtDV4jr6g+ftQGCvsYhHIA6Y5cv13xsY23z5gFnz8qL
ooWEAFOnUljo4EHgyy+Vjxdi9lpSWFgIxphOP+Hh4Tof0xo/uuoqVFWpSUBAQGcUc+w57O2BOXN0
b6trV+DFF8mLB6hK5l9/UY3806eB8eOV9xdi9o0Q4tMCAgLGIi2NPHlDTROYmAiMHUsjart0Ie/+
8OGmbw8AzWMbEEC/DU2bxOyrq6sRFBSEgIAA+Pj4YNWqVQDIMw8JCUG/fv0wYcIE3pf5FRAQaH+o
CuO0BG9v+tm5kwZgnTjRfPvG8uxv3VK/3WjGvkuXLggPD0d8fDyuXbuG8PBwnDt3Dhs2bEBISAju
3LmDcePGYcOGDcaSIIOv8Um+6uIQ9OkPn7UBgr7GOfa60Jy2N98Eli2japjqMFbM/o8/1G83asze
4mFyaW1tLRoaGmBnZ4c///wT8+fPBwDMnz8ff2hSKCAgIGBgDO3ZA8C0acDMmRS/V4exPPvQUPXb
jVr1UiqV4rHHHsP9+/fxxhtvwNfXFzk5OXBxcQFAhcNycnKaPX7BggXwfPiYtLW1RUBAgKwuBfd0
1WZZIpHotH9rLnPwRY+gzzDL3Dq+6BH0KS9fvBiBmhoA0P14iRp7cvCg5uNNTYE7dyIQEdHy60lJ
AY4fj0BDQzJiY6GWVumgLSkpwcSJE7F+/XrMmDEDRUVFsm329vYqs0yEDloBAQFjERlJ9W4iI1v/
3GvW0JuFqtx8XfnqKyAiApgyher57N/fxoOqbGxs8OSTT+LKlStwcXFBdnY2AKrp7uzsbPTzN/YC
+QJfdXEI+vSHz9oAQV9Lwjgt1WZqargwTnY2kJFBIZxp09TvazRjn5+fL8u0qaqqwsmTJxEYGIip
U6di7969AGhi7unTpxtLgoCAgIBKWtJB21IM2UGbnU3lHc6eBSZPVr+v0cI4169fx/z58yGVSiGV
SvHSSy9hxYoVKCwsxKxZs5CamgpPT08cOHAAtra2TYUJYRwBAQEj8fvvNLn477+3/rm//prSJL/+
uuVtTZoEHD9OdXkuX1ZvN43WQevv749YFT0G9vb2OHXqlLFOKyAgIKARY2TjaIuhPXsACAzUvO8j
Vy5BH/gan+SrLg5Bn/7wWRsg6DNGnr22dG5B6qWnJ6CQ34LsbKBbN8HYCwgICKhEVW2c1qIlnn1K
ChAXR39XVgKFhcD//Z/meD0g1MYREBDogGzfThOKGyJurisHDgCHDtFvXRGJgG+/BV5+Gfj0U4r9
79+vuF2oZy8gICAgIz4e6Nevbc6tyrNfsQI4d079cVIp/b57lwq4bd8ObNqk/Xk7hLHna3ySr7o4
BH36w2dtQMfWxxhw9CgNRNIHY8Tso6KAO3fUH0cjfoGrV4GVK4G33gJ69tT+vEYtlyAgICDANzIy
yEvu06dtzq/Ks8/Jofi7OmpqKIwTFQVYWtI0irogxOwFBAQ6FHFxwMKFFMppCyIiKN6u+IJga0ue
+tq1zR+XkwP4+wNLlwJ+foCq8ahCzF5AgOeUlhpnAmqBpuTlUc35tsLCAigvp1GvjJHHXlKinFKp
iupqmhjlww9VG3pNdAhjz9f4JF91cQj69EdXbVlZNIVda8HnewcYV19+PuDkpP/xLdU2YADNbDVm
DJCQAOTm0npNxr6l6aIdwtgLCPCdoiLy9oTIpfHJy2uZsW8p1taAiwvQ0ABcvNi8sa+qUl4WjL0W
KNbI5hN81cUh6NMfXbUVF1OnYXW1cfQ0hs/3DjCuvpaEcaRMCou+Fi3WMGgQ4OAAfP89pVDa2Ch3
0KakUHxeEcHYCwg8IjBGIQRVcFMxV1S0np6OSkvCOGFJYRj34zg0SBtapGHlSipLPGEC0KMH1bZX
9OyTkqiaJZduCQjGXiv4Gp/kqy4OQZ/+qNJ29Cjg60udsY3hjH15uXF1cfD53gHG1dcSz/7P23+i
/E45bubdbJGGoCBg5Ejgs8/I0D//vLKxz8wk5yA1Vb5OMPYCAo8IMTFk6FWl17W2se/IpKcDbm76
HRuVHgV3K3dEZ0QbVJOdHX0HuD6bjAz6LZHI3wYFY68FfI1P8lUXh6BPfxprW7aMcqs3bAC++w64
f195/9YO4/D53gHG0yeVAjdvAj4++h1fVluGOU/PwZG7Rwyqy9SURtZWVtJyZqb8NzeyVjD2AgKP
AGfO0O+nnwbefZde3xURPPvWITWVOkPt7PQ7vry2HPMGzkNYUhgKKgsMqs3amvLtATLy1tb0N1da
gcuz1xejGfu0tDSMGTMGvr6+8PPzw7Zt2wAA0dHRGDp0KAIDAzFkyBDExMQYS4IMvsYn+aqLQ9Cn
P4211dRQmp2XFzBzJg2oUYSL1woxe8JY+m7coNGn+lJeW46k+CRM7jsZvyb8ajhhoIfQ7dvA5s3k
HBw/TvV7uO9ETQ2Q4rQTNfU16htqBqMZe1NTU2zZsgUJCQmIiorCjh07kJiYiPfffx+rV69GXFwc
Pv/8c7z//vvGkiAgwAsaGii7YuBAWu7bl+Kwih1yxcU0ZF7IxjEuLTX2FbUVMO9kjnkD52Hv1b2G
Ewby5GfMAKKjgX37gGHDACsroKyMtldXM1xyegMHElTXRtZUXsZoxt7V1RUBAQEAAEtLS3h7eyMj
IwPdunVDycN3leLiYri7uxtLggy+xif5qotD0Kc/itrS0ymn2uJherZYTIZfsTbLzZs021BrefZ8
vneA8fS1xNjXNtSCgWH82PEI6R2C1JJU3Mq/ZTBtNjb00P/kEyAkhNZZWsq/E8XVZDf3J+xXefz5
tPNq22+VqpfJycmIi4vDsGHD0LdvXwQHB2P58uWQSqW4ePFis8ctWLAAnp6eAABbW1sEBATIvgTc
a56wLCzzfTkrC7CyikBEhHy7pWUEjh0DxoyRIDUVKC+PgIMDUF7e9nrb8/KNGxIsW6bf8WU1ZbDs
bAmRSIRzZ85BAgm2R2/Hjik7DKKPcuolcHaWb7e0lKC8nJbjb6bDrJsNzqWeQ1hYGMRisezY5ORk
jcYezMiUlZWxxx9/nP3vf/9jjDE2btw49vvvvzPGGDtw4AAbP368yuMMKS08PNxgbRkSvuriEPTp
j6K2U6cYGzNGefuSJYx99RX9/csvjE2fztiHHzL2+eetr4+PGENfXR1jXbowVl6u3/GpxanM/Ut3
mba8ijxmt8GOZZVlGUTfggWMicWM1dfL1/3zn/LvxKurzzO3j4exAV8PYHFZcbJ9dsbsZNeyrzHb
DbZq7aZRs3Hq6urw7LPPYu7cuZj+sExbdHQ0nnnmGQDAzJkzER1t2HxVAQG+UVkpD+Fw2NjIMy8u
XABGjKBXdi4+K2B47t0D3N2Brl31O768thyWnS1ly44WjhjkOgjXc64bRJ+NDY3sNTGRr1MM4xTV
5sJK7IQxnmNw5I489XPt2bWY/dtsjPEco7Z9oxl7xhgWL14MHx8fLFu2TLa+T58+OPMwDy0sLAz9
WmFuMO5ViW/wVReHoE9/FLVpMvbnz9NoSicnGt3Z2vr4iDH0tbRzNqciB5adLZW0DXAcgLn/m4tV
p1e1WJ+1NeDsrLxO0diX1ufBSuyMxYGL8V3cd2iQNiCrLAtppWm4mXcTiwMXq23faDH78+fP46ef
fsLAgQMRGBgIAFi3bh12796Nt956CzU1NTA3N8fu3buNJUFAgBdUVDT1Jq2tKc2uvJwmjX7sMRpd
y42cFDA8LTH22eXZGLN3DJ7weEJpvbejN3IrcvHtlW8x1nMsQnqH6K3PxkaDsW/Ig42pEx53exwO
5g44cf8EahtqMaz7MPSw7oGJfSaqbd9onn1wcDCkUini4+MRFxeHuLg4TJ48GYMHD8alS5cQHx+P
ixcvyh4ExoTr7OAbfNXFIejTH0Vt6jz7mBiqgNilCw3h50ZOtqY+PmIMfYmJ+o+cvVtwFwBQWlOq
pM3HyQd97Ptg/8z9WBC6APmVzVS60wJ7+6ZlHDhjX1sL3EzNQV83quD2+uDXsfPKTlzNuQqJpwQH
njuATmL1vrswglZAwMhUVjb17Dljf+EChXAAiicb0rPftKnpXKcdmcJC/QugPSh6AABIL01XWj+2
11iEzw/HeK/xmOM3B9P2T2s2D14Ts2cD//oX/d0gbUB8djwyEI3S8nq8+y7QqXs8nhlJryaz/Wbj
bMpZnLh/Ar5Ovlq13yGMPV/jk3zVxSHo0x9FbRUVTT17bmh8dDRVQATIs6uqktdHaQmZmcAHH9B8
q5r08RFj6CsrI09ZHYVVhaisa/oBPCgmY59fma+kTSwSo7t1dwDA2rFU4W5N5Bq99Jmbyx9GB28e
xLDvhuH/bo1HZNIFnAqrR41dLIa6DwUAWHa2xBz/OTifdl4w9gICbUFVlfIkFEDzYZzSUqrV0qsX
rROJgG7dDBPK4YavXLigentODjB3bsvPoy+tUCWlCeXlNCJVHR+GfYgvzn/RZP2Dogfo0qkLxvYa
2+yxZp3M8N8Z/0VhVWGz+2gDYwxfXvwSXTt3RWVDGTp1u4l/7jqH7jbdYdvFVrbf64+/DhORCfo7
9teq3Q5h7Pkan+SrLg5Bn+7861/AkiVNY/bNhXEyMih8w+HlRSmCAPD118B+1YMlNRIeTnOdqjL2
p08D8+ZFYP9+5ckxWou8PHqbUReyMsZnW1am2dgXVhXi+P3jTdY/KHqA43OP4/S802q1dbfujvzK
fFTX6z/l2NnUsyipLsGeaXsg8ZRg3GvHsDLmRawft15pP38Xf9x++zYsTLWbOatDGHsBgdbiyBEg
NlZ5XXNhnLw8Gh6vmIERECAPvSxZArz9tu4aMjKAX34Bdu6ktM7GJVO+/RY4cYJq9ty9q3v7LeXI
EdKUltY656uvp/OVl2sO45TUlCA6IxrF1cVK6x8UPYCXnZfGc5mITdDDpgfuFNxBUZWGGcSb4cuL
X+KdYe9gav+pWBW8Cn/dDcXy4csxfcD0Jvv2tu+tdbsdwtjzNT7JV10cgj7dKCig9L6UFGDoUIls
vSrP3tKSOk+7dKFaORyBgco1c7jytrpw7RowZAjwxBNk0BVnO5JKybMHJDAxARISdG+/pfz5J9Vl
V9TVGEN+tosWAT/+qJ1nX1JdAiszK4QnhcvWVdZVoqiqCG5Wblpp87LzwprINZj3xzydtd4puIOL
aRcxP2A+ACC4ZzB+nP4jlg1bpuFIzXQIYy8g0BqcOEEzCw0YQEafQ1XMXiymUE7jEbODBpGx5lA0
9q+/DgQHA88+27yGdetoAms7O+oDGDFCOZRz7Rp1BA8dCjzzDPDTT/RAaC2qq+lh89xzrefZX7xI
nw2gefKP0ppSTOs/DScfnAQA/HHrD1xIuwBPW0+IRdqZS1dLV1zNuYrTD06jqq5KJ63bLm3Da4Nf
k4VmLEwt8NKglyASiXRqRxUdwtjzMbYL8FcXh6BPN44eBSZPJoP9668RsvWqwjgAMGsWzU6kSPfu
QFaWfJkz9qmpFJo5fx74/ffmNRw4QPvYPuzHGzGCaudzD5VTp4Dx44ENGyKwbx+9hXATq7QG4eFU
8TMwUL1nb6jPtrSUZgU7cUJzCAegMM5Mn5k4cf8EkoqS8Myvz2D9ufVKIRxN2hwtHPGg6AGq6qsQ
nhze7H7F1cVYd3YdFv+5WNYpfPz+cTzv+7xW16YrHcLYCwgYG6kUOHaMjH1AgLyTFVAdxgGAb74B
cnOV19na0v41NeT9c/H2b76hcERKCrWlqnR5Xh5w9SoZOM7YjxwJ/Pvf5EkDwMmTVD5XJKIQ0tSp
XFindfjrLzpnz56t018QG0ujk/Pz6Zo1UVpTipE9RiKzLBMjvh8BU7EprudcRy+7Xlqf09HcEfXS
evS174u/7/7d7H7rzq7DmZQzGOo2FD9c/QGzDs5CZlkmBjgO0PpcOqFNNbakpCR28uRJxhhjFRUV
rKSkROeKbrqipTQBAV4QHc2Ytzf9HR7O2IgR8m2+voxdu6Z9W+7ujKWmUoVGgLGKCsYcHRm7e5e2
u7gwlpbW9Lj9+xkzM6NjNm6kddXVtGxpyVh+Pv0uKpIfExbGWFCQTpeqN1IpXdutW6TBxYWxq1fl
22trGduzx7DnnD+fsfXr6R5oMikN0gYm/kzM6hvq2St/vsJmH5rNtkVtY/gUbPP5zVqfc9flXQyf
gn0e8Tnz/MqTVdVVsb3xe5vs57TJid0ruMcYY6ykuoThUzB82jK7p85uavTsd+/ejeeeew6vvfYa
ACA9PV1WtVJAQIC4dAkYNYr+5uLuUillnpSWynPptcHZmTx+LsTz3//SrEV9+tBy//5UV6cxp0/T
mwUg9+zNzMjMjRoFTJgA+PrKtwHA8OHUScsVZTMmcXEUzurfnzTMnElhHY6EBOCNN1S/tejKpEn0
GYSGAq+8QuMXNFFWU4aupl1hIjbB7qd345dnf0EPmx4AoFUmDoejBY2MGu05Gg3SBuy/sR9v/f2W
0kxSDdIGFFQVwNPWEwBgbWaNMwvO4KdnftL+InVEo7HfsWMHzp07B+uHs9/269cPuY3fPXkO32K7
HHzVxSHo057bt6ljFqDO0a5dIxAZCSxeDPz8s3bxYo7Gxv7cOWDaNPl2dcb++YfhXkWDDlAs/803
gU8/pWXu3nXpQg8SfW/lJ59QJ68mxo4F9uwBnnpKvq5XLyA5Wb6cmEgduKWlLftsS0tp/tb58+mB
4uAAuLpqcVxNKWy62Citc7eiQRC6xuwBwMHcAU/2exLbo7ejvLYceZXykqYlNSWw6mwFE7G8nvET
Hk/gxYEvahaqJxqNvZmZGcwUurDr6+sN0jMsINCeuH2bjDCHlxcwZgzlyXMev7a4uNAIV+7frriY
DBZHv34nuIR1AAAgAElEQVTAnTvKxyQnUx756NG03NjYW1rSg2fSpKbnGzdO/7j9558D//iHfLmi
gt5oFImLIw/+yBF6s+Dw9KS5eTkSE+l3djalpTY34KuhQf1cvVw78fE0VgEAvL01X0tJTQmszayV
1rlbk7HXJWbvYE4flr25PUK8QhCbRQMv7hfel+1TVFUEe3N7rds0BBqN/ejRo7F27VpUVlbi5MmT
eO655/D000+3hjaDwbd8bA6+6uIQ9GlPY2Pv6ysBAKzSo8w559mbmtIyNxk5hyrP/vRpMtrcQ8HO
Tv05FO9dS4x9ly7y8hCM0QPu6FHlff76i34nJSmHUzw96SGVnU1e/82btD47G9i7V4ING1Sf8+BB
5Tedxty8Samlb7whn+R9586mD8jGnE05CycLJ6V1rpau2DJxi9JDQNP3jvPs7c3tMbIHVbkTi8S4
X6Rg7KuLYGeu4UMyMBqN/YYNG+Dk5AR/f3/s2rULU6ZMwZo1+hX6ERAwBnV1bVvdMTcXKCoCPDzk
67Zto3CC4qxD2uLiohzGKSpSNt6qjH1CAqUzdu5Mo3Mbe/bqeOwxGnWrz8QpD6eIBkBF3WJiKPNF
EcVaQYrhlF69yAv386MxBOfOkQd++DCFvhq3w5GYCISFNV9u4fZt4OmnKYOJw8oK6NtX/bWsObsG
X4Qo18URi8Q6D2hytHDEP4L+AbNOZnCxdEF/h/4Y3n24rHImQGUZ7LrwzNhXV1dj8eLFOHToEA4d
OoRFixahqkq3gQJtDZ9iu4rwVRfHo6Jv/Xpg48a20xEaSh2jnRTKiV+6FKFxtGZzODtTGIcLh2Rn
KxtvLy8yoNnZ8nWZmfIaO2vWUGqjOhQ/WxMTajMlRXetLi70OyMD2LGDOmBLS5X3KSoCej8c1a9o
7O3sgI8/pkFfQUHUSSyRUH0hP7+IJu1w3LtHA9J+/VX1dn1LGRdWFcLXWXMFSU3/FyZiE3w16SvZ
8ul5p7EwYKGyZ1/FQ89+7NixSsa9srIS48eP19hwWloaxowZA19fX/j5+WHbtm2ybdu3b4e3tzf8
/PzwwQcf6CldQIBITVXOa29tTp0CnnzScO1xYRxuQFVurrKx79SJBkYdV6jXpWjslyzRPFK0MY1r
6Uul2hVJq66msgxLl1IZhJdeajoquLiYPHaRSLkOkEgE/POf1AcRGAj4+9OgsgEDaJRwc/Px3rsH
LFtGg8xUUVJCDwNdqK6vRoO0AeadzHU7UAvcrd3Rx76Pcsy+uvVj9hqnJaypqYGlQiqBlZUVKrUo
uG1qaootW7YgICAA5eXlePzxxxESEoLs7Gz8+eefuHbtGkxNTZHXCpNu8im2qwhfdXE8KvpycgxT
A15fUlLknitHS+4d10FbU0Mx+IICCs0oMnkyxcbnUwkVZGQ0neVIHY31NTb2//0v8Pff9FsdlZX0
VvXMM8CMGRTWKVauIYbiYvLco6OV334UmTCBHgSvvgq88AJw754E586p3vf+fUqn/Pe/KQ7feBpr
fYx9SXUJbLvYapV8os9n62Xn1dSz51sYp2vXrrhy5Yps+fLlyzA31/z0c3V1RUBAAADA0tIS3t7e
yMjIwM6dO7Fq1SqYPux9cnJyUteMgIBGcnKA9HTN+xmLtDSgRw/Dtcd59jU18nbFjf5TJ0+mEgBc
RcfMTN2MfWMaG/uICM0dmgAZe3d3KuHw2Wf0UEpKohALFxAoLqbCbP7+zbfz5JPk5Ts60gPD2rpp
OAig0JVUSh29zz+v2rvXx9gXVxcr1Yo3NO7W7iiuLpZNjFJYzcOY/VdffYVZs2YhODgYwcHBeP75
57F9+3adTpKcnIy4uDgEBQXhzp07iIyMxLBhwyCRSHD58mW9xWsLX2PPfNXFYUx9a9dS7nVL4PTl
5JDBNcRgHF2pq6OOzcaGtiX3zsmJOierq5Vr3Svi5kZx+UuXKCZuZqa6JENzNNbX2NhfuKBdDJ8r
8iaR0IPJyopy+mfPlufuFxdTdsypU9rrS0xsGrPPz6d0ysBACgHNmUPGvvHnrpdnX1OitbHX57MV
i8ToY98HN3KpQl5uRS6curauo6sxjDNkyBAkJibi9u3bEIlE6N+/v8wr14by8nLMnDkTW7duhZWV
Ferr61FUVISoqCjExMRg1qxZePDggcpjFyxYAM+H3f22trYICAiQvUJxN/xRXo6Pj+eVHl30HTwY
ga5dgSlTdGt/1CgJ7t4FPvyQloGW6Rs9WoLcXEAqjXhYd6X17g8AlJdL4OQEnDunvD3+YZ1ifdrv
3BkwM4tAeTng7t78/r6+wIoVEkyYANjZRSAiQvvzNdZXUBCBq1cBQILCQiA5OQINDUBlpQQWFs23
V1GhvN3amrYDEbhwAZg8WYLiYuDGjQgkJWmvLzk5/mF2EC3v3RuBxYuBZ5+VIDCQ9mcMqK2V4OpV
oLhYfnxJCT0s8vO1P9+ZM2cgTZIPEDDG92VQ1SAcvHkQQ92H4tqlaxhYORAIbNn5uL+TFUenNUdz
dRROnTrFGGPs0KFD7LfffmOHDh2S/f3bb79pVaehtraWTZgwgW3ZskW2btKkSSwiIkK23Lt3b5af
n69TjQeBtmfaNMZefVW3YzZvZqxrV8Z69WJs8GDG+vdvuY6SEmpzwADGEhJa3p4m6uoYu36d/k5P
167mij7070/tnjzJmJeX6n0iI+Xnnz69ZecrKWHMxoaxvDzGDh9mbNw4xvr2ZSwxUf1xnToxVlMj
Xw4LIz3m5ox98w1j9fWMmZgw1tCgm57SUqrjwzFpEmP9+lHbf/4pXz9vHmPffad8rIUFHa8Lv974
lT134DndDtKRGzk3mPuX7qxB2sB6b+3NbuffNvg51NnNZj37yMhIjBs3Dn/99ZfKTosZM2Zoeohg
8eLF8PHxwbJl8jzV6dOnIywsDKNHj8adO3dQW1sLB8XhgQKPBNHRlC3xySeUQldQQJkU6jh/Hvju
O3rFz8+n1/4ePVpW1zwri9L5rKyaz94wJP/5D+WEM0aDe0aMAB6WjTIozs404Gj8eOqQVMXIkZTP
v3SpvG6OvlhbA1OmAIcO0ecxYgStT02Vl4FoTF0d3QfFF32uI9nXl8I3paX02Yh1rK/btSuNCD5z
hkbLPnhA35/r12ngFoe3N4WHKipoTl0rKwp/6VKeAjB+zB4AfJ194WDhgDPJZ5Bemo4e1gbs6NEG
dU+JhoYGtn//fr2eMGfPnmUikYgNGjSIBQQEsICAAHb06FFWW1vL5s6dy/z8/Nhjjz3GwsPDdX5C
6Upz52hr+KqLozl96elUhXHJEsZWrGBszRrGgoM1tzdyJGNnztDfDQ2MiUTkqUml2muqqWHsxRfl
+vbvp7eMcePICzY277wj9+SDghg7flz1fi39bGfOZMzaWvN+VVWMicWM7dqlW/uq9P3yC2NPPcWY
RMLYsWOMLVrE2O7dzbdRXMyYlZXyutu36f7Mm0ffjcREepPTlfDwcNlbS9++9Lahij/+oH0GDWLM
x4eqaNra6n6+jec2shUnVmitTV82nN3Apv4ylTltctK7DXWos5tqY/ZisRibNm3C88/rXkw/ODgY
0sZFMh6yb98+ndsT4A/Xr1PN9vfeo84yNzfg1i3y1tUNZsnLo85HgDw9d3fKoqmqUj25hyqysmh0
5VcPx6zExFCmx+XLqrM3DA2Xz3/jBnmbLe1kbg5n56YTm6iiSxdK+9Q0OlQbJkwAFi4kz/h//wOi
otR30qqq06/o2d+7R/VwWnqPevWitw5VcDVvTpwAfviBzqWpc/aL819ge/R2fCr5FIsCFwGgAVXG
9uwBYLbfbKw8vRKD3QYb/VyN0fhyFRISgs2bNyMtLQ2FhYWyn0cJrlODb/BVF0dz+tLTKfzi4UGF
vtzcaEIMTfVV8vKUB9VwdVI0Gek7d2jyjZkzaXQlQA+c0aMpF3vIEOOEcSIiaO5SRbgpA7dsIT3N
5Y239LN1dtZ+YFRoKA1s0gVV+uzt6SEO0CAuDw/l2aR++olCKxyqplvkDK2HB4Vx9u+nsJ2ucB3V
hw9Txk1z6e99+9KELc7OwPvvA5s2UU6/OrZe2orXB7+OgzcPytZdy7kGHycfrbXpi4etB76Z8o1R
Sxk3h0Zjv3//fuzYsQNPPPEEHn/8cdmPQMclI0OeEvj55+RVBQeTd90cdXVkjBVrvHC11zUZ+6go
elD4+NBAGoCMfWgoGZTRo8mjNLSxnzVLPmgJoGqLmZmURvj99/oZMW1xcdHe2Ht761eDRxVHjtD9
Bshgc5799u00OjYmRr6vKmNvbk7BFzs74MoViv/raxtraij/3l7NQFORSF7sDKDZvJorowAAGaUZ
qGmowYv+L+JaDj25GWOIyYzBELch+gnVkTeGvIH+jv0172hgNBr7xMREvPXWWxg0aBACAwOxZMkS
3OTK0z0iKKYp8Qm+6uJoTp+isecYMkTZEDSmc2caAKTYUffZZ1SES5Oxz8ujcNGsWfKCZ8eOAa++
GoGdO8koWllRO/n59BAwBHl5yh5lTo68MxqgB1xztPSz1TaMoy/N6bO3l3vGPXuSsT98mOoPBQUp
F0srL28+/GZrS2Gu555r/u1HH30tJTojGkPdh6KnTU+U15ajoLIAScVJMBWbysoZt5U2Y6PR2M+b
Nw+JiYn4xz/+gbfffhs3b97EvHnzWkObAE/JyAAcu1WhrkFeanLwYJrvs76+6f7q6uap88iLisjT
zM2lWD+X7bNoEU2iHRgo9xq5MM5339HbRkvhRuQ6OFAVxXPn5CNlR42iYf26ZpjogqsrxePbkp49
ybueNw/47Te63/n55LkfOEAjWMeNU30s9wZnzLcffYjOjMZQt6EQiUTwdfJFQl4CDt08hCl9m+kU
aE9o6t315ibW1LDO0GghTcDIpKZSPnxjAgIYm/H9q6zvtr7s8O3DrEFKSdQ+PoxdudJ0fy5Dw82t
6bapUymjQhWffUbHLVzI2LffUtaOpSVj69YxduoUY4WF8n23b2fsrbcoK8PFRY+LbcTatYy9/DJj
pqaUgdOlC2P/+EfL89m1pb6esfj41jmXOg4cYOzDD+nvjz5i7NNPKc+9Vy/GFIbLNKGsjLKkdM2v
NzZj945lR+8eZYwx9tLvL7HvY79nPjt8WGRyZBsrMwzq7KZG3+Sxxx7DxYsXZctRUVFCzL6DEBnZ
NMebMXq1L0Eanur3FJafXA7HTY7YeXknBo1OVipe9a9/0QQSXNxWVf1xLvyyZg2werXyNi5EwGXx
iETk3Ts5kUepGP+3sqLc/9xcKnHbkvr2jNFkGosXk4cdGUnx6m++MWwNHHWYmNBctm3Nc8/JPxdH
R/osNm8G1q2Tz4qlCktL4I8/jPv2oytSJsXlzMuy2LyXnRcO3jyIqroqBPdUE5NrJ2j8KC5fvoyR
I0fCw8MDnp6eGDFiBC5fvgx/f38MVOwZ4TF8jbHxVRfHwYMRTUIwycnUCVdcl4vZfrOR+FYilgYt
xacRn+KU+1icPSdPt42NBb79ljIkmjOS1taUTrllC3W6KsIZey6MA1D2BdeW4v2zsqI+g+efp3h3
Vpb+133hAsWZg4Kok/LKFQrb/Pkn1WPRBr5/tvroc3KiSpvJyZSJZEyMcf9u5d+Ck4UTHCxoEGdv
u944eu8o5g2ap9NUq3z/bJtDY9fJsWPHWkOHAA9JSKCca6lU7qFxee1xlXmyKdw+Gf0JVgavhN/X
gYi4FQfGHodIBNxPL8G6L0X4+ANrLF+u+hzW1uQxW1srp/kB9FABqGOUS9k8cEB1lgqX3z17Nhnr
zEzNE3g0prqaKjbu2UP55iIRvUGcO0e57INbPzWaVzg6Uqfrxo36dbq2NdEZ0QjqLs/L7G1Pdalf
GvhSW0lqXVoxnKQTPJbWISgtpZozpqaMVVTI17/zDmNr1kiZ+RpzVlZTpnTMkr+XMKvJ69n9+7Rs
9cz77M3fVrHQUIrl19bXMmmj4bJr11Jc/uBBxlw889mqU6tk23btktd+KS5Wrzc+nrHevSmuP306
Y4cO6X7Nu3fTuWxtGcvMpHUxMcapffMoEh1N94K7N48abxx+g3118SvZcnlNOdt0blMbKjI86uwm
jyJqAq3J0qU0JVxzXLpE2ReWlsrZNH//DTwxvgIA0NVUefjkhN4TYO53AqdPUyZNudk9ZNbewtSp
lGL57IFn8d6J9wDQZBF3C+7C1pZqvDzzDFDQ9Ry2XdoG9rBmbXW1vG1NoyIHDqTBNSJR03K92sJl
Be3eLR/wNXhw69TceRQYOJAGOClOGv4ocTPvJvyc/WTLXTt3xYqRK9pQUevSIYw9X2Nsra3r+HHq
NEtOpkEye/cqb29ooFjs7t0UCunePQLm5nJjf+ECGT73vnlw6urUJM4p8ZSgpGsMXn8vD9OfL0Un
xyTcLaQZMBLzEhGTGYNfE37F2ZSz+D7ueyw/uRwvvUTFt0xMAMu+caioq0B2OU2uyhn75jr5FO+f
SCQfuq+vsc/IoP6F555TXq9rUa3G2viIPvrMzFovldIY9y+lJAWetp4tbofvn21zPIKRNwF92bqV
4q7JyVQHpXGHaGIi5VMXFNA/9qhRNCq2spLKBMyYAezaBeRV5sK5q3OT9i07W8LX4THEzpmEyLQR
MLVLwr3CKkiZFIn5iQhyD8LCgIVY9Oci+Dr5IqU4BVZWkE3MbeIeBwC4W3gX3ay6obyqBnBMgplk
Oy6mzcXwHsO1uk43N0CbcX85OfIJswGK8wuJZu2Temk9Mssy0cOmlStN8ogO4dnztQZNa+oqLaXa
NcnJVORq4cKmc4XGxFDYIiWFhsy/8ooE5uaUOjlpEpXTnTYNyFPonG3MjIETALdYmHidhUmnejhY
OCCtJA15FfQ2MG3ANAx1H4rQ26FIKZFX2aqorUCZ/Tn4dhmPe4VUbex2bRgwexqq/L7BtP3TcOTO
EQBUtApo/v5p49kzRqElxVG/us7jqg6+fuc42pu+W/m3UFXX/Oi9zLJMOFk4obNJy4cl8/3eNUeH
MPYClDLXpw958/HxZLTr6miEJEdUFPDss5SR4uREGTDm5hT+4coVADSlmirPHqC4fSdxJzQ4XYW/
qw/6OfTDnYI7Sg+IbZO2Ye7AuahrqMO7x9+F25duGPLtEPQUDYd7zXhZzZKS+lzA8Q762/nirzl/
YdGfi7AwdCEcNjmgtqG22WvVxtinp5MnHx4uX9fSeVwF2o6pv0yFZK8EWWWqc25TilPgYevRyqr4
RYcw9nyNsbWmrt9+owqVZWUUwjE3p/olJSW0/e5d2ufFF6kDbsQI0mdhQYOKhijUiOK8dFUMdhuM
q69fBQBIeo1WaewdLByw75l9qKirwJaoLTj50knsemoXFrvsglluMCJTIgEApQ1UiKWvUy8EdQ/C
ibkn4GjhCDMTM9zIvdHs/XNzI8PdmLo6KmDGGHn0FhY0OQZAbz45OZonYNEWvn7nOB5VfWU1ZRj9
w2glL/5G7g2kl6Zjcp/JCPouCAWVBU2OS8hLQD+HfkbVxnc6hLHv6Jw5Q7nic+aQMXvmGVpva0uh
HMZopOv//R8NWPL0lM9UZG5OmTlKxr4yD84Wqj17kUgEHycf/HPUP7Fk6BL0s++Hu4V3kVeR1+Rt
YELvCdj11C74OvtilMcoDOrljur7Q3C38C6KqopQLiVj38u2FwBgkOsgfBHyBWb5zkJsVmyz12tt
TR22jStxJyTQqNhDh+iannmG6t4AVClxwgTt6+oLtA2/3PgFkSmRiMum/p0buTfg/29/2HSxwaeS
T9HfsT+iM6Jxp+AOpEw+wO900mmM8RzTXLMdAqMZ+7S0NIwZMwa+vr7w8/PDtm3blLZ/+eWXEIvF
rVIbn68xNmPpOnGCDDhABm7WLJrYwdaWCoVxxt7Ojoz9zz9Tp+zSpbT+iy/oGIlEIhvYpDg1XW5F
brOePceasWvQw6aHsmff6Jjjc4/j1cdflS336AGkp3TGU/2ewn/i/oMK5EEEEbzsvJSOG+I2BFHp
UZBIJCiubtTxADL03t7U4azIvXs0OOqddyisNXs2vQEwRh7/okVqL0kn+Pqd43hU9R25ewRuVm6I
Sqc6zOdSzylt93XyxZG7R+D7jS9+vvYzAKBB2oCwpDCM69VM1TYDaeM7RjP2pqam2LJlCxISEhAV
FYUdO3Yg8eF/X1paGk6ePAkPj44dQzMGhYXAxIkUl8/MpI7Vf/2LvFaA5jTlDLitLcXnly+ndEtu
VOTIkfK6M9y+irHsvMqmXnpzyIx9RfOduhyurhRK+WDkB9gStQXlogws7PYVFgQsUNpvYp+JOHrv
KLZGbYXrZldEZ0Q3acvHp2lGzv379KCbPJk8+nHjaP7UixepU3riRK0uSaANuZV/C689/hrWRK5B
yL4QbL20FRvHb0T0y/Qd8HXyxTcx32BK3yl4/9T7yK3IRXx2PJy7Omtdwri9YjRj7+rqioCH095Y
WlrC29sbmQ8Dqe+++y42bdpkrFM3ga8xNmPo4iYQ+eMPKg8cHExxeFXY2tI+gwYph2kU9VVW0t+c
0QceevYaDDdHL7teSC9NR0ZZhsa3AXt7ip37OgRgoMtA5FqdxACbx5tMF9fPoR+szayx67ddGOUx
CjdybzRpy9eX3moUuXePOqk3bqQUUnNzeoitWUOTlBiyBABfv3Mcj6K+2oZapBSn4IORH+Dyq5fx
3vD3sGToErzy2CuylMqBLgNh28UWe6fvxYKABXj5z5dx6sEpjPcab1RtjwKtErNPTk5GXFwcgoKC
EBoaiu7duz8yRdQeNaKjKd7+xx8Uomk8yYgitrZkALt1o4qA/73+X2SUZiAsKQw55TkAaCQsR2FV
If4T+x+klaRp7dl3NumM7tbU6+lupd6zEotpHEBuLrBy5EpAxODczAPizIIz2D55O8Z6jsWt/FtN
tvv6yj37efNodqnYWCqkZm8PLFhA29zcKKSzcKFWlyPQhtwvvI+eNj1h1skMXnZemNRnEt4c8ibs
zOXlT4O6B+He0nuw7WKLzySfIaMsA6sjV+M5n+fUtNwxMPqgqvLycsycORNbt26FWCzGunXrcPLk
Sdl2bmi8KhYsWABPT08AgK2tLQICAmTxMu7pqs2yRCLRaf/WXOYwVHsxMRIsXQq8/noEjh9vfv/t
v27HXzU/oDrxCvoFJ2DgB8/jVv4tfP3m1/gu9js45Tnhg5EfyIx9REQENl/YjGjTaDzd/2k8iHuA
JFGSVvr6OfRD6e1SnDlzRuP+Li4SxMUBFhZSuES+AY+xnir3vxlzEyZiEwxwHICFoQvhXe6NXna9
ZNtLSyMQGwuEh0tw/jxgaRmBtDRg1Cjl87m7SxAcDGRmRiAz03CfL7eurb9f7Unf6Qen4evsq/F4
e3N72fKvM39FZEokpElSRCQZ5nr5ZE+4v5OTk6ERYxblqa2tZRMmTGBbtmxhjDF27do15uzszDw9
PZmnpyfr1KkT8/DwYDk5OU2ONbK0dolUypirK2PJyYw9/zxj1tY0qYcqXvjtBWb2qSWDy1Vm8ak9
2xG9g30W8RlbeWols1pnxWw32LJbebdYz55U/OpS+iXWbXM3VlyloSKZCj6L+IztjNmp1b7jx9P5
fv6ZscBAxi5fVr9/UlESw6dgr/71qtJ6bqITf39qKzKSsT17mh5/4ABjf/+t5YUItCoVtRUstTiV
ZZdlM8YYe+XPV5QKmQk0RZ3dNJpFlUql7KWXXmLLli1rdh9PT09WUFCgWpgBjX14eLjB2jIkhtaV
lsaYkxMZunfeIaO5b598+9G7R9nBhIOsoLKA2ay3YV0/t2UY8QUbvHEWY4yxH+N/ZOP2jmMOGx3Y
ush1LGBlABv3r9fZl/9qYEN2D2F74/caVK8qBg4k3V5ejPXpw9iNG83vy92/H+N/ZHN/n9tk+9Ch
NKtWW8yWxNfvHMejoK/f9n6s99bebPah2exK5hXm/qU7u5Z9ra2l8freqbObRgvjnD9/Hj/99BMG
DhyIwMBAAMC6deswefJk2T66TBggoJnoaOpoFYnkNV9sFfo2f0/8HWW1Zcgqy8KUvlNwOzMLsZ4R
cOlKqY09bXridNJpDO8+HEuClmD1j6tR1SUeG195GTt/K8bcgXONfg0VFTTRdt++NHJXm3lYXS1d
ZcXTFHn5ZYrdi4XRJEYjvzIfFqYWsDA17ACF8tpy3Cm4A7FIjKzyLJxLPYflI5YrVa0U0A2jGfvg
4GBIpVK1+zx48MBYp1dCMQ7IJwytKyaGOiIBubFXnLrvRu4N1DTUICE3AV9N+gp76g8itucvcLOm
AmPccPLAboGw7GyJu1/eRcCuAFzKuIQBjgMgFhnfaoaF0e+CAs3Gnrt/zRn7V14xgkAt4et3jsNQ
+vz/7Y++9n0xx28OBrsNxhB3FWldemDd3xq9b/XGHP85mDdwHjxtPWFqYmqQtlsK3z/b5hCqXrYj
oqOB96hcfBPPnjGGG7k3UFFXAU9bT0g8JYjPuo6fbpWgp4MrAMqWcTB3wMdPUKF7d2t3eNl54Wzq
WfS00XHaJz3hZpfq2ZPq1mhTq6Y5Yy9gfPIr85Fdno3i6mLkVuQibH4YfJx8kFOeA0cLR5iITfRq
92r2VYz3Go/VY1Zr3llAK9rNCy5jQH296m2NM1/4gqF1xcfLS/S6kv2WGfsHRQ9gZWYFe3N7LA5c
DLFIDF9nGhbb352eDKYmpsh/Px8uli4yfT1teuJsSusZe0UkEgpJNQd3/xwsHFBSXYK6hhbMMm5g
+Pqd4zCEvoraCpiKTXH0xaOIeSUGmydsxqSfJiGzLBOuX7ri4M2Derf914m/MNiNn/NA8v2zbY52
Y+x/+IFGQ3ZUSkqogiU3V2tjz/74/eMY7zUeq4JX4eXHXgYADHAkY+/p6NK4ORkeNh7IKMtoE2Ov
LWKRGE5dnZBTkdPWUjoUV3OuwtvJG5P6TIJZJzPMHTgXs3xn4YXfXgAAiKB/n1xCbgKGd9du/gIB
7dpSP8sAACAASURBVGg3xv7Onea38TXGZkhdyclUwEwkAmIyYrDv/hd44gkq7HUh7QI2nt+IyX0m
493h78oGRPWw6QELUwt0s1I9z5xEIsHE3lRDwMOGf6UtFO+fbRdblFSXtJ2YRvD1O8fB6Vt9ZjWK
qorU7wwKA34S8QlyK3Jl66LSozCs+zCl/VaMWIH8ynx0NumM0ppSFFcX45OIT5q0p+6cuRW5qOxe
CW8nby2vpnXh+2fbHO3G2JuZtbWCtiU5GehFxSGx9NhSrAx7H2fOkPH/OPxjvBz4MmZ4z1A6RiwS
48qrV2QjXFUR0jsEt9++3eSfmm+YdzJHVX3zk1cIKBOyLwQLQxdiS9QWXEy/2GT7oZuHMP7H8ej0
OXXrbbu0DZ+f+RwX0+T7Xki7gBHdRygd52Lpghtv3sBbQ95CaU0pIpIjsDZyrVJJ4us51+H6pSsS
8xpVqnvIxbSLCHIPapWEgI5Eu7mb6ow9X2NshtTFefYAvQJz3C+8j6s5V/H+yPdVztLDhXLU6evn
0I+XabKK98/C1AKVdZVtJ6YRfP3OcZwKO4Uf4n9AUXURrucoz08pZVJ8HP4xCqsK0cAaEJkSibVn
12Jq/6myWcQYYzifdh4je45U2b6NmQ1KakpwPu08GlgD4rPjZW2/dvg19LDuge/jv1c5gv5C+gV0
K+DvrOZ8/2ybo0MY+/bOzZvAsmVA//40/ZqpiSnMO5mjrKYM38V9h3mD5sGsU/u+QXwz9nymtqEW
JiITOFo4AgCu5yob+79u/wULUwtcefUKPG09seCPBdg4fiNCvEJwr4iMfXJxMkQQNRves+lCxv5C
2gX0c+iHmEya//HbK99CJBLhrzl/4Zfrv+CPW380OfZi2kX4Ovka8pIF0I6MfWcVU0sWFdGk2Vw9
FL5hqNjf5cvA1KnAW29RHHV49+HwsvPCnYI7+CH+B7wc+HKb6jMWivrMTc15Zez5fO8ySjPgPtAd
/R36w9HCUcnYM8aw/tx6rAxeCZFIBJeuLkgqTsJoz9HoY99H5tlfSLuAET1GNPvGZ2NmIysv/Obg
NxGTGYPs8mx8FP4Rdj21C95O3nje73lZexx1DXWIzYrFq8++qrJdPsDnz1Yd7cbYc6MkaxWmJo2O
phmaLlxoG02txa1bNFG4SARcTL8oM/Y7Ynagt11v3nZ0GRILUwu1E04LyEkrTUMP6x7o69AXIV4h
uFNwR5a2Gp0RjYKqAjwzgGa4cbF0gVgkRnfr7vB29MbV7Kuol9bjQvoFjOyhOoQDkGcfkRyBAY4D
IPGU4HLmZWy7tA0v+L8gGwXr0tWlSQZVfHY8vOy8YG1mbaSr77i0G2Nf9zDFuqJCvo6bZ/TrryPa
RJMmDBX7u3VLPpPUxbSLGNZ9GPyc/fDLjV8Q4hXS5vqMhRCz14+0kjR0TuuMCV4T8GTfJ9HTpifu
FFA6243cGwjuGSwbDOXS1QVuVm7obNIZHrYe6OvQF6G3QnE+9TxG9BjR7DlszGyQXZ6NET1GwNfZ
F2klaYjNilVKp2xs7PMr8zF1/1Q84fEEr+8fn7Wpo90Ye86jLysjw79gAc1AtHQpcP68fJo+bTh7
Fvj3v40i0yjcvg3060ex2PjseAx1H4pA10BU11cjsFtgW8trFfhm7PnM/aL76GbVDXP85+DFgS/C
39lfFspJK01Tys5ysXRRist/JvkMrx95HfcK76n9btl0sQEAjOg+Ap3EneDn7Ifw5HCl8Rouli5K
qZxnU87Cz9kPWyZuMdi1Cshpd8a+vBy4fh3Yu5dqq7z7LiAWS5rMR6qOM2foIdF4piNDY6jYX2kp
1cC5mn0Vve17w8rMCgGuNEtYoKv+xp7vsUmlmH0nIWavLTGZMZgxSZ6Gq2js00vT0cO6h2ybu5W7
0hzA473GI3R2KFaMWKEyu4vDxoyMPZet4+vsi9qGWmVj39VFNkkOAJxPO48xnmNgamLK6/vHZ23q
aDfGngvjlJdT+EYsBoYPB5ycgGnTgNBQ7dvKz6ewyOuvAxpqufGC2lrqoL6YflGWD9/bvjc2jt+o
Noe+PWFhaiHk2TdDZlkmIlMiAVAH7KX0SxjqPlS23d/FH9dzrqO2oRapJalKxn7+oPlNPO0RPUbg
E0nTgVKKdLPqhmn9p8na8nXyRSdxJ7hausr2ce7qrBTGUTVIS8BwtBtjrxjGCQsD1q2jEgoA4OkZ
obOxf+89anPfPoNLlWGo2F9tLaWecp2zAA2Yen/k+y3Kj+d7bPJRitm3ZefxkTtHsPH8RgBASkkK
Ook74V6sPAuG8+yn/DwFJx+clM3nClCWk4OFg87ntOxsiT9m/yH7/vk4+aC7dXelwmjOXZ1RUFmA
spoyMMaQkJcAf2d/APz+7vFZmzranbFfuxa4do1qmffuTeu8vID797VvKz+fast89BHw/feG12po
amrIs4/OiEaQe1Bby2kT+BbGUeRK5hUE7wlu1XOW15bjqf8+hcKqQmSXZ8vCJdEZ0RjqPlTJCfCy
80JycTJSSlIAGKc0xhMeT+CriV8prTM1McUc/zlYHbkaWeVZMBWbapyUXkB/2k2JY87Yp6VRzN1B
wRmZMkWC4mLqpNXG0c3Pp4mv/f2BuXNpAmxn7ebX1glDxf5qawFRp1qkl6ajl10vg7QJ8D82qaiP
b2EcRW1Xc67iZt5NSJm01UoAbI3aiqP3juLXG78iuyJbVgKaM/YShbEnJmITRC6IRIBrAKzMrIyi
x8LUAtMGTGuyfuP4jfD/tz962vSUzS8L8Pu7x2dt6jDqNy8tLQ1jxoyBr68v/Pz8sG3bNgDAihUr
4O3tjUGDBmHGjBkoKWl5Aau6OhpFevZs0xroZmZUEbNSS8ePM/ZdutBMR7dvt1ie0WhoABpcYzB8
zxB0NumMLp20mNqpHcK3MI4it/Jvobq+Guml6a12ztjsWMwfNB8/XvsR2eXZyK3IBWNMZuwbM8pj
lNEMvTpcLV3xz1H/xDvH38FYz7Gtfv6OhFGNvampKbZs2YKEhARERUVhx44dSExMxIQJE5CQkICr
V6+iX79+WL9+fYvPVVtLhtnVtem2iIgI2NoCxcXatcUZe4A8+txc9fvriz6xv5QUGix25Agt19YC
ndyu43rOddnw97bU15oo6uPbCFpFbbfyb0EsEsty2VuD9NJ0LAxYiKSiJESlR6FOWoe8yjzEZsVi
iNsQXn22bw15C99M+QarRq2SreOTvsbwWZs6jGrsXV1dERBAKYCWlpbw9vZGZmYmQkJCIH445DUo
KAjp6S33eLiMlOaws9PO2FdX01uCpSUtu7gAOTwqk/7220BQEPDUU7RcWwuIne6AgRnc2D9K8M2z
3xO/B9P3T0d6aTqi0qMw2mN0qxr7jNIMeNp64gX/F5BZlgkzEzOcfnAaPWx6yHLg+YKpiSleefwV
dBK3m6gyL2m1Dtrk5GTExcUhKEi5A/H777/HlClTWtx+XV3zxl4ikWjt2WdmAt26UWy/ur4a9i6V
Ssb+5EndBmhx3L8P/P47oDjtrraxv9RU+chgl0bzjNTUAHAgI2JoY8/32GTjmD0fjP21nGs4k3wG
iV0TEXo7FBN/moj3R76PJ/s+ibuFd1tFQ720HrkVuXC1dMX8QfMBAH7Oflh5eiVGe4wG8Gh9tnyD
z9rU0SqP0vLycsycORNbt26FJecyA1i7di06d+6MF154QeVxCxYsgOfDur22trYICAiQ3WjuVYpb
zsiIeDiBiertDQ0ROHsWGDlS9XZuWSqVoFcvWt5wbgNSzYAn0o4iIuIMoqKAVaskSE0F7t9XfXxz
y4sWRSAzEzAzk+D6deDMGe2PX7AAMDOLwAcfAEVFEkgktP30aaB/fwmkdnfRKbUTGsQNsnunSU97
W85LyMON6BvIfj4brpaubaKnoq4CS24uwVD3oai6WwXkAVNGTMHyEcuxbt86XLx9EaC5YIyqJ7s8
G1ZZVjh/9jwkEgmOvXgMsRdjUWdWh5WTV7ba/RCWjb/M/Z2cnAyNMCNTW1vLJkyYwLZs2aK0fs+e
PWzEiBGsqqpK5XG6SnvyScb+/FP1tvDwcPbCC4zt26e5ne++Y2zBAsbu5N9hDhsdmP0adxYQcoOl
pDDm6cmYhQVjV6/qJI0xxpiPD2NxcYx5eDAWHy/X1Zi6OsZu3ZIvNzQwZmXFWLdujIWFMTZsGGPn
zjFmY8NYYSFj9+4xJv4/GzZ492C27Ngy3YWpQZU+PtFY31tH3mIrT61sGzGMsQV/LGD+3/iz0XtG
M5vXbFhiXiKTSqWMMcYS8xJZn219WkVHVFoUG7x7sNp9HrXPlk/wWZs6u2nUMA5jDIsXL4aPjw+W
LVsmW3/s2DF88cUXCA0NRZcuhske0RSz1zaMw00CsubsGiwNWopeVt6If5AOb29g2DBgyBCgsFA3
bfX1FL7p3x944QXg55+b33fTJnlRM4A6Yx0dgZ07gddeow5ad3fAyorKJJRWVoGZVMPHyQeO5v/f
3nkGRHF1Yfhdeq8iooAVI4gCNhQbFkBRUWPsBWvUKPnUWBI1UWONPTExBktsUWOMDRAVBVTAShGx
AVJFuvSlLLvn+7HZkaUpsgujzvMHdtq+OzPnzJ1zzz33043ZA8A3vb6BZ6hno0xPeD3uOm4l3sJB
t4N4nPkY5aJyfGb4GZPP3ka/DZLzklEmLHvLkepPdnH2J91/w1E9cnX2wcHBOH78OAICAmBnZwc7
Ozv4+vrCw8MDhYWFcHJygp2dHb766qt6f5esYvZRL+Oh3PwJLsVcwtf2X6NNU2O4jEnDwoXArl2A
gUFVZx+fE1+rEcfHi/sB1NWByZOBkyfFZRgkr2QVuXTpzf85OYCLi/gB4eYGWFsDqQWpyFd5Bh0d
8WjhVwWpUCpphll2s+D2mdvbf2AdqE4fm6isr7V+awxtNxS/P2j4KnaXX1zGdNvpaGfQDln8LFj3
sJYauKSiqIIh7YZg5KmRKCgtkKuW3JJc6Knp1brNh3Zt2QSbtdWGXGP2ffr0gaia4jIxMbLvqCor
E+fS14SBAZCSUvsxsrIAb203RBUSpnaeCj01PZgbNENTt3Qs/690t75+VWc/+exkLOq5COM6jpNa
XlwszvHfuBHo898Ayo4dxQO+bt4EqrtnHj588/+lS+JtNmwQf/7lFyDo17Gw2R8Me21inL1KWTP0
a9mv9h/3iTC/23ws9F2Ib/t8K7W8oLQARYIiqdossiQkOQTrB6yHnpoeVBRVqp3u8cy4M5jvMx8D
jw6EzyQfZuJ3WZNXkvdWZ8/x6fFRlUuoqWUfGBgIQ0MgO7v2Y8xfkYxywyjE5j9mCjIZaxrjeORx
3Ei4AaBqy57+q+kRlRFV5XgaGkDXruJMnIolkydPFodyKnayAOLMmtJS8f8CAXDuHDBq1Jv1pqZA
WwtxJ6y2trhln16UBlWBfObrrKyPbVSnz87EDs+znjOTcUj47f5vWHp1qVx0lJaXMqWleTwemmk1
g0py1ZtRSUEJnsM9MaDVAMy4MEMuWoB3a9l/iNeWLbBZW218NM6+tjAOII57Z2VJL5M4VkBcPO1q
9n6Y64jrgnQ16QpAXHP7UcYjeIZ5Aqjq7FMKUpBfml/F2UuObWYmHgClqflm3cSJ4jRMgbQ/QlKS
eHtDQyAtTZzmKcmnl6CpLD6QJGafwU+Fmpyc/YeIhrIGzHXN8SzrmdTyeyn38DSrDnWu60B4Wjja
G7aHloo406yZVjOpUr4V4fF4WNl3JW4m3kRpeWm129SX3NJcpsQwB4eEj8bZ1xbGcXR0ZJy9xAnz
+eKWcnS0ONzi/t0D8Lrvg9eki+hs3Jmp4S151Q5KCgJQNYzzOOMxVEub40689KTNSUniAmwXLwI6
lWZYMzUFrKzEaZ4VkXQO6+sD//wD2NmJSzRXROJQmJh9USI0hfIpY8z22GRN+myb2SI8LVxq2f1X
9/Es6xlEJPua1beTb0vN2nRgxAEsm7Ssxu311PTQoUkH3E25K3MtABezlzds1lYbH5Wzf1vL/t49
cb2bR4/EnaRZWcC0v+dj9ObfkDdwKvaN/AWdjTvj4byHTOeaobq4olqZsAyhr0JhYCCeBvBBSjiE
IiE2B22GctjXyChJQrmonPk+ieOuiS5dqk6OItnHwEBcbbNiCEeChrIGAEDrv5j9s4J7MCzt9vYT
9AnRv2V/XIu7xnyOy4lDaXkp+AI+Fl5aKPPvu5tyV6raaCfjTlBVUq11n56mPRH6KlTmWgAuZs9R
PZ+Esw8MDGRq3QDAiBHA+vXiVMa7on24orgQA6xsMMF6QpV9u7foDv5KPrYO3gr38+5o2a4YQWFZ
6H6gC9zPu6NMIELh1aVQKjVGcl4ys198fO3OvkMHwN8/kPl87x7w5ZfiSpsGBuIHwciqRQKZB4qy
dg5y8srxojgMxgL5lDVme2yyJn1DLYbicuxlCEXi/o2/o/7GF1ZfwN3GHQfCDuB28m2Z6ojKiEJn
487vpE2CVRMrPMl6IlMdEnJL3h7G+VCvLRtgs7ba+GicvUBQezaO7n/3/nffiVvQCQnAuo0lgFAZ
+klTcGjMbzXuq66sjimdp6Bj0444mfEd5m0MBgB4RXthWbujMDdThDCrNeJz4wGI48NHXq6EefVh
WwBiZ5+U9Obzpk3Anj3iyp36+oCNDdC6mmrFRQJx3QQV/Qw8yY5EE6WW0FLm4rMVaaXXCua65kzr
/tyzcxhrNRaHRx3GNqdt2HVHdnOcCoQCvMh5gc8MP6vTflZGVniSKe3sZVUV813COByfHh+FsxcI
xPHrip2gFXF0dGTq2FeMgSeVPIJKfgd8oXjsrbPx8Hg8/D7sdxx5eATJWmdh+GwZbrjfxLUzreDk
BCC3NR6/ikNeSR6cjzkjRHEzDJqW1ph/b2UFPH/uiI4dxfH5O3eAmTPF60xMgDFjqtdRWFYILRUt
KLbzx/Xo22il1LPW8FV9YHtssjZ9s+xm4WjkUWTzs/Es6xkzF+pMu5m4Hn8dibmJVfaRdJhWzuSp
CSLC2htroa6kDnVl9XfWBrxx9vRfoaXE3ERY/WbFvI3UBy5mL1/YrK02PgpnHxgozl/XfYcGbo8K
pbyfZD6BuVon9O//bt9joG6ADk06ICjrIoqf9cfeNTYICRGPetVHa0QmxWNN4BqM7TgWusW2iFDY
D4OfDLD51maUlJdIHcvYWJySOXgwMHWqeIJzDXE4Hhs3At9+W40AiJ39LpddOBy3ASWGd6Cc1guq
tYeHP0m6mHTB86zn8I/3R7+W/ZjJsbVVtTHDdgb23NsjtX2ZsAymu0wRkhyCptubVsnmqY79Yfux
6/YujLceX2d9RppGUFJQYiYVicuJQ0FZAR5n1m+W+0sxl5DJz4SJNpehxSHNR+HsfXyq78yUIImx
EQG9e79ZHvM6BlOGtMfkye/+Xa31WiO3JBffTLfA3bvA1aviGHtrJQdcTPgLJx6dwOZBm6Hx2h6B
BfvR27w37qTcweCjg6tkgsTGBmLGDLGTrziIWE1NOiRFRDj79CyICEVlReht1ht8AR+iNlcQeUl+
LXu2xyZr02ema4aX+S9xNe4qnNo4Sa2b120ejkceZ1rVABCWGoYsfhamnpuKlrot35qTH50djVX+
qxD6ZSh+H1Z1xO67nLuKoZyE3AQAwN2X9cvQ2R+2Hz8P+ZnLs5cjbNZWGx+Hs8/dhpfNf611m4yi
qjOQRGdHo71h+zp9Vxv9NlDkKeL7ha0REfEmLNRFfxBE5UpY57gOTTSagPfKHnFFkejfsj/OjT+H
UmEpLj6/WOV4trbAy5fi2j01kcXPwpjTYxCcHMyEcayMrKCgXIbs55Zyc/YfMsaaxsgpyYFvjC+c
2zpLrWurL56cOCnvTadJcJK4HyYuJw4nx5zE8+znuBJ7pcpxzXeZw+u5F6afn451jutgaWT53hor
OvvEvEToquriUcajt+xVO/dS7qGPecPOd8vxYfBROPs44x3Ym+BRJVQiQfczXRhvN8aZJ2eklkdn
R8PC0KJO39VGvw1a67eGsqKy1Hy2rVspYNzrCMzrNg8AUPpCnCFjYWABBZ4CRn02Cnde3pE6liT2
Jwnf1ISk43fXnV0oEhQxzt6hpT309RTkFsZhe2yyNn2KCoow0RKHMiqXLuDxeLA3tZfKcw95GYJu
zbvBRMsEHZp0wA7nHVhydUmVt7Hk/GS4nXJDamEqc63rqk2CVRMrJmyTmJeI7i26M2Gd9yElPwUC
oeCdJgz/kK9tY8NmbbXxwTv7ggKAhOISP68KXlW7jW+sL7RUtOAT48MsIyLEvo6FhUHdnH0v016Y
aD2xyvK+fYHAq1rg8XggAnJjO0BXVZd5c7Bual1tSYV3IT4nHkPaDcGNhBvIK8mDpoomhrcfjsmd
JmHYMHHYh6MqpjqmcG7rLFWQTEI/83648kLcciciBCcF4/t+32Net3ng8XgY0X4ElBWUERAfwOxT
Wl4KZQVlTO40GXO7zq335OF9zPvAL84PYalh8Hvhh/4t+yO96P2nRbubcpcp2cDBUZkP3tnfe5gH
nnouuph0QRY/q9ptTnmfwlfdv0Jczptpol4VvIKWiladp2izNLLEjwN+rLLc3h7IyxPny+fnAxrq
CgiZFcLkX1fn7N8l9pdakIo99/bAuqk1ZnWZBSUFJagoqmBUh1Fwt3XH9u3i8QLygO2xybfp62XW
C2Msq09rmtx5Ms4+PYv80nzE5cRBSUEJI9qPwA/9fwAgbv2727jj9JPTzD6Z/EwYaRrh2OhjWNF7
Rb20AeKRvkQE52PO2Oq0FZ9bfo70wvd39jVNJv6++hoTNutjs7ba+GAnfYzPiUevg72QW1iCZrzO
aKqpW62zzy/NR+zrWEy3mY4Tj04wy98nXl8bCgriEsiffw4cPCiub2NlZMWsb63fGhlFGSgqK4Km
Sg05otXgGeqJ4ORgDGk3BO427kxsWULlaQo53rDNaVuN65ppNcOg1oNw8tFJaChroLd57yot4k7G
neAV7cV8zijKQFPNpjJrOfN4PPz1+V9ort0cLfVaIpufXWsY51rcNZjrmtd4395LuYflvZfLRBvH
x8cH27KXjFpsd+kFjg7yh5GGETKLMqts5x/vj779+6K9YXtkFmUycX1ZO3sAGDtWPGhr2DBx/fmK
KPAUYKZrhuT8N6Ns3yX2F5sTC7fP3DDddjrMdM0QNDNIppprg+2xyfrqm2U3C8cijyE4ORgOpg5V
1rfRbyP1Nihx9rLU1susF1rqiWPs+ur64Av4NfY9OR1zwme/fiZVlkOCUCTEg1cP3rll/7FfW3nC
Zm218cE6+7icOJiofIaMBEM49lFDE40m1bbsL8dehktbFygqKMJM1wxrA9fC/oA91t9cX+dRj+/C
ggXi0sQbN1ZdZ65rLpUB8i6EvgrFOsd1MNWRT7GzTxl7U3tEpkciKCmIGXRVETMdM6QWpjID4+ri
7N8HBZ4Cmmo2ZTLHMosymVm30grToKemBxtjG+hu0UVgQqDUvs+ynsFYyxgG6gZy08fxYfPhOvvc
OOTFt4GbG6CoCBhpGCGrWNrZExGuvLgCgzSxAfQx74OtwVsxw3YG/h33Lxb0WCAXbSNGABXmVWeo
7OzfFvsjIsS8joFlk/dP76sPbI9N1lefgboB1JXVEZ8bDxtjmyrrlRWV0Vy7OXPN0gvT39nZv6+2
pppNmbi9/QF7dNsvLnJ3Le4aBrQagGk208AX8KuE84KTg9+5VV8ffQ0Fm/WxWVttyM3ZJycnY8CA
AejYsSOsra3xyy+/AABev34NJycntG/fHs7Ozsh9l7kCqyEuJw4x99swg6maaDSpEsaJzo5Guaic
eU12becKdWV1TLedDntTe6aCZENhrvP2lv2OkB3MtHVFgiKoKqq+tYIix/vToUkH9GjRA8qK1RdW
aq3XGvE58Xjx+gV23dkF5zbO1W4nKwzUDZBTkgNA3NKPfR0LAPCL84NzW2d8bf81tg7eiujX0cw+
rwpe4bvr32GGrfwmROH48JGbs1dWVsauXbvw+PFj3LlzB7/99huePn2KLVu2wMnJCdHR0Rg0aBC2
bNnyXsd/kv4cieFtMWiQ+HMTjSbI5Es7+ysvrsClrQsGDBgAABjefjhOjjkJNaXGyVU01zVHYt6b
miyOjo4QCAU4+egkAHFFy5X+K3EjUTwrVmMXtGJ7bFIW+qyMrGodhGSqY4qw1DA4H3fGmv5r4NLO
Ra7a9NX1kVMsdvY2zcRvG8WCYvi98INTGycoKSihj3kfPM54U1bhYdpDdDXpisFtBr/z93wK11Ze
sFlbbcjN2Tdr1gy2trYAAC0tLVhaWiIlJQUXL16Eu7s7AMDd3R3nz5+v87EzizKRmp8Bly6WUP+v
/lQXky4ITgpGsaCY2e5a3DWp0ZPqyuoyn5S7Ltib2uN63HWpYlcvcl5g0tlJeJr5FHE5cSgTljET
pTS2s/8U2DRwU61plKY6plh/cz0GtxmMud3klONaAQN1A7wuFs+OI8njP//sPNSU1NDWQDzyt2PT
jnie/Rx8AR+AfJINOD4+GiT1MiEhAeHh4bC3t0d6ejqM/8sXNDY2Rnp6zXnF06dPR6v/isLr6enB
1tYWjo6OCE4Ohuqjz9Dhs1sAHAEA8RHxaJvfFscjj2NO1zkIDAzE/ZD72OG8QyrGJnkqS5Y19Oem
mk1xI/EGFBIVEBERge6fdwcALD+wHD2a94Cuqi7uvLyDwMBAPEp/xDj7xtAbERGBRYsWNer5amx9
LbRboEhQBKN0IwQGBr7z/rt372bu17p8n76aPnJKchAYGIiXD18CyoBnmCes+dbM9+uo6qBDYQf8
9NdPWDd9HWJex4CXwGsQfQ31mc362ORPJP8nJCTgrZCcKSgooC5dutC5c+eIiEhPT09qvb6+frX7
1SZtTcAa0nZbTQkJ0svvvbxHJttNKL8kn4rKikhtgxoJhAIKCAio12+QJTtDdtL089OJiCgg+ozx
ygAAIABJREFUIIAuPLtAPfb3IL0terTw0kIaenwoWe+1JiIir+de5PqXa6NpZdN5q46G0Hfu6TnC
WtD9lPt12u99tW25tYWWXl1KREQDjwyk9nvaE9aCTj06JbXd4fDDNPLkSNpzdw9hLcgn2qdB9DUU
bNbHZm21+U25ZuMIBAKMGTMGU6dOxaj/elKNjY2RliYeOJKamoqmTeueypac+wr89BZo0UJ6efcW
3eHU1gmbgzYjOjsa7QzaQUlBiXkasoEJ1hNw/tl58AV8ODo6IpufDcsmlhjdYTR+vfcrJlpPRGFZ
IYDGD+Ow6bxVR0Pok6S81jVN9321VYzZFwuKmYF5lVNDR1uORkBCAHxifNC/ZX/0a9mvQfQ1FGzW
x2ZttSE3Z09EmDVrFqysrJhXbQBwc3PDkSNHAABHjhxhHgJ1IT4rFYaqJlCqJgi1edBmeIZ6wjfG
t0oBLDZgom0C+xb2uPDsAgAguzgbhhqGWOqwFKM7jIZzW2cUlYlno2psZ88hrpDpauEKbVXtBvk+
SRgHAIrLxc7eVMe0yjgLHVUdOLd1xuXYy9jhvIOZiJ6Doybk5uyDg4Nx/PhxBAQEwM7ODnZ2drh8
+TK+/fZb+Pn5oX379vD398e3Nc3SUQNEQEzqK5jpVT85Q3Pt5hjVYRR2393N5KdXjG+xgSmdp2Dn
nZ2wXGaJlIIUGKgZwMrICmfHn4WWihZrWvZsO2+VaQh9+ur68Jnk8/YNK/G+2gzUDaRa9q7tXLFn
6J5qt51kPQmKPEV0bNqxwfQ1FGzWx2ZttSG3Dto+ffpAJBJVu+7atWvvdIySEnFFx2fPxHO2AsCN
G8DLvFQYvG5e436djTvjYPhBVrbsAWB0h9GY5z0PRVlFyI7Mliqspq6sjlJhKYQiIXJLcmGsyRW/
+ZTQV9dnsnGKy4vRXLt5taN7AcDVwhUH3A40Wioxx4cFq0fQHjkinoXK0hKQjL264CUETzMTP31f
sxO0bmoNAEzLnm0xNk0VTexy2YUts7Ygk58JQ/U3898q8BSgrqQOvoCPLH4W9NX1G00n285bZdis
7321memYISE3ASISoVhQXGVu24qoKqliuu30BtXXULBZH5u11Qarnf3WrW9qzISGAllZwPGzmdBX
18cQ5+pHPAJiZ6/AU2B17vGcrnOwuNdiNNVsiiYaTaTWaalooUhQhNDUUNg2s20khRyNgZGmEZpo
NMHTzKcoLi+GulLNzp6Doy6w2tmbmACPH4vnZ33wAFi0CBjyRSpMa4jXS2iq2RSR8yKZUsJsjbGF
3ArBzek3q4zg1FTRRHJeMhJyExrV2bP1vElgs776aHMwc0BIcshbW/b1gc3nDmC3PjZrqw1W17Pf
tAm4eVM8T+uXXwLq6sC286nIfFi7swfwXp1WjcFnTaqm9GmpaMEvzg/2LeyhpMDqS8QhB3qb9caN
xBsgEJQVan6D5eCoC7z/EvFZh3h6P7E0InHrfsIEIFb7IIKSg/DnyD8bWaH8cDjoACUFJQxsPRBr
Hdc2thyOBuZR+iO4HHdBfmk+ClcWNrYcjg+Iin6zMqwO40jg8YDffwf69xdX+GuuXXMmzseAlooW
br+8XWuBLo6PFysjKxQJiuQWwuH4NGG9s999ZzfCU8OZz6mFqTDRensYpyJsjbHVpEtTRRNEBPsW
9g0rqBJsPW8S2KyvPtoUFRTR07SnXDtn2XzuAHbrY7O22mB9QPji84sQkQghySEQiAR4mvUUg1oP
amxZckVLRQu2zWwbbNQmB/vobdYbCbkJjS2D4yOC9TF7673W0FPTQ8zrGLhauOJy7GVcnXIVnYw7
NbZEuTHPex7UlNSwe8juxpbC0Uj4x/tjud9yPPjyQWNL4fiAqC1mz3pnb7zdGBlFGVjTf80n01kZ
lhoGbRVtWBhaNLYUjkaCiJBSkMLNPcxRJz7YDloRiZDNzwYAjOpQ94JpEtgaY6tJVxeTLqxw9Gw9
bxLYrK++2ng8nlwdPZvPHcBufWzWVhusjtnnFOdAS0ULHvYe1U4IzcHBwcHxbrA6jHPu6Tl8e+1b
PFv4rLHlcHBwcLCeDzaMM/nsZBhpGjW2DA4ODo4PHlY7+6UOS2VSppitMTa26pLA6Xt/2KwN4PTV
BzZrqw1WO/t1juvgOdyz3seJiIiQgRrZw1ZdEjh97w+btQGcvvrAZm21IVdnP3PmTBgbG6NTpzc5
8ffu3UOPHj1gZ2eH7t274/79+7Ueg8fj1VtHrqQYPstgqy4JnL73h83aAE5ffWCzttqQq7OfMWMG
Ll++LLVs+fLlWL9+PcLDw/Hjjz9i+fLl8pTAwcHBwQE5O/u+fftCX196piUTExPk5eUBED8hW7Ro
IU8JAICEhAS5f8f7wFZdEjh97w+btQGcvvrAZm21IffUy4SEBIwYMQKPHj0CACQmJqJPnz7g8XgQ
iUS4ffs2zMzMqgqTQfiGg4OD41OjJpfe4IOqZs2ahV9++QWjR4/GP//8g5kzZ8LPz6/KdixN/+fg
4OD4IGnwlr2Ojg7y8/MBiB26np4eE9bh4ODg4JAPDZ562a5dO9y4cQMA4O/vj/bt2TspOAcHB8fH
glxb9hMnTsSNGzeQlZUFY2Nj/Pjjj+jUqRMWLFiA0tJSqKurY+/evbCzs5PZd0ZERKB58+Zo2rSp
zI5ZX4RCIRQVFSESiaCgwL6hDdnZ2TA0NGxsGTWSnZ0NPT09KCoqNraUGklPT4exsXFjy6iWjIwM
VtlDZUpLS6GqqtrYMj446uxP6CMhKiqKXF1dicfj0YsXLxpbDsP69etpyJAhjS2jWs6dO0dWVlZ0
6tQpIiISiUSNrEiazMxMmjJlCg0ZMoREIhEJhcLGllSFqKgoGjZsGPXv37+xpVTB29ubmjdvTk5O
To0tpVrCw8Np4sSJtGDBAgoLC2PV/XfhwgV69uxZY8uowsWLF+mnn36iFy9e1Nke2NfMrCPl5eVY
tGgRJk+ejGnTpmHo0KHw9vZubFk4f/48+vbti2vXrqG0tBTPnz9vbEkMjx8/hpubG44cOQJdXV1m
LASbMqA2bNiA4cOHQ0NDA3fu3EFWVhar3or4fD6WLFkCd3d36OrqwtraGjk5OY0tCwAQFxeH4cOH
Y/fu3Vi8eDF0dXXx6tWrxpYlxdmzZ+Hu7o5BgwZBSUkJP/30E0QiUWPLgq+vL3r37o39+/dj2rRp
OHDgAIDGTxjJysrC+PHjsXnzZsTGxmLBggXIysqq0zHYYz3vyatXr9CxY0fcvHkT48ePh4uLC/Ly
8lBeXt5omg4fPoz9+/dj06ZN+Pvvv9GsWTPWvKbm5OTg1KlTGDBgAM6dO4f9+/ejrKwMr1+/bmxp
AMRGFRAQgPj4eBw/fhx//PEHxo0bx/TzsIU//vgDCgoKePDgAfbs2YOrV69CSanxK4YTEa5du4bR
o0fDz88Po0ePBhFBXZ1dk5fHxsZi8ODBmDVrFr799lsoKiqirKyssWXh9OnTmDFjBry8vLB48WI8
fPgQQOM3hB4/fozCwkKEhITA09MTRUVFdU5s+SCd/dWrV+Hp6YmkpCSYm5tjzpw50NHRAQAUFRUh
MTERSkpKEAqFDaaptLQU6enpAIBRo0bBx8cHffv2hbGxMR4/foxbt24BQKO1Xm7dugWhUAh9fX2s
X78eixcvBiA2urKyMmhpaTVq6+X58+dITEwEAAwYMAAHDx5Eu3btUFBQgPz8fKZV35DXtDKRkZHM
G5qHhwe2b98OADAwMECbNm3w77//Npq2s2fP4tGjR+DxePjyyy8xa9YsAEDr1q1x9+5dhIeHA2i8
++/q1avYv38/4uPjAQDW1ta4cuUKtm3bhk6dOiE9PR0LFizA3bt3G1RXaWkpMjMzAQCpqanIz8+H
vr4+MjMzcfjwYZiYmDC229DcunULAoEAAKCtrY2kpCRcunQJW7ZsQUFBAU6cOIHo6Oh3Pp7i2rVr
18pJq8wpLS3F/PnzcebMGZiZmcHT0xOqqqqwtLREaWkplJSUYGxsjO+//x7u7u7Q1NQEEcn9qbx1
61asWLECYWFh0NLSQosWLaCmpgY+nw9lZWWUlJTgxYsXcHJyavAWQlBQEKZOnYqgoCCEh4cjPT0d
tra2zPlq3bo1vvnmGwwePBjNmzdvkPNVEYFAgGXLlmHTpk3IzMzEmTNn4ObmBkB8vTU0NPDgwQP4
+/tjwoQJjRLKyc7Oxrhx4/DPP//gxo0bUFdXR5MmTaClpQWBQACBQICYmBgYGhrC1ta2QbU9ffoU
Li4uiImJQUxMDEJDQ9GlSxeoqqqipKQEysrKyMrKQnp6Ovr169fg919FmzU1NYWnpyc0NTUxYsQI
2NnZ4cyZM1i6dCm2bt2K0NBQREZGwtLSErq6unLXJrHb0NBQaGpqwtbWFkSE0NBQfPnll+jatSts
bGwwe/ZsDB48GCYmJg1iH5VtNicnB87OzjAzM8O5c+dw8+ZNHDx4EIGBgYiIiECTJk3QvHnztx73
g2rZFxYWQiAQ4OLFi/juu+8wffp0zJo1C4WFhVBVVYVIJIKOjg5cXFyYFpi8L8zt27dx69YteHt7
Y8KECbh+/Tr27t0LANDQ0AAgvuElOhq6Zfrvv/9i3Lhx8PPzw7Rp0/DVV18hJSUFqqqqKC8vh6qq
KsaPH88UpGtoZ/Dw4UPEx8fj7t272LVrF168eIElS5YAABMWGTVqFNTU1JCRkdGg2iT4+PjA3Nwc
ISEh+O6773Dz5k0cO3YMAKCsrAw1NTUUFBQgJCQEQMNe46CgIEyZMgU+Pj5Yvnw54uLi8NNPPwEA
EzpUUlKCsrJyg2sDqrdZd3d3FBYWwsbGBpmZmbCwEE/BOW7cOERERDB2I08q262fnx+2bduGCRMm
YPr06fjiiy9w6NAhTJ06FTNnzsTq1asBNIx9VLbZOXPmICUlBSNGjICamhrmz58PGxsbrF69GklJ
SSguLgbw9n4F1jv7gIAA5lXl5cuXeP78OdO6s7Ozg4qKCnbv3g0AUFBQgLa2NuLj45mYvTxeWyvG
Fh88eACRSIQmTZrA1dUVAHDx4kWp19E+ffrgzJkzACD39EGRSIS0tDQA4vh8TEwM+vfvDwDo0qUL
zMzMsGbNGkYLEUEgEDDnqSGcQXJyMvP//fv3YW5uDi0tLQDApEmTcODAAbx48YI5V3w+v8FDTenp
6cx35eTkMJ2vffv2RVZWFq5fv46AgABm+5kzZyIyMhJ5eXlyvcbl5eWIjY1FSUkJAODu3buIiooC
ALRq1Qpqamr4+++/ERUVxTgma2trHDlyBID87z+gdpuVvHXs2bMHKioq6NKlC3x8fACI06bl2bdV
m90qKiri33//RWRkJB4/foyUlBRm2759+8LS0lJuIbDabLZr164wMzPDDz/8AABo1qwZUlNTAQAt
WrRAQUEBc27f9iBibRgnNjYWzs7OCA8Px+3bt8Hn8+Hi4oKgoCBcvXoVqampOHz4MFxcXPD7779j
9uzZUFNTg4qKCq5du4a8vDw4OjrK9ElcXl6O//3vfzh9+jRiYmLQp08fGBgYwMvLC0ZGRmjXrh18
fX1haGiIJ0+eYOjQoQAAPT09XL16FS1btkSrVq1kpqcye/fuhYeHB+7fvw8VFRXY2NggIiICly9f
RuvWrREYGAgigre3N5ycnNCsWTPweDxERUXh+PHj+PLLL+UaJklMTMTkyZNx4cIFxMfHo1WrVrCw
sMCGDRvQtGlTlJeX48aNGxAIBAgNDcWYMWMAAKamppg3bx6GDBkCU1P5TcINAHfu3MH48eMREhKC
gIAADB48GIqKirhz5w6ys7OhoaGB69evo0OHDsjNzUXPnj2hoKCA2NhYPHnyBL169ZLbmIVTp05h
5MiRiI2NxaVLl+Dq6oquXbti1apVaNGiBcLCwvDy5UtYWloiNDSUuf/U1NQQFBQEe3t7uY6nqKvN
LliwAIaGhvD19cXu3bsRFhaG7du3o3Xr1jLV9a52q6enh5iYGHh4eODnn39GQkICzpw5g71792LO
nDno0KH+EylVpiab9fX1lbJZHx8fjBw5EiYmJrhw4QJOnjyJ9evXo1u3bnB3d3+n5ADWOvsTJ07A
wsIC+/btQ/PmzeHl5YVXr15h1apVUFBQQEhICPr164fFixfj8ePHaN68OVq2bAkAcHZ2hrOzs0z1
lJWVYfbs2VBUVMSWLVvw22+/ISkpCb1794aKigr++OMP7NmzByYmJhg6dCjS0tIwcOBA8Hg8ZGdn
Q1dXFy4uLnLL2IiMjMTevXtx7Ngx5iYJDQ3FqlWr8Pz5c5w/fx7BwcE4dOgQSktLmYJ0gLjlN3jw
YBgZGcktJikQCLBx40Z07twZO3bsQFRUFE6cOAFXV1dYWFjg9u3b+O233zBgwABs3LgRf/75J4YO
HQpNTU0oKiqif//+6Nmzp1xjpnw+H1999RXc3d2xYcMGnD17Fn5+fnB3d4eBgQF8fHxw4sQJzJ49
GxoaGoiPj8eQIUMAALq6umjTpo1MBwhWJDU1FT/++CMOHz6M+fPn4/r167h58ybc3NxgZWWFsLAw
BAQEYMmSJdDX1wefz0ffvn3B4/FQXl6OESNGyLWhAdTNZiMjI2FqagoHBwcMHz4cPXv2xIoVK9Cs
WTOZaqqL3bq6ujLX1MHBAQoKCnj9+jX+/PNPufTF1MVmi4uLkZSUhLFjxzLpql999RVmzJgBJSWl
d7MLmWT6y4jy8nLm/6+//prmzp3LfB4/fjz16dOHwsPDiYiYAQU5OTk0ZswYysnJkau24uJimjp1
Kt25c4eIiMLCwsjIyIj++usvIiLKy8uj2NhYIhIPFhk2bFi1x5HlwJGKx/r777+pd+/ezOeNGzeS
ra0t3bhxg4jEA5QkLFq0iK5du1blGPIctCQQCKhTp0509+5dIiJ6/Pgxde3alf73v/8x2xQUFBCR
+Nx+/fXXVfRV91lWCIVCio6OpunTp1NiYiIREUVHR5OSkhL9888/RERUWFjInKPAwECaO3cuiUQi
uWkSCATM/0lJSeTq6koPHz4kIqJr165Ry5Ytae/evVJ2Q0T066+/0rp16+SiqTJstlmiututq6tr
tccpLy+XyXWuj836+flVOZ5QKHxnu2VFzP7w4cMYOHAgTp06xSybOnUqHjx4gHPnzsHb2xvKyspw
cHCAl5cXAHEr7NixY+jWrRtatWoFdXV1mcZzk5OTcfHiRSb2n5OTA3V1dTx79gwAYG5uDktLS4SF
hSEtLQ06Ojpo27YtEhMTsXHjRibmVhGSYat0+/btTCchADg4OEBHRwd///03AHHHWM+ePXHs2DGI
RCIYGBiAz+dj1apVCAkJYV7nK+qRZQgnMDAQP/zwAzOYR0lJCRMmTMC2bdsAiM9nly5dkJKSgmvX
rgEANDU14e/vDw8PD+jp6VV7PWXZqt+/fz927twJQPzbDQwMkJGRAT8/PxQUFODZs2dwcHBg+ls0
NDQgFApx6NAhzJ8/HwMGDACPx5PLm8by5cvx008/ITs7G4C4L6Vz587Yv38/CgoKEBERgR49eiA5
OZmJ4WZmZmL16tXYuXMn89YmL9hos0D97dbR0bGKJpFIBEVFxXpf5/rabJMmTaSOR0RQUFB4d7ut
+7NJtty/f59sbW1p7ty5tGDBAkpKSmLWnThxgjw8PMjZ2ZmCg4Pp999/p+3btxMR0atXr2jXrl3k
7+8vc03nzp0jVVVVatGiBUVGRjJP4xMnTtCUKVNo1KhR1K1bN9q3bx/17t2bwsLCiEjc2urRowd9
9913MtckITs7mwYOHEht2rQhd3d3pqVXXl5Op06dIkdHR3JwcKAZM2bQ5cuXadGiRSQQCCg/P592
795N48aNo5cvX8pNHxHR4cOHSVtbm4YOHcpcLyKi3NxccnJyonHjxlGnTp3o3LlztHr1agoMDCQi
8b0wevRoOnDggFz1lZSU0KZNm6hFixakra1NMTExzLqzZ8+Sh4cHDRgwgIYOHUrx8fHUuXNnCgkJ
ISIiHx8f6t+/P9P6kjV8Pp++//57MjMzo7FjxzJvYEREERER5OHhQUOGDKEZM2bQw4cPqXfv3pSe
nk5ERCdPnqTFixdL2ZA8YKPNErHXbtlis43u7MvKyig+Pp6ePn1KS5culXIORNKvsvv27aO1a9fK
VY9QKCRvb28KDQ2lZcuW0YoVKygvL4+IxBcnPz+fvLy8KCEhgYiIPDw86PDhw8xvyc7OljqWPPD3
96fw8HDatGkTrVmzRmpdTk4O47ySk5PJ0dGRysrKiOhNmETyW+RFTEwM3bx5k3x9fWn27Nl0//59
Zh2fz2fOHRHR6NGj6fz580QkfuWuiDw1Xr58mYRCIa1cuZLGjx9fZf2jR4+Y/z08PJhQhLwRCAT0
8OFDKiwspLVr19L3338vdb6IiNLS0pj/x44dy2iV5/mqCNtsloj9dssGm210Z18xhnX69GmaPXs2
PXjwgIikY3wbN26kNm3aMK1AeWrJzc0lIqL4+Hjq168fXb9+vdrYbHBwMDk7O1NycrLUclnF92pC
cl58fHxozpw5dPXqVanlRESpqak0bdo0Wr16dZWbRN5OQXL85ORkWrt2La1cubLa7U6ePEl9+vRh
YqYS5Nl3ILkufD6fiMQPGAsLC+YcSoxMwoYNG8jR0ZGysrLkpqkykofekydPaPLkyfTvv/8yuiTn
JjY2lmbNmkUuLi5UUlLSYNqI2GWzFfWw2W7ZYLMNFrMXiUTV5qnyeDwmRmZvbw9TU1MmRiqJRV24
cAHR0dG4fPlytbHw+lAxr1wSk5OM3mvVqhWGDRuGI0eOIC0tjVlfXFyMb7/9FpMmTcKECROqpAPK
Ir4H1DxGQHLsbt26oX379vD29gafz2fO1/379zF69GgYGhrihx9+qJJbLctca8n5owpxTsnxTU1N
0atXL2RlZeHixYvM+vLycnh4eODAgQP48ccf0bZtW6ljyrLvQDJRjkSj5Nypq6tDKBRCTU0Nixcv
xpo1ayAUCpnBRzk5OZg9ezYCAwNx6NAhuaQsVh7TIDmHampqAABLS0t069YNgYGBTN66goIChEIh
5s6dC21tbXh7e8stN52tNguw125ZbbP1fly8hZSUFKlWUWlpKfN/dU+rmzdv0tKlS2nHjh20atUq
Ki0tlUtLtPITPDw8XOr1U/LELSoqImdnZ7p06RIREUVGRhKROH5a8bfIOsumutZtdd9x8+ZNWrZs
GXl5eVFwcDBzriu+6sujpVzxXBUVFVXRKPmbnp5Oe/bsodWrV1NsbCzdvHmTiMStr4r7yKNFlZWV
xcRhY2JiqpSsrfidffr0oVOnTlFSUhJ5e3sTkfQ5lDUVr0lkZGSVe1yyPiMjg+bPn09///03HTx4
kNFW8fVe1rDVZonYa7cfgs3K3dkPGjSIDhw4QAUFBTR79mwaP348bd68ucp2kpOSmJhItra2ZGho
SBs3bpS5nson//bt2zRjxgxasWKF1E1A9MahXblyhT777DNq3bo1eXh4SF2IijeaLKhoJI8ePaIf
fviBuVGr009EtHr1atLR0SFzc3OKjo5mltclLet98ff3p2HDhtHZs2eJqHpnEBYWRp07dyYFBQVa
v3691Dp5OIWKx5w4cSJZWFhQ586dGY3Vbevt7U08Ho/MzMzoxIkTMtdUHc+fPydXV1eaOHEixcXF
VVkvudYbNmwgXV1dsrCwoOvXr8tdF9tstuJ3SWCT3X4oNisXZ19eXs6cgHPnztHQoUNp2bJltHjx
YgoNDaWuXbvSpk2biKjqE8zNzY0mTZpEhYWFctFVkUePHhGPx2O0VEdubi65ublR+/btydfXV+aa
JFQ8D3w+ny5dukSOjo40ZcoUmjRpEu3du7fKdkREnp6epKamRnv27JGbNqKqN+zdu3epffv2NGPG
DOrVqxdNmjSJMTrJtuXl5ZSTk0OmpqY0fPhwuU8qU/kNISYmhjZu3EgGBga1Zs9I7sk5c+bIrcVc
+d7LycmRuq7VIRKJKDw8nMzMzGjHjh1y0VVRHxttVqKtImyxW7bbbGVk6uxFIlG1LbV58+ZRly5d
mKfdo0ePqE2bNpSRkUFE4pMh2U8eN0zFk11YWEjnz59nBiyMGTOGRowYQURVs0GIxINZvLy8mM81
/UZZsmDBArKwsGCyWLy9vWnAgAGUkpJCROLfI3FqGRkZlJ+fz+wr6zeNykjO0caNG+mPP/4gIvEA
o5kzZ9Lu3bsZfURvnH5oaCizf3l5uVxaLhWP6efnR7169aJt27ZReXk5bdu2jYYPH05E0h2wEn0v
X76skvEiKyo/JCWv7BkZGeTg4MAM4KrcOpVQVFQk1w5Yttqs5DsksN1u2WyzEmTi7FNTU5nsBiKi
Fy9e0LRp02jHjh10//59SktLo549e1JwcDAT3x05ciRt27ZNFl//zvzzzz/UtWtXGjRoEI0YMYL8
/PwoOzub1NXVmdSn2m4IeV0UoVBIaWlptHbtWrp37x6lpaVR27ZtKSAggIjErZRvvvmGvvnmGyKq
ftSrQCCQedxbcmzJ39OnT9POnTuJiGjSpEm0YsUKIiLKz8+no0ePkrOzc7U3t0SzrI0tMTGRfH19
KS8vj9F4//596t+/P12+fFlq206dOtGZM2eI6E3Whrwf2pUfQD169KA5c+bQ0aNH6fnz57Rw4UK6
deuW1D6SUaXyDr99KDZLxE67ZavN1ka90h6EQiF++OEH9O7dmykpfOfOHXzxxRcYOHAgTExMMGXK
FKiqqsLZ2RkHDx5kKvSpqqqid+/e9e9hrobr168zkyQA4l74gwcPYsmSJTh06BCuXbuGESNG4MSJ
EygpKcGqVaswd+5cALVngsiqrs2SJUuwYcMGAOLJoBUUFKCnp4e0tDT4+fnB2NgYU6ZMwc8//wwA
0NHRwaRJk3D16lVERERUO+pVSUlJ5iM5JceWZLSUlZUhKioKt2/fxvz58xEVFYWUlBTiQfNVAAAJ
0klEQVRoa2tDVVUVxcXFTHVFBQUFKT08Hk9mWUAikQgrVqxA//794enpiWnTpmHlypUAxLXnmzVr
BhcXFwDi8tIAsGrVKuzYsQPz58+Hq6ur3KpTvnr1Cg8fPgSfz2eWBQUFYe/evTh16hTc3NywZMkS
pKWlQUNDA+fPn0dgYCBev36NOXPmVMlqkTVstVmA3Xb7odhsrbzvU+Ly5ctkZGRE3333nVS+6sGD
B+n69et09+5d6tGjBy1cuJCIiF6/fk2DBw+mwYMH07Bhw2jChAlSWRyyIjs7m5o3b06DBg1iwgwi
kYju3r1LxsbGTCddYmIirVixgplsm8fjNUjnFxHRjRs3SF9fn549e0ZffPEFk3Pr7+9PM2fOpMuX
L5NIJKLOnTszA474fD5TV0ZeXLt2TaqjsKSkhH7++Wdyd3cnInGLZMWKFbR582aKioqiFStW0KBB
g8jLy4ucnJxo0aJFtHDhQrnXPNm3bx+NGTOGac3FxMRQixYt6Pz583TkyBFatGgR03onepMt5O3t
TVu2bGFGnMqS8vJyWrlyJVlaWpKbmxu5uLjQjz/+SETi67p+/Xratm0bdevWjensTE5Opr1795Kr
qyt16tSp1hi0LGCrzRKx327ZarN14b2d/Z07d4jH4zGfAwIC6OHDh3Tw4EFSUVGhUaNGUVBQEBG9
KSB1+PBhWrhwIROnlAc5OTk0fPhwOnr0KDk4ONChQ4cYp7B161aaOHEis+2sWbPo999/JyJihjDL
G8lr2/jx42nUqFF08uRJmjp1KrN+zZo1NG/ePBIKhfTnn39Shw4dGqQYWE3Gdvv2bRo1ahQzbP/W
rVs0duxY8vX1JaFQSLt27aJp06ZRREQEnT17lhYtWiRzbRURCAT0+eefM2EaSYfq4cOH6fPPP6cn
T57QsGHD6Oeff6acnBwKDw+n2bNny3UErK+vLzVt2pRWrlxJmZmZxOfzKSgoiLS1tcnf358uXrxI
VlZWNHv2bCZmn5WVxZQZSElJkYrhygu22iwRu+2WrTZbV+oVs//8889pzJgx9L///Y+6du1KV65c
odjYWOrbty/jHNLS0mjGjBnk4+MjE8HvwtSpU2nnzp10//59mjNnDm3YsIHKysro5cuX5ODgQPPm
zaOLFy9Sx44dmU6cyvFpeSG56NnZ2aSjo0OnT5+mhQsX0pEjR4iIKCgoiFq0aEGenp5ERFVyw+VF
dcYm6YTbuXOn1M3dv39/GjduHJMylp+fT7/++itZWlrS8ePH5a51woQJ9MsvvxCRdKzW2tqavL29
KTw8nDw8PMjFxYU6derEVDiUF5WdqKTDcMeOHdSzZ0/KycmhYcOG0aFDh6ikpIQiIiLI3t6e6f9o
SNhqs0TstVu22mxdqZezz8nJIQ0NDamypkREf/31F7Vv357mzp1LNjY2NQ6Xlxdnz55lXpV/+eUX
0tHRoSVLllBRURGdPHmSOnfuTLNmzWqw1nxlJA5q7dq11KVLF/L396eOHTtSREQELV26lKZOnUoR
ERHM9vJ+AEmoydhSUlJo6NChtH79evLx8aEhQ4YwjouI6NKlS7R69Wq5hEeqY9++feTh4cF8n6RV
vGzZMtqyZQuzXcX6NvLmiy++YMJdFTN+TE1Nyd/fnynb7OLiQnZ2dg3yUKwOttosEbvtlq02Wxfq
nY2zZs0aGjhwIBGJb3LJj3zx4gWdP3++Sv2JhuDo0aM0duxYGjduHFlZWdGhQ4fIzc2NZs6cSV5e
XrR69WrasGEDETV8j3hlzMzM6OzZs3To0CHq169foxiZhJqMrby8nB4/fkxjxowhZ2dnpg6KhIYq
wCVBksmya9cuqeXjxo2Tex2Wmnj9+jVpa2tTVFQUEb1JR5w6dapULj0bWn1stFmiD8du2WSzdUEm
qZfm5ubMBA815Qs3JLm5uaSvr08LFixglj1//pwCAgKovLycfH19aejQofTq1atG0ygxsJMnT1KH
Dh2I6O3D0uVNZWP7888/yc3NjaZMmUKxsbFS+cw1DQ9vKHx9fal79+60bt06unDhAjk7O5OLiwuT
+tkYfP/999SrVy+pZcOGDWNK6bIJttksEfvtlo02Wxdk4uxPnjxJysrKsjiUzFi0aBFduXKFiKpe
hPz8/AbpEHsbkpbJoEGD6PTp00Qkv0FH70J1xhYdHS1VU52IPTd1cHAwbd68mUaOHEn79u1rbDlE
JHai/v7+9OrVK3J2dqZJkyZJZQaxBTbaLBH77ZZtNlsXZJI4PmHCBGRkZEAkEslt5p66EhcXh5KS
EmaWmYpoa2s3kippeDweCgoKoKGhgTZt2gCQbUXKuqKrqwt3d3dmomqhUAgLCwtYWFhIbdeYGivi
4OAABwcHuc5LW1e2bt2KQYMGoXv37pgzZw5mz57d2JKqhY02C7Dfbtlms3VBZrNff/3117I6lEw4
fPgw9PX1G1vGWwkNDYWNjY1cJjR+H2oyNjY51MqwSdf48eORn5+PadOmya30sKxgm80CH4bdss1m
3xUekYwngWQZIpFIbqMRP0ZycnJYb2wcHz+c3cqej97Zc7wfnLFxcHxccM6eg4OD4xOAa7pxcHBw
fAJwzp6Dg4PjE4Bz9hwcHByfAJyz5+Dg4PgE4Jw9BwfEA2Ps7OxgbW0NW1tb7Ny5E2/LXUhMTMTJ
kycbSCEHR/3gnD0HBwANDQ2Eh4cjKioKfn5+8PX1xbp162rdJz4+HidOnGgghRwc9YNz9hwclTAy
MoKnpyd+/fVXAEBCQgL69euHrl27omvXrrh9+zYA4Ntvv8WtW7dgZ2eHn3/+GSKRCMuWLUOPHj1g
Y2MDT0/PxvwZHBxScHn2HBwQ110pKCiQWqavr4/o6GhoaWlBQUEBqqqqiImJwaRJk3D//n3cuHED
27dvh5eXFwDA09MTmZmZWLVqFUpLS9GnTx/8888/aNWqVSP8Ig4OaWRWG4eD42OlrKwMCxcuxMOH
D6GoqIiYmBgAqBLTv3r1Kh49esRMGp6fn4/Y2FjO2XOwAs7Zc3BUQ1xcHBQVFWFkZIS1a9fCxMQE
x44dg1AohJqaWo37/frrr3BycmpApRwc7wYXs+fgqERmZibmzZsHDw8PAOIWerNmzQAAR48ehVAo
BFA19OPi4oK9e/eivLwcABAdHQ0+n9/A6jk4qodr2XNwACguLoadnR0EAgGUlJQwbdo0LF68GADw
1VdfYcyYMTh69CiGDBkCLS0tAICNjQ0UFRVha2uLGTNm4Ouvv0ZCQgK6dOkCIkLTpk1x7ty5xvxZ
HBwMXActBwcHxycAF8bh4ODg+ATgnD0HBwfHJwDn7Dk4ODg+AThnz8HBwfEJwDl7Dg4Ojk8Aztlz
cHBwfAL8HzFd0wuzLE4hAAAAAElFTkSuQmCC
"
>
</div>

</div>

<div class="output_area"><div class="prompt"></div>


<div class="output_png output_subarea ">
<img src="data:image/png;base64,iVBORw0KGgoAAAANSUhEUgAAAXwAAAENCAYAAAAMmd6uAAAABHNCSVQICAgIfAhkiAAAAAlwSFlz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"
>
</div>

</div>

</div>
</div>

</div>
<div class="cell border-box-sizing code_cell rendered">
<div class="input">
<div class="prompt input_prompt">In&nbsp;[12]:</div>
<div class="inner_cell">
    <div class="input_area">
<div class="highlight"><pre><span class="n">plt</span><span class="o">.</span><span class="n">plot</span><span class="p">(</span><span class="n">data</span><span class="o">.</span><span class="n">PEP</span><span class="p">,</span> <span class="n">data</span><span class="o">.</span><span class="n">KO</span><span class="p">,</span> <span class="s">&#39;x&#39;</span><span class="p">)</span>
<span class="n">plt</span><span class="o">.</span><span class="n">xlabel</span><span class="p">(</span><span class="s">&#39;PEP&#39;</span><span class="p">)</span>
<span class="n">plt</span><span class="o">.</span><span class="n">ylabel</span><span class="p">(</span><span class="s">&#39;KO&#39;</span><span class="p">)</span>
</pre></div>

</div>
</div>
</div>

<div class="output_wrapper">
<div class="output">


<div class="output_area"><div class="prompt output_prompt">Out[12]:</div>


<div class="output_text output_subarea output_pyout">
<pre>
&lt;matplotlib.text.Text at 0xdc2898c&gt;
</pre>
</div>

</div>

<div class="output_area"><div class="prompt"></div>


<div class="output_png output_subarea ">
<img src="data:image/png;base64,iVBORw0KGgoAAAANSUhEUgAAAX8AAAEKCAYAAAD6q1UVAAAABHNCSVQICAgIfAhkiAAAAAlwSFlz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"
>
</div>

</div>

</div>
</div>

</div>
<div class="cell border-box-sizing text_cell rendered">
<div class="prompt input_prompt">
</div>
<div class="inner_cell">
<div class="text_cell_render border-box-sizing rendered_html">
<p>Normally, we&#39;d run a statistical test for cointegration like the <a href="http://en.wikipedia.org/wiki/Dickey%E2%80%93Fuller_test">Dickey-Fuller test</a> but we&#39;ll skip this here.</p>
<h2 id="idea-of-the-strategy">Idea of the strategy</h2>
<p>Now, we can exploit this mean-reversion property of the integrated series as follows: Assume that PEP and KO drift apart, as they do Nov 1997. If we assume that they are mean-reverting we expect this gap to close again as the stocks prices come back together (which they do by Jan 1998). In other words, during this time where the spread is large, we think that PEP is overvalued, while KO is undervalued. We thus short PEP with the expectation that it will go down, and long KO under the expectation that it will go up.</p>
<h2 id="estimating-the-regression-coefficients">Estimating the regression coefficients</h2>
<p>In this particular example it seems we can just subtract them but in reality it might be that the correlation is not 1. In our algorithm we thus estimate the regression between them in order to create a mean-reverting series using <code>scipy.stats.linregress(price1, price2)</code>.</p>
<h2 id="batchtransform">BatchTransform</h2>
<p>However, Zipline is designed in such a way that we ever only have access to the current price. We thus need a window of past events. The <code>batch_transform</code> gives us this functionality. It is a decorator for a function which will, behind the scenes, aggregate the data and pass a <code>pandas</code> <code>Panel</code> (a 3D <code>DataFrame</code>) into our a function.</p>
</div>
</div>
</div>
<div class="cell border-box-sizing code_cell rendered">
<div class="input">
<div class="prompt input_prompt">In&nbsp;[13]:</div>
<div class="inner_cell">
    <div class="input_area">
<div class="highlight"><pre><span class="c"># Warning: This algorithm is written to illustrate the core idea of pairtrading. </span>
<span class="c"># In reality, however, there are many more details we have to consider to make</span>
<span class="c"># this actually work.</span>

<span class="kn">from</span> <span class="nn">zipline.transforms</span> <span class="kn">import</span> <span class="n">batch_transform</span>
<span class="kn">from</span> <span class="nn">scipy</span> <span class="kn">import</span> <span class="n">stats</span>

<span class="nd">@batch_transform</span>
<span class="k">def</span> <span class="nf">regression_transform</span><span class="p">(</span><span class="n">data</span><span class="p">):</span>
    <span class="sd">&quot;&quot;&quot;Computes regression coefficient (slope and intercept)</span>
<span class="sd">    via Ordinary Least Squares between two SIDs.</span>
<span class="sd">    &quot;&quot;&quot;</span>
    <span class="c"># data is now an array containg all past events up until now</span>
    <span class="n">pep_price</span> <span class="o">=</span> <span class="n">data</span><span class="o">.</span><span class="n">price</span><span class="p">[</span><span class="s">&#39;PEP&#39;</span><span class="p">]</span>
    <span class="n">ko_price</span> <span class="o">=</span> <span class="n">data</span><span class="o">.</span><span class="n">price</span><span class="p">[</span><span class="s">&#39;KO&#39;</span><span class="p">]</span>
    <span class="n">slope</span><span class="p">,</span> <span class="n">intercept</span><span class="p">,</span> <span class="n">_</span><span class="p">,</span> <span class="n">_</span><span class="p">,</span> <span class="n">_</span> <span class="o">=</span> <span class="n">stats</span><span class="o">.</span><span class="n">linregress</span><span class="p">(</span><span class="n">pep_price</span><span class="p">,</span> <span class="n">ko_price</span><span class="p">)</span>

    <span class="k">return</span> <span class="n">intercept</span><span class="p">,</span> <span class="n">slope</span>


<span class="k">class</span> <span class="nc">Pairtrade</span><span class="p">(</span><span class="n">zp</span><span class="o">.</span><span class="n">TradingAlgorithm</span><span class="p">):</span>
    <span class="sd">&quot;&quot;&quot;Pairtrading relies on cointegration of two stocks.</span>

<span class="sd">    The expectation is that once the two stocks drifted apart</span>
<span class="sd">    (i.e. there is spread), they will eventually revert again. Thus,</span>
<span class="sd">    if we short the upward drifting stock and long the downward</span>
<span class="sd">    drifting stock (in short, we buy the spread) once the spread</span>
<span class="sd">    widened we can sell the spread with profit once they converged</span>
<span class="sd">    again. A nice property of this algorithm is that we enter the</span>
<span class="sd">    market in a neutral position.</span>

<span class="sd">    This specific algorithm tries to exploit the cointegration of</span>
<span class="sd">    Pepsi and Coca Cola by estimating the correlation between the</span>
<span class="sd">    two. Divergence of the spread is evaluated by z-scoring.</span>
<span class="sd">    &quot;&quot;&quot;</span>

    <span class="k">def</span> <span class="nf">initialize</span><span class="p">(</span><span class="bp">self</span><span class="p">,</span> <span class="n">window_length</span><span class="o">=</span><span class="mi">100</span><span class="p">):</span>
        <span class="bp">self</span><span class="o">.</span><span class="n">set_slippage</span><span class="p">(</span><span class="n">FixedSlippage</span><span class="p">())</span>
        <span class="bp">self</span><span class="o">.</span><span class="n">invested</span> <span class="o">=</span> <span class="bp">False</span>
        <span class="bp">self</span><span class="o">.</span><span class="n">regression_transform</span> <span class="o">=</span> <span class="n">regression_transform</span><span class="p">(</span><span class="n">refresh_period</span><span class="o">=</span><span class="mi">500</span><span class="p">,</span>
                                                         <span class="n">window_length</span><span class="o">=</span><span class="n">window_length</span><span class="p">)</span>

    <span class="k">def</span> <span class="nf">handle_data</span><span class="p">(</span><span class="bp">self</span><span class="p">,</span> <span class="n">data</span><span class="p">):</span>
        <span class="c"># 1. Compute regression coefficients between PEP and KO</span>
        <span class="n">params</span> <span class="o">=</span> <span class="bp">self</span><span class="o">.</span><span class="n">regression_transform</span><span class="o">.</span><span class="n">handle_data</span><span class="p">(</span><span class="n">data</span><span class="p">)</span>
        <span class="k">if</span> <span class="n">params</span> <span class="ow">is</span> <span class="bp">None</span><span class="p">:</span>
            <span class="bp">self</span><span class="o">.</span><span class="n">record</span><span class="p">(</span><span class="n">buy_spread</span><span class="o">=</span><span class="bp">False</span><span class="p">,</span> <span class="n">sell_spread</span><span class="o">=</span><span class="bp">False</span><span class="p">)</span>
            <span class="k">return</span>
        <span class="n">intercept</span><span class="p">,</span> <span class="n">slope</span> <span class="o">=</span> <span class="n">params</span>

        <span class="c"># 2. Compute spread</span>
        <span class="n">spread</span> <span class="o">=</span> <span class="p">(</span><span class="n">slope</span> <span class="o">*</span> <span class="n">data</span><span class="p">[</span><span class="s">&#39;PEP&#39;</span><span class="p">]</span><span class="o">.</span><span class="n">price</span> <span class="o">+</span> <span class="n">intercept</span><span class="p">)</span> <span class="o">-</span> <span class="n">data</span><span class="p">[</span><span class="s">&#39;KO&#39;</span><span class="p">]</span><span class="o">.</span><span class="n">price</span>
        
        <span class="n">buy_spread</span> <span class="o">=</span> <span class="bp">False</span>
        <span class="n">sell_spread</span> <span class="o">=</span> <span class="bp">False</span>
        <span class="c"># 3. Place orders</span>
        <span class="k">if</span> <span class="n">spread</span> <span class="o">&gt;=</span> <span class="mf">5.0</span> <span class="ow">and</span> <span class="ow">not</span> <span class="bp">self</span><span class="o">.</span><span class="n">invested</span><span class="p">:</span>
            <span class="c"># Stocks drifted apart, long one, short the other</span>
            <span class="bp">self</span><span class="o">.</span><span class="n">order</span><span class="p">(</span><span class="s">&#39;KO&#39;</span><span class="p">,</span> <span class="mi">100</span><span class="p">)</span>
            <span class="bp">self</span><span class="o">.</span><span class="n">order</span><span class="p">(</span><span class="s">&#39;PEP&#39;</span><span class="p">,</span> <span class="o">-</span><span class="mi">100</span><span class="p">)</span>
            <span class="bp">self</span><span class="o">.</span><span class="n">invested</span> <span class="o">=</span> <span class="bp">True</span>
            <span class="n">buy_spread</span> <span class="o">=</span> <span class="bp">True</span>
        <span class="k">elif</span> <span class="n">spread</span> <span class="o">&lt;=</span> <span class="mf">2.</span> <span class="ow">and</span> <span class="bp">self</span><span class="o">.</span><span class="n">invested</span><span class="p">:</span>
            <span class="c"># The spread is closing again, exit positions.</span>
            <span class="c"># ???</span>
            <span class="c"># Profit!</span>
            <span class="bp">self</span><span class="o">.</span><span class="n">order</span><span class="p">(</span><span class="s">&#39;KO&#39;</span><span class="p">,</span> <span class="o">-</span><span class="mi">100</span><span class="p">)</span>
            <span class="bp">self</span><span class="o">.</span><span class="n">order</span><span class="p">(</span><span class="s">&#39;PEP&#39;</span><span class="p">,</span> <span class="mi">100</span><span class="p">)</span>
            <span class="bp">self</span><span class="o">.</span><span class="n">invested</span> <span class="o">=</span> <span class="bp">False</span>
            <span class="n">sell_spread</span> <span class="o">=</span> <span class="bp">True</span>
        
        <span class="c"># Record spread for later analysis</span>
        <span class="bp">self</span><span class="o">.</span><span class="n">record</span><span class="p">(</span><span class="n">spread</span><span class="o">=</span><span class="n">spread</span><span class="p">,</span>
                    <span class="n">buy_spread</span><span class="o">=</span><span class="n">buy_spread</span><span class="p">,</span>
                    <span class="n">sell_spread</span><span class="o">=</span><span class="n">sell_spread</span><span class="p">)</span>
</pre></div>

</div>
</div>
</div>

</div>
<div class="cell border-box-sizing code_cell rendered">
<div class="input">
<div class="prompt input_prompt">In&nbsp;[14]:</div>
<div class="inner_cell">
    <div class="input_area">
<div class="highlight"><pre><span class="c"># Run strategy</span>
<span class="n">pairtrade</span> <span class="o">=</span> <span class="n">Pairtrade</span><span class="p">()</span>
<span class="n">results</span> <span class="o">=</span> <span class="n">pairtrade</span><span class="o">.</span><span class="n">run</span><span class="p">(</span><span class="n">data</span><span class="p">)</span>
</pre></div>

</div>
</div>
</div>

<div class="output_wrapper">
<div class="output">


<div class="output_area"><div class="prompt"></div>
<div class="output_subarea output_stream output_stderr output_text">
<pre>
[2013-07-27 13:23] INFO: Performance: Simulated 356 trading days out of 356.
[2013-07-27 13:23] INFO: Performance: first open: 1997-01-02 14:31:00+00:00
[2013-07-27 13:23] INFO: Performance: last close: 1998-06-01 20:00:00+00:00

</pre>
</div>
</div>

</div>
</div>

</div>
<div class="cell border-box-sizing code_cell rendered">
<div class="input">
<div class="prompt input_prompt">In&nbsp;[15]:</div>
<div class="inner_cell">
    <div class="input_area">
<div class="highlight"><pre><span class="n">ax1</span> <span class="o">=</span> <span class="n">plt</span><span class="o">.</span><span class="n">subplot</span><span class="p">(</span><span class="mi">311</span><span class="p">)</span>
<span class="n">data</span><span class="p">[[</span><span class="s">&#39;PEP&#39;</span><span class="p">,</span> <span class="s">&#39;KO&#39;</span><span class="p">]]</span><span class="o">.</span><span class="n">plot</span><span class="p">(</span><span class="n">ax</span><span class="o">=</span><span class="n">ax1</span><span class="p">)</span>
<span class="n">plt</span><span class="o">.</span><span class="n">ylabel</span><span class="p">(</span><span class="s">&#39;price&#39;</span><span class="p">)</span>
<span class="n">plt</span><span class="o">.</span><span class="n">setp</span><span class="p">(</span><span class="n">ax1</span><span class="o">.</span><span class="n">get_xticklabels</span><span class="p">(),</span> <span class="n">visible</span><span class="o">=</span><span class="bp">False</span><span class="p">)</span>

<span class="n">ax2</span> <span class="o">=</span> <span class="n">plt</span><span class="o">.</span><span class="n">subplot</span><span class="p">(</span><span class="mi">312</span><span class="p">,</span> <span class="n">sharex</span><span class="o">=</span><span class="n">ax1</span><span class="p">)</span>
<span class="n">results</span><span class="o">.</span><span class="n">spread</span><span class="o">.</span><span class="n">plot</span><span class="p">(</span><span class="n">ax</span><span class="o">=</span><span class="n">ax2</span><span class="p">,</span> <span class="n">color</span><span class="o">=</span><span class="s">&#39;k&#39;</span><span class="p">)</span>
<span class="n">ax2</span><span class="o">.</span><span class="n">axhline</span><span class="p">(</span><span class="mi">2</span><span class="p">,</span> <span class="n">color</span><span class="o">=</span><span class="s">&#39;k&#39;</span><span class="p">)</span>
<span class="n">ax2</span><span class="o">.</span><span class="n">axhline</span><span class="p">(</span><span class="mi">5</span><span class="p">,</span> <span class="n">color</span><span class="o">=</span><span class="s">&#39;k&#39;</span><span class="p">)</span>
<span class="n">plt</span><span class="o">.</span><span class="n">ylabel</span><span class="p">(</span><span class="s">&#39;spread&#39;</span><span class="p">)</span>
<span class="n">plt</span><span class="o">.</span><span class="n">setp</span><span class="p">(</span><span class="n">ax2</span><span class="o">.</span><span class="n">get_xticklabels</span><span class="p">(),</span> <span class="n">visible</span><span class="o">=</span><span class="bp">False</span><span class="p">)</span>

<span class="n">ax3</span> <span class="o">=</span> <span class="n">plt</span><span class="o">.</span><span class="n">subplot</span><span class="p">(</span><span class="mi">313</span><span class="p">,</span> <span class="n">sharex</span><span class="o">=</span><span class="n">ax1</span><span class="p">)</span>
<span class="n">results</span><span class="o">.</span><span class="n">portfolio_value</span><span class="o">.</span><span class="n">plot</span><span class="p">(</span><span class="n">ax</span><span class="o">=</span><span class="n">ax3</span><span class="p">,</span> <span class="n">color</span><span class="o">=</span><span class="s">&#39;k&#39;</span><span class="p">)</span>
<span class="n">plt</span><span class="o">.</span><span class="n">ylabel</span><span class="p">(</span><span class="s">&#39;portfolio value&#39;</span><span class="p">)</span>

<span class="c"># Plot spread enter and exit markers</span>
<span class="n">enter_pos</span> <span class="o">=</span> <span class="n">results</span><span class="o">.</span><span class="n">index</span><span class="p">[</span><span class="n">results</span><span class="o">.</span><span class="n">buy_spread</span><span class="p">]</span>
<span class="n">exit_pos</span> <span class="o">=</span> <span class="n">results</span><span class="o">.</span><span class="n">index</span><span class="p">[</span><span class="n">results</span><span class="o">.</span><span class="n">sell_spread</span><span class="p">]</span>
<span class="k">for</span> <span class="n">ax</span> <span class="ow">in</span> <span class="p">[</span><span class="n">ax1</span><span class="p">,</span> <span class="n">ax2</span><span class="p">,</span> <span class="n">ax3</span><span class="p">]:</span>
    <span class="n">ax</span><span class="o">.</span><span class="n">axvline</span><span class="p">(</span><span class="n">enter_pos</span><span class="p">,</span> <span class="n">c</span><span class="o">=</span><span class="s">&#39;g&#39;</span><span class="p">)</span>
    <span class="n">ax</span><span class="o">.</span><span class="n">axvline</span><span class="p">(</span><span class="n">exit_pos</span><span class="p">,</span> <span class="n">c</span><span class="o">=</span><span class="s">&#39;r&#39;</span><span class="p">)</span>
<span class="n">plt</span><span class="o">.</span><span class="n">gcf</span><span class="p">()</span><span class="o">.</span><span class="n">set_size_inches</span><span class="p">(</span><span class="mi">16</span><span class="p">,</span> <span class="mi">12</span><span class="p">)</span>
</pre></div>

</div>
</div>
</div>

<div class="output_wrapper">
<div class="output">


<div class="output_area"><div class="prompt"></div>


<div class="output_png output_subarea ">
<img src="data:image/png;base64,iVBORw0KGgoAAAANSUhEUgAAA7AAAAKTCAYAAAAg8uTuAAAABHNCSVQICAgIfAhkiAAAAAlwSFlz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"
>
</div>

</div>

</div>
</div>

</div>
<div class="cell border-box-sizing text_cell rendered">
<div class="prompt input_prompt">
</div>
<div class="inner_cell">
<div class="text_cell_render border-box-sizing rendered_html">
<h2 id="Optional:-Zipline-version-of-Google-Strategy">Optional: Zipline version of Google Strategy<a class="anchor-link" href="#Optional:-Zipline-version-of-Google-Strategy">&#182;</a></h2>
</div>
</div>
</div>

<div class="cell border-box-sizing code_cell rendered">
<div class="input">
<div class="prompt input_prompt">In&nbsp;[16]:</div>
<div class="inner_cell">
    <div class="input_area">
<div class="highlight"><pre><span class="c"># Load Preis data</span>
<span class="n">data</span> <span class="o">=</span> <span class="n">pd</span><span class="o">.</span><span class="n">read_csv</span><span class="p">(</span><span class="s">&#39;data/GoogleTrendsData.csv&#39;</span><span class="p">,</span> <span class="n">index_col</span><span class="o">=</span><span class="s">&#39;Date&#39;</span><span class="p">,</span> <span class="n">parse_dates</span><span class="o">=</span><span class="bp">True</span><span class="p">)</span>
<span class="n">data</span><span class="o">.</span><span class="n">index</span> <span class="o">=</span> <span class="n">data</span><span class="o">.</span><span class="n">index</span><span class="o">.</span><span class="n">tz_localize</span><span class="p">(</span><span class="n">pytz</span><span class="o">.</span><span class="n">UTC</span><span class="p">)</span>
<span class="n">data</span><span class="o">.</span><span class="n">head</span><span class="p">()</span>
</pre></div>

</div>
</div>
</div>

<div class="output_wrapper">
<div class="output">


<div class="output_area"><div class="prompt output_prompt">Out[16]:</div>

<div class="output_html rendered_html output_subarea output_pyout">
<div style="max-height:1000px;max-width:1500px;overflow:auto;">
<table border="1" class="dataframe">
  <thead>
    <tr style="text-align: right;">
      <th></th>
      <th>djia</th>
      <th>debt</th>
    </tr>
    <tr>
      <th>Date</th>
      <th></th>
      <th></th>
    </tr>
  </thead>
  <tbody>
    <tr>
      <th>2004-01-14 00:00:00+00:00</th>
      <td> 10485.18</td>
      <td> 0.210000</td>
    </tr>
    <tr>
      <th>2004-01-22 00:00:00+00:00</th>
      <td> 10528.66</td>
      <td> 0.210000</td>
    </tr>
    <tr>
      <th>2004-01-28 00:00:00+00:00</th>
      <td> 10702.51</td>
      <td> 0.210000</td>
    </tr>
    <tr>
      <th>2004-02-04 00:00:00+00:00</th>
      <td> 10499.18</td>
      <td> 0.213333</td>
    </tr>
    <tr>
      <th>2004-02-11 00:00:00+00:00</th>
      <td> 10579.03</td>
      <td> 0.200000</td>
    </tr>
  </tbody>
</table>
</div>
</div>

</div>

</div>
</div>

</div>
<div class="cell border-box-sizing code_cell rendered">
<div class="input">
<div class="prompt input_prompt">In&nbsp;[17]:</div>
<div class="inner_cell">
    <div class="input_area">
<div class="highlight"><pre><span class="c"># window length of 3 as in original publication</span>
<span class="n">delta_t</span> <span class="o">=</span> <span class="mi">3</span>

<span class="k">class</span> <span class="nc">GoogleTrends</span><span class="p">(</span><span class="n">zp</span><span class="o">.</span><span class="n">TradingAlgorithm</span><span class="p">):</span>
    <span class="k">def</span> <span class="nf">initialize</span><span class="p">(</span><span class="bp">self</span><span class="p">):</span>
        <span class="c"># Moving window. Defining maxlen causes the window length </span>
        <span class="c"># to remain constant as old events get dropped once full.</span>
        <span class="bp">self</span><span class="o">.</span><span class="n">window</span> <span class="o">=</span> <span class="n">deque</span><span class="p">(</span><span class="n">maxlen</span><span class="o">=</span><span class="n">delta_t</span><span class="p">)</span>
        <span class="c"># Turns off slippage to simplify simulation.</span>
        <span class="bp">self</span><span class="o">.</span><span class="n">set_slippage</span><span class="p">(</span><span class="n">FixedSlippage</span><span class="p">())</span>
    
    <span class="k">def</span> <span class="nf">handle_data</span><span class="p">(</span><span class="bp">self</span><span class="p">,</span> <span class="n">data</span><span class="p">):</span>
        <span class="n">window_full</span> <span class="o">=</span> <span class="nb">len</span><span class="p">(</span><span class="bp">self</span><span class="o">.</span><span class="n">window</span><span class="p">)</span> <span class="o">==</span> <span class="n">delta_t</span>
        
        <span class="c"># Extract debt search volume. </span>
        <span class="c"># &#39;price&#39; is the default field used if no further information is supplied.</span>
        <span class="n">debt</span> <span class="o">=</span> <span class="n">data</span><span class="p">[</span><span class="s">&#39;debt&#39;</span><span class="p">][</span><span class="s">&#39;price&#39;</span><span class="p">]</span>
        
        <span class="c"># Exit any prior positions</span>
        <span class="k">if</span> <span class="s">&#39;djia&#39;</span> <span class="ow">in</span> <span class="bp">self</span><span class="o">.</span><span class="n">portfolio</span><span class="o">.</span><span class="n">positions</span><span class="p">:</span>
            <span class="bp">self</span><span class="o">.</span><span class="n">order</span><span class="p">(</span><span class="s">&#39;djia&#39;</span><span class="p">,</span> <span class="o">-</span><span class="bp">self</span><span class="o">.</span><span class="n">portfolio</span><span class="o">.</span><span class="n">positions</span><span class="p">[</span><span class="s">&#39;djia&#39;</span><span class="p">][</span><span class="s">&#39;amount&#39;</span><span class="p">])</span>
            
        <span class="c"># Moving average cross-over logic</span>
        <span class="k">if</span> <span class="n">debt</span> <span class="o">&gt;</span> <span class="n">np</span><span class="o">.</span><span class="n">mean</span><span class="p">(</span><span class="bp">self</span><span class="o">.</span><span class="n">window</span><span class="p">)</span> <span class="ow">and</span> <span class="n">window_full</span><span class="p">:</span>
            <span class="bp">self</span><span class="o">.</span><span class="n">order</span><span class="p">(</span><span class="s">&#39;djia&#39;</span><span class="p">,</span> <span class="o">-</span><span class="mi">100</span><span class="p">)</span>
        <span class="k">elif</span> <span class="n">debt</span> <span class="o">&lt;</span> <span class="n">np</span><span class="o">.</span><span class="n">mean</span><span class="p">(</span><span class="bp">self</span><span class="o">.</span><span class="n">window</span><span class="p">)</span> <span class="ow">and</span> <span class="n">window_full</span><span class="p">:</span>
            <span class="bp">self</span><span class="o">.</span><span class="n">order</span><span class="p">(</span><span class="s">&#39;djia&#39;</span><span class="p">,</span> <span class="mi">100</span><span class="p">)</span>
        
        <span class="bp">self</span><span class="o">.</span><span class="n">window</span><span class="o">.</span><span class="n">append</span><span class="p">(</span><span class="n">debt</span><span class="p">)</span>
</pre></div>

</div>
</div>
</div>

</div>


     <!-- <hr/> -->
     <div class="row hidden-print">
      <div class="span12 text-center">
        <a href="#">Back to top</a>
      </div>
    </div>

     <!-- Footer
     ================================================== -->
      
      <footer class="footer hidden-print">
      <div class="span12 row-fluid footer-row">
          <div class="span4">
            <p>This web site does not host notebooks, it only renders notebooks available on other websites.</p>
          </div>

          <div class="span4">
            <p>Thanks to <a href="https://developer.rackspace.com/?nbviewer=awesome">Rackspace</a> for hosting.</p>
            <p>nbviewer GitHub <a href="https://github.com/ipython/nbviewer">repository</a>.</p>
            <p>nbviewer <a href="https://github.com/ipython/nbviewer/blob/master/LICENSE.txt" target="_blank">license</a>.</p>
          </div>

          <div class="span4">
            

              
                <p>
                    nbviewer version:
                    <a href="https://github.com/ipython/nbviewer/commit/303942be8c266032286003939d701cf104821dfc">303942b</a>
                </p>
              
            

<p class="text-muted">
    IPython version: 2.4.0-maint
    
</p>


            

            

<p class="text-muted">
Rendered <span class='date' data-date='Mon, 15 Dec 2014 00:38:51 UTC' title='Mon, 15 Dec 2014 00:38:51 UTC'>(Mon, 15 Dec 2014 00:38:51 UTC)</span>
</p>


          </div>
      </div>
      </footer>
      

    </div><!-- /container -->

    <script src="/static/js/bootstrap-collapse.js"></script>
    <script src="/static/components/headroom.js/dist/headroom.min.js"></script>
    <script src="/static/components/headroom.js/dist/jQuery.headroom.min.js"></script>


    
    
    
    <script>
    $(document).ready(
                function(){
                    $("#menubar").headroom({
                        "tolerance": 5,
                        "offset": 205,
                        "classes": {
                            "initial": "animated",
                            "pinned": "slideInDown",
                            "unpinned": "slideOutUp"
                        }
                    })
                }
            );
    </script>


    <!-- Analytics
    ================================================== -->
    <script>
      (function(i,s,o,g,r,a,m){i['GoogleAnalyticsObject']=r;i[r]=i[r]||function(){
        (i[r].q=i[r].q||[]).push(arguments)},i[r].l=1*new Date();a=s.createElement(o),
        m=s.getElementsByTagName(o)[0];a.async=1;a.src=g;m.parentNode.insertBefore(a,m)
      })(window,document,'script','//www.google-analytics.com/analytics.js','ga');

      ga('create', 'UA-38683231-2', 'auto');
      ga('send', 'pageview');

    </script>
    <script>
        var update_date  = function(){
            var str = window.moment($('.date').data('date')).fromNow();
            $('.date').text(str);
        }
        setInterval(update_date , 61*1000);
        $(update_date);
    </script>
    <!--NEW RELIC Stop Perf Measurement-->
    
    <!--NEW RELIC End-->
  </body>
</html>